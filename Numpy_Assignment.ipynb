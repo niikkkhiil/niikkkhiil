{
  "nbformat": 4,
  "nbformat_minor": 0,
  "metadata": {
    "colab": {
      "provenance": [],
      "authorship_tag": "ABX9TyPGEkZ9+Cjk9/B8W1Lmo/bH",
      "include_colab_link": true
    },
    "kernelspec": {
      "name": "python3",
      "display_name": "Python 3"
    },
    "language_info": {
      "name": "python"
    }
  },
  "cells": [
    {
      "cell_type": "markdown",
      "metadata": {
        "id": "view-in-github",
        "colab_type": "text"
      },
      "source": [
        "<a href=\"https://colab.research.google.com/github/niikkkhiil/niikkkhiil/blob/main/Numpy_Assignment.ipynb\" target=\"_parent\"><img src=\"https://colab.research.google.com/assets/colab-badge.svg\" alt=\"Open In Colab\"/></a>"
      ]
    },
    {
      "cell_type": "markdown",
      "source": [
        "**1. Explain the purpose and advantages of NumPy in scientific computing and data analysis. How does it enhance Python's capabilities for numerical operations?**\n",
        "\n",
        "  NumPy, short for Numerical Python, is a powerful library in Python that provides support for large, multi-dimensional arrays and matrices, along with a collection of mathematical functions to operate on these arrays.\n",
        "\n",
        " Purpose of NumPy:\n",
        " Efficient Handling of Arrays and Matrices:\n",
        "\n",
        " NumPy introduces the ndarray object, which is a fast, flexible, and memory-efficient array that can handle large datasets more effectively than Python's built-in lists.\n",
        " It supports multi-dimensional arrays, making it easier to perform complex operations on large datasets.\n",
        "\n",
        " Mathematical Functions:\n",
        "\n",
        " It provides a wide range of mathematical functions, such as linear algebra operations, statistical computations, and random number generation, essential for scientific and data analysis tasks.\n",
        "\n",
        " Vectorization:\n",
        "\n",
        " NumPy allows operations on entire arrays without the need for explicit loops, making code more concise and faster.\n",
        "\n",
        " Interoperability with Other Libraries:\n",
        "\n",
        " It serves as the foundation for other scientific computing libraries like SciPy, Pandas, and Matplotlib. These libraries use NumPy arrays as their core data structure, enabling seamless integration. -->\n",
        "\n",
        "\n",
        "  **Advantages of NumPy:**\n",
        "\n",
        " Performance:\n",
        "\n",
        " Speed: NumPy is implemented in C, which makes it much faster than standard Python for numerical operations. Operations on NumPy arrays are optimized and run faster compared to equivalent operations on Python lists.\n",
        "\n",
        " Memory Efficiency: NumPy arrays are more memory-efficient than Python lists due to their homogeneous nature (all elements are of the same data type).\n",
        "\n",
        " Convenience:\n",
        "\n",
        " Broadcasting: NumPy's broadcasting feature allows arithmetic operations to be performed on arrays of different shapes, simplifying code and avoiding the need for explicit loops.\n",
        "\n",
        " Slicing and Indexing: NumPy provides powerful ways to index and slice arrays, making it easier to manipulate data.\n",
        "\n",
        " Extensive Functionality:\n",
        "\n",
        " Mathematical Tools: NumPy provides a comprehensive set of tools for performing mathematical operations, including element-wise operations, matrix multiplication, statistical analysis, and Fourier transforms.\n",
        "\n",
        " Handling Missing Data: NumPy can efficiently handle missing data and perform operations while ignoring missing values, which is crucial in data analysis.\n",
        "\n",
        " Scalability: NumPy can handle very large datasets that don't fit into memory by using memory-mapped files, making it suitable for big data applications."
      ],
      "metadata": {
        "id": "DkuSiEN-dVDI"
      }
    },
    {
      "cell_type": "markdown",
      "source": [
        "**2. Compare and contrast np.mean() and np.average() functions in NumPy. When would you use one over the other?**\n",
        "\n",
        " 1. np.mean()\n",
        " Purpose:\n",
        " np.mean() calculates the arithmetic mean (average) of the elements along the specified axis. The mean is simply the sum of all elements divided by the number of elements.\n",
        "\n",
        " Syntax:\n",
        " `np.mean(a, axis=None, dtype=None, out=None, keepdims=False)`\n",
        "\n",
        " 2. np.average()\n",
        " Purpose:\n",
        " np.average() computes the weighted average of the elements along the specified axis. The weighted average takes into account the weights assigned to each element, which can affect the result.\n",
        "\n",
        " Syntax:\n",
        "`np.average(a, axis=None, weights=None, returned=False)`"
      ],
      "metadata": {
        "id": "dKaZsjTEdWy4"
      }
    },
    {
      "cell_type": "markdown",
      "source": [
        "**3. Describe the methods for reversing a NumPy array along different axes. Provide examples for 1D and 2D arrays.**\n",
        "\n",
        " Reversing a NumPy array means rearranging its elements in the opposite order along a specified axis. NumPy provides several ways to reverse arrays, and you can apply these methods to 1D, 2D, or even higher-dimensional arrays.\n",
        "\n",
        " 1. Reversing a 1D Array\n",
        " For a 1D array, reversing the array is straightforward. You can use slicing to reverse the array.\n",
        "import numpy as np\n",
        "\n",
        " 1D Array\n",
        "```\n",
        "arr_1d = np.array([1, 2, 3, 4, 5])\n",
        "reversed_arr_1d = arr_1d[::-1]\n",
        "```\n",
        "\n",
        "\n",
        "        print(reversed_arr_1d)  # Output: [5 4 3 2 1]\n",
        "\n",
        " 2. Reversing a 2D Array\n",
        "\n",
        " For a 2D array, you can reverse the array along different axes (rows or columns).\n",
        "\n"
      ],
      "metadata": {
        "id": "0JKUIhHedWvT"
      }
    },
    {
      "cell_type": "code",
      "source": [
        "arr_2d = np.array([[1, 2, 3], [4, 5, 6], [7, 8, 9]])\n",
        "\n",
        "reversed_entire = arr_2d[::-1, ::-1]\n",
        "print(\"Reversed Entire Array:\")\n",
        "print(reversed_entire)\n",
        "\n",
        "reversed_rows = arr_2d[::-1, :]\n",
        "print(\"\\nReversed Rows:\")\n",
        "print(reversed_rows)\n",
        "\n",
        "reversed_columns = arr_2d[:, ::-1]\n",
        "print(\"\\nReversed Columns:\")\n",
        "print(reversed_columns)\n",
        "\n",
        "flipped_rows = np.flip(arr_2d, axis=0)\n",
        "flipped_columns = np.flip(arr_2d, axis=1)\n",
        "\n",
        "print(\"\\nFlipped Rows using np.flip:\")\n",
        "print(flipped_rows)\n",
        "\n",
        "print(\"\\nFlipped Columns using np.flip:\")\n",
        "print(flipped_columns)"
      ],
      "metadata": {
        "colab": {
          "base_uri": "https://localhost:8080/"
        },
        "id": "TPWMDD7Qfxe4",
        "outputId": "250a1393-1629-4def-9749-1e74917815b8"
      },
      "execution_count": 15,
      "outputs": [
        {
          "output_type": "stream",
          "name": "stdout",
          "text": [
            "Reversed Entire Array:\n",
            "[[9 8 7]\n",
            " [6 5 4]\n",
            " [3 2 1]]\n",
            "\n",
            "Reversed Rows:\n",
            "[[7 8 9]\n",
            " [4 5 6]\n",
            " [1 2 3]]\n",
            "\n",
            "Reversed Columns:\n",
            "[[3 2 1]\n",
            " [6 5 4]\n",
            " [9 8 7]]\n",
            "\n",
            "Flipped Rows using np.flip:\n",
            "[[7 8 9]\n",
            " [4 5 6]\n",
            " [1 2 3]]\n",
            "\n",
            "Flipped Columns using np.flip:\n",
            "[[3 2 1]\n",
            " [6 5 4]\n",
            " [9 8 7]]\n"
          ]
        }
      ]
    },
    {
      "cell_type": "markdown",
      "source": [
        "**4. How can you determine the data type of elements in a NumPy array? Discuss the importance of data types in memory management and performance.**\n",
        "\n",
        "\n",
        "To determine the data type of elements in a NumPy array, you can use the dtype attribute. Here’s an example:\n",
        "\n",
        "\n",
        "\n",
        "```\n",
        "arr = np.array([1, 2, 3, 4, 5])\n",
        "\n",
        "print(arr.dtype)\n",
        "```\n",
        "\n",
        "\n",
        "\n",
        " Importance of Data Types in Memory Management and Performance\n",
        " Data types play a crucial role in memory management and performance for several reasons:\n",
        "\n",
        "\n",
        " Memory Allocation: Different data types require different amounts of memory. For example, an int32 type uses 4 bytes, while a float64 type uses 8 bytes. Efficient use of data types ensures that memory is allocated appropriately, preventing wastage.\n",
        "\n",
        " Performance Optimization: Operations on smaller data types are generally faster because they require less memory bandwidth and can be processed more quickly by the CPU. For instance, using int8 instead of int64 for small integers can significantly speed up computations.\n",
        "\n",
        " Data Integrity: Using the correct data type helps maintain data integrity. For example, using an integer type for counting items ensures that fractional values are not mistakenly stored.\n",
        "\n",
        " Error Detection: Specifying data types can help catch errors early in the development process. For example, trying to store a string in an integer array will raise an error, alerting you to potential issues in your code.\n",
        "\n",
        " Understanding and utilizing appropriate data types is essential for writing efficient and reliable programs, especially in environments with limited memory resources."
      ],
      "metadata": {
        "id": "vyJsZmwQdWty"
      }
    },
    {
      "cell_type": "markdown",
      "source": [
        "**5. Define ndarrays in NumPy and explain their key features. How do they differ from standard Python lists?**\n",
        "\n",
        " ndarrays (N-dimensional arrays) are a core feature of the NumPy library in Python. They are powerful, flexible, and efficient containers for large datasets in scientific computing. Here are their key features:\n",
        "\n",
        " Multidimensional: ndarrays can have any number of dimensions, allowing for the storage of complex data structures like matrices and tensors.\n",
        "\n",
        " Homogeneous: All elements in an ndarray must be of the same data type, which ensures consistent and efficient operations.\n",
        "\n",
        " Fixed Size: Once created, the size of an ndarray cannot be changed. This immutability helps in optimizing performance.\n",
        "\n",
        " Efficient Memory Usage: ndarrays are stored in contiguous blocks of memory, which makes data access and manipulation very fast.\n",
        "\n",
        " Vectorized Operations: NumPy supports vectorized operations, which means you can perform element-wise operations on arrays without explicit loops, leading to concise and faster code.\n",
        "\n",
        " Broadcasting: This feature allows NumPy to perform operations on arrays of different shapes in a flexible way, without needing to copy data.\n",
        "\n",
        "\n",
        " Differences from Standard Python Lists\n",
        "\n",
        " Data Type: Python lists can contain elements of different data types, while ndarrays require all elements to be of the same type.\n",
        "\n",
        " Performance: ndarrays are more memory-efficient and faster for numerical operations due to their contiguous memory layout and support for vectorized operations.\n",
        "\n",
        " Functionality: NumPy provides a wide range of mathematical functions that operate on ndarrays, which are not available for standard Python lists.\n",
        "\n",
        " Fixed Size: The size of an ndarray is fixed upon creation, whereas Python lists can dynamically grow and shrink.\n"
      ],
      "metadata": {
        "id": "qMixLhRjdWrd"
      }
    },
    {
      "cell_type": "markdown",
      "source": [
        "**6. Analyze the performance benefits of NumPy arrays over Python lists for large-scale numerical operations.**\n",
        "\n",
        "\n",
        " 1. Memory Efficiency\n",
        "\n",
        " Contiguous Memory Layout: NumPy arrays are stored in contiguous blocks of memory, which reduces the overhead associated with memory allocation and access1. This layout allows for faster data retrieval and manipulation compared to Python lists, which store elements as separate objects scattered in memory2.\n",
        "\n",
        " Homogeneous Data: All elements in a NumPy array are of the same data type, which reduces the memory footprint. Python lists, on the other hand, store type information for each element, leading to higher memory consumption2.\n",
        "\n",
        " 2. Speed and Performance\n",
        "\n",
        " Vectorized Operations: NumPy supports vectorized operations, allowing you to perform element-wise operations on entire arrays without explicit loops. This leads to concise and faster code execution2.\n",
        "\n",
        " Optimized for Numerical Computation: NumPy is implemented in C, and many of its operations are optimized for performance. This results in significant speedups for numerical computations compared to Python lists2.\n",
        "\n",
        " 3. Broadcasting\n",
        "\n",
        " Flexible Operations: Broadcasting allows NumPy to perform operations on arrays of different shapes without needing to copy data. This feature simplifies code and improves performance by avoiding unnecessary data duplication2.\n",
        "\n",
        " 4. Advanced Mathematical Functions\n",
        "\n",
        " Rich Functionality: NumPy provides a wide range of mathematical and statistical functions that are optimized for performance. These functions operate directly on arrays, making complex numerical computations more efficient2.\n",
        "\n",
        " Example: Performance Comparison\n",
        " Here’s a simple example comparing the performance of NumPy arrays and Python lists for a large-scale numerical operation:"
      ],
      "metadata": {
        "id": "PzSSMC68dWou"
      }
    },
    {
      "cell_type": "code",
      "source": [
        "import time\n",
        "import numpy as np\n",
        "size = 10**6\n",
        "numpy_array = np.arange(size)\n",
        "python_list = list(range(size))\n",
        "\n",
        "start_time = time.time()\n",
        "numpy_result = numpy_array * 2\n",
        "numpy_time = time.time() - start_time\n",
        "\n",
        "start_time = time.time()\n",
        "python_result = [x * 2 for x in python_list]\n",
        "python_time = time.time() - start_time\n",
        "\n",
        "print(f\"NumPy time: {numpy_time:.5f} seconds\")\n",
        "print(f\"Python list time: {python_time:.5f} seconds\")"
      ],
      "metadata": {
        "colab": {
          "base_uri": "https://localhost:8080/"
        },
        "id": "4gB33Jz0hChX",
        "outputId": "1cf8770f-cb69-49c5-c59d-1ccb2e8f57fa"
      },
      "execution_count": 16,
      "outputs": [
        {
          "output_type": "stream",
          "name": "stdout",
          "text": [
            "NumPy time: 0.00389 seconds\n",
            "Python list time: 0.07326 seconds\n"
          ]
        }
      ]
    },
    {
      "cell_type": "markdown",
      "source": [
        "**7. Compare vstack() and hstack() functions in NumPy. Provide examples demonstrating their usage and output.**\n",
        "\n",
        " Comparison of vstack() and hstack() Functions in NumPy\n",
        " The vstack() and hstack() functions in NumPy are used to stack arrays vertically (row-wise) and horizontally (column-wise), respectively. They allow you to combine multiple arrays into a single array along different axes.\n",
        "\n",
        " 1. vstack() Function\n",
        "\n",
        " Purpose: Vertically stacks arrays, meaning it stacks arrays on top of each other along the first axis (rows).\n",
        "\n",
        " Usage: This function is typically used when you want to combine arrays along the rows.\n"
      ],
      "metadata": {
        "id": "wdR7j7OHdWd_"
      }
    },
    {
      "cell_type": "code",
      "source": [
        "arr1 = np.array([1, 2, 3])\n",
        "arr2 = np.array([4, 5, 6])\n",
        "\n",
        "result_vstack = np.vstack((arr1, arr2))\n",
        "\n",
        "print(result_vstack)"
      ],
      "metadata": {
        "colab": {
          "base_uri": "https://localhost:8080/"
        },
        "id": "X_t29u7JhgT2",
        "outputId": "4daf2657-2888-4431-a4e1-acac17ce5083"
      },
      "execution_count": 17,
      "outputs": [
        {
          "output_type": "stream",
          "name": "stdout",
          "text": [
            "[[1 2 3]\n",
            " [4 5 6]]\n"
          ]
        }
      ]
    },
    {
      "cell_type": "markdown",
      "source": [
        "8. Explain the differences between fliplr() and flipud() methods in NumPy, including their effects on various array dimensions.\n",
        "\n",
        " Differences Between fliplr() and flipud() Methods in NumPy\n",
        "\n",
        " The fliplr() and flipud() methods in NumPy are used to flip arrays along specific axes. They are particularly useful for reversing the order of elements in 2D arrays, but their effects differ depending on the axis they operate on.\n",
        "\n",
        "\n",
        " 1. fliplr() Function\n",
        "\n",
        " Purpose: Flips the array left to right (i.e., reverses the order of columns).\n",
        "\n",
        " Effect: It mirrors the array along its vertical axis (columns), effectively reversing the order of elements in each row.\n",
        "\n",
        " Applicable Dimensions: Primarily used for 2D arrays, but can be applied to higher dimensions where the last axis (columns) is flipped.\n"
      ],
      "metadata": {
        "id": "-rUNAIGxdWN0"
      }
    },
    {
      "cell_type": "code",
      "source": [
        "arr = np.array([[1, 2, 3],\n",
        "                [4, 5, 6],\n",
        "                [7, 8, 9]])\n",
        "\n",
        "result_fliplr = np.fliplr(arr)\n",
        "\n",
        "print(result_fliplr)"
      ],
      "metadata": {
        "colab": {
          "base_uri": "https://localhost:8080/"
        },
        "id": "JkPZMdo7i04s",
        "outputId": "2423ca75-42b4-4fb1-b3ef-30e7aadb63dc"
      },
      "execution_count": 18,
      "outputs": [
        {
          "output_type": "stream",
          "name": "stdout",
          "text": [
            "[[3 2 1]\n",
            " [6 5 4]\n",
            " [9 8 7]]\n"
          ]
        }
      ]
    },
    {
      "cell_type": "markdown",
      "source": [
        " 2. flipud() Function\n",
        " Purpose: Flips the array up to down.\n",
        "\n",
        " Effect: It mirrors the array along its horizontal axis (rows), effectively reversing the order of elements in each column.\n",
        "\n",
        " Applicable Dimensions: Primarily used for 2D arrays, but can be applied to higher dimensions where the first axis (rows) is flipped."
      ],
      "metadata": {
        "id": "Aac4KH8Xi5gU"
      }
    },
    {
      "cell_type": "code",
      "source": [
        "arr = np.array([[1, 2, 3],\n",
        "                [4, 5, 6],\n",
        "                [7, 8, 9]])\n",
        "\n",
        "result_flipud = np.flipud(arr)\n",
        "\n",
        "print(result_flipud)"
      ],
      "metadata": {
        "colab": {
          "base_uri": "https://localhost:8080/"
        },
        "id": "c8ZnjMPzjCVM",
        "outputId": "5233186b-17a2-401a-bc7d-eca87b2faa13"
      },
      "execution_count": 19,
      "outputs": [
        {
          "output_type": "stream",
          "name": "stdout",
          "text": [
            "[[7 8 9]\n",
            " [4 5 6]\n",
            " [1 2 3]]\n"
          ]
        }
      ]
    },
    {
      "cell_type": "markdown",
      "source": [
        "**9. Discuss the functionality of the array_split() method in NumPy. How does it handle uneven splits?**\n",
        "\n",
        "\n",
        " The array_split() method in NumPy is used to split an array into multiple sub-arrays. It is particularly useful when you need to divide an array into sections that may not be of equal size. Here’s a detailed look at its functionality and how it handles uneven splits:\n",
        "\n",
        " Functionality\n",
        " Syntax: numpy.array_split(ary, indices_or_sections, axis=0)\n",
        " ary: The input array to be split.\n",
        "\n",
        " indices_or_sections: If an integer, it specifies the number of equal or nearly equal sections to split the array into. If a list of sorted integers, it specifies the indices at which to split.\n",
        "\n",
        " axis: The axis along which to split the array. Default is 0 (along rows).\n",
        "\n",
        " Handling Uneven Splits\n",
        "\n",
        " When the array cannot be evenly divided by the specified number of sections, array_split() ensures that the resulting sub-arrays are as equal in size as possible. It does this by distributing the remainder elements across the sub-arrays."
      ],
      "metadata": {
        "id": "IUnhOEhDi5Pv"
      }
    },
    {
      "cell_type": "code",
      "source": [
        "import numpy as np\n",
        "array = np.arange(9)\n",
        "result = np.array_split(array, 4)\n",
        "for sub_array in result:\n",
        "    print(sub_array)"
      ],
      "metadata": {
        "colab": {
          "base_uri": "https://localhost:8080/"
        },
        "id": "3vEFKPSJja8_",
        "outputId": "f172db3a-cb7c-49fa-a9eb-171283167064"
      },
      "execution_count": 20,
      "outputs": [
        {
          "output_type": "stream",
          "name": "stdout",
          "text": [
            "[0 1 2]\n",
            "[3 4]\n",
            "[5 6]\n",
            "[7 8]\n"
          ]
        }
      ]
    },
    {
      "cell_type": "markdown",
      "source": [
        "**10. Explain the concepts of vectorization and broadcasting in NumPy. How do they contribute to efficient array operations?**\n",
        "\n",
        " Vectorization:\n",
        "\n",
        "Vectorization in NumPy refers to the process of performing operations on entire arrays without the need for explicit loops. This is achieved by leveraging low-level optimizations in C, which makes the operations much faster compared to traditional Python loops. Here are the key benefits:\n",
        "\n",
        " Speed: Vectorized operations are significantly faster because they are executed in compiled code rather than interpreted Python code.\n",
        "\n",
        "Simplicity: Code becomes more concise and easier to read, as complex operations can be expressed in a single line.\n",
        "\n",
        " Efficiency: Reduces the overhead of Python loops and function calls, leading to better performance.\n",
        "\n",
        " ```\n",
        "a = np.arange(1000000)\n",
        "b = np.arange(1000000)\n",
        "\n",
        "# Vectorized addition\n",
        "result = a + b\n",
        "```\n",
        " Broadcasting is a powerful feature in NumPy that allows operations on arrays of different shapes. When performing operations, NumPy automatically expands the smaller array to match the shape of the larger array without making unnecessary copies of data. This enables efficient and flexible array operations.\n",
        "\n",
        " How Broadcasting Works\n",
        " Broadcasting follows these rules:\n",
        "\n",
        "Alignment: NumPy aligns the shapes of the arrays by adding dimensions of size 1 where necessary.\n",
        "\n",
        " Compatibility: Two dimensions are compatible if they are equal or one of them is 1.\n",
        "\n",
        " Expansion: The smaller array is virtually expanded to match the shape of the larger array.\n"
      ],
      "metadata": {
        "id": "iJlJL69djtCI"
      }
    },
    {
      "cell_type": "code",
      "source": [
        "a = np.array([[1, 2, 3], [4, 5, 6]])\n",
        "b = np.array([10, 20, 30])\n",
        "result = a + b\n",
        "print(result)"
      ],
      "metadata": {
        "colab": {
          "base_uri": "https://localhost:8080/"
        },
        "id": "lADvDn67jsru",
        "outputId": "df475cf5-c1ae-46a6-e1d5-5f4f163bf8da"
      },
      "execution_count": 21,
      "outputs": [
        {
          "output_type": "stream",
          "name": "stdout",
          "text": [
            "[[11 22 33]\n",
            " [14 25 36]]\n"
          ]
        }
      ]
    },
    {
      "cell_type": "markdown",
      "source": [
        "  **Practical** **Question**\n"
      ],
      "metadata": {
        "id": "oHuj4LO82wa0"
      }
    },
    {
      "cell_type": "code",
      "execution_count": 1,
      "metadata": {
        "colab": {
          "base_uri": "https://localhost:8080/"
        },
        "id": "SwPqgyq-2uFg",
        "outputId": "3a4ce713-3179-419c-d687-b2f585568d48"
      },
      "outputs": [
        {
          "output_type": "stream",
          "name": "stdout",
          "text": [
            "[[26 79  3]\n",
            " [66 99 33]\n",
            " [96  8 42]]\n"
          ]
        }
      ],
      "source": [
        "#1. 3 * 3 numpy array with random veriable from 1 to 100\n",
        "\n",
        "import numpy as np\n",
        "array = np.array(np.random.randint(1, 100, size=(3,3)))\n",
        "print(array)"
      ]
    },
    {
      "cell_type": "code",
      "source": [
        "#2 Genrate an 1D array with 10 elements then reshape it into (2,5) array and again into (5,2) array\n",
        "\n",
        "array = np.array(np.random.randint(1,100, size=(10)))\n",
        "print(array)\n",
        "\n",
        "array = array.reshape(2,5)\n",
        "print(array)\n",
        "\n",
        "array = array.reshape(5,2)\n",
        "print(array)"
      ],
      "metadata": {
        "colab": {
          "base_uri": "https://localhost:8080/"
        },
        "id": "aKzwTrp929-S",
        "outputId": "7a31ecf0-d3e0-4f78-83b5-b9f9cdc97ae0"
      },
      "execution_count": 2,
      "outputs": [
        {
          "output_type": "stream",
          "name": "stdout",
          "text": [
            "[12 90 69 71 38 91 17 51 53 51]\n",
            "[[12 90 69 71 38]\n",
            " [91 17 51 53 51]]\n",
            "[[12 90]\n",
            " [69 71]\n",
            " [38 91]\n",
            " [17 51]\n",
            " [53 51]]\n"
          ]
        }
      ]
    },
    {
      "cell_type": "code",
      "source": [
        "#3. 4*4 array with random float value, then add a border of 0 arounf it creating array size of 6 * 6\n",
        "\n",
        "array = np.array(np.random.rand(4,4))\n",
        "print(array)\n",
        "\n",
        "array = np.pad(array, pad_width=1, mode='constant', constant_values=0)\n",
        "print(array)"
      ],
      "metadata": {
        "colab": {
          "base_uri": "https://localhost:8080/"
        },
        "id": "dz2PwJFJ3BpV",
        "outputId": "56bcf1f0-8c53-4452-ea79-376461a5054f"
      },
      "execution_count": 3,
      "outputs": [
        {
          "output_type": "stream",
          "name": "stdout",
          "text": [
            "[[0.03342009 0.50373082 0.26951975 0.95482462]\n",
            " [0.51870312 0.0156465  0.89468755 0.38747343]\n",
            " [0.90492416 0.55552151 0.23478492 0.47484914]\n",
            " [0.17727646 0.85995984 0.16011137 0.71054326]]\n",
            "[[0.         0.         0.         0.         0.         0.        ]\n",
            " [0.         0.03342009 0.50373082 0.26951975 0.95482462 0.        ]\n",
            " [0.         0.51870312 0.0156465  0.89468755 0.38747343 0.        ]\n",
            " [0.         0.90492416 0.55552151 0.23478492 0.47484914 0.        ]\n",
            " [0.         0.17727646 0.85995984 0.16011137 0.71054326 0.        ]\n",
            " [0.         0.         0.         0.         0.         0.        ]]\n"
          ]
        }
      ]
    },
    {
      "cell_type": "code",
      "source": [
        "#4. Using numpy create a array integer from 10 to 60 with step of 5\n",
        "\n",
        "array = np.arange(10, 60, 5)\n",
        "print(array)"
      ],
      "metadata": {
        "colab": {
          "base_uri": "https://localhost:8080/"
        },
        "id": "qwlqnf2e3Epu",
        "outputId": "cb327ab4-6af8-4959-fec2-ce34805b33b7"
      },
      "execution_count": 4,
      "outputs": [
        {
          "output_type": "stream",
          "name": "stdout",
          "text": [
            "[10 15 20 25 30 35 40 45 50 55]\n"
          ]
        }
      ]
    },
    {
      "cell_type": "code",
      "source": [
        "#5 Numpy array of string ['python', 'numpy', 'pandas'], apply uper case, lower case, title case transformation\n",
        "\n",
        "arr = np.array(['python', 'numpy', 'pandas'])\n",
        "\n",
        "print(np.char.upper(arr))\n",
        "print(np.char.lower(arr))\n",
        "print(np.char.title(arr))"
      ],
      "metadata": {
        "colab": {
          "base_uri": "https://localhost:8080/"
        },
        "id": "y5JH319vYump",
        "outputId": "d8dbbca5-51a0-4a0a-e115-e790a23613ef"
      },
      "execution_count": 5,
      "outputs": [
        {
          "output_type": "stream",
          "name": "stdout",
          "text": [
            "['PYTHON' 'NUMPY' 'PANDAS']\n",
            "['python' 'numpy' 'pandas']\n",
            "['Python' 'Numpy' 'Pandas']\n"
          ]
        }
      ]
    },
    {
      "cell_type": "code",
      "source": [
        "#6.NumPy array of words with space between each character of every word in the array.\n",
        "\n",
        "# arr = np.array(['python', 'numpy', 'pandas'])\n",
        "print(np.char.join(' ', arr))"
      ],
      "metadata": {
        "colab": {
          "base_uri": "https://localhost:8080/"
        },
        "id": "CdpeT04iZpj1",
        "outputId": "470065b3-f135-4b38-cdde-f8421a2fa2b1"
      },
      "execution_count": 6,
      "outputs": [
        {
          "output_type": "stream",
          "name": "stdout",
          "text": [
            "['p y t h o n' 'n u m p y' 'p a n d a s']\n"
          ]
        }
      ]
    },
    {
      "cell_type": "code",
      "source": [
        "#7. Create two 2D NumPy arrays and perform element-wise addition, subtraction, multiplication, and division.\n",
        "\n",
        "arr1 = np.array([[1,2,3], [4,5,6]])\n",
        "arr2 = np.array([[7,8,9], [10,11,12]])\n",
        "\n",
        "print(arr1 + arr2)\n",
        "print(arr1 - arr2)\n",
        "print(arr1 / arr2)\n",
        "print(arr1 * arr2)"
      ],
      "metadata": {
        "colab": {
          "base_uri": "https://localhost:8080/"
        },
        "id": "8jWDFafoaGaH",
        "outputId": "f570e8ac-6f8e-444a-dfeb-2090af2712d9"
      },
      "execution_count": 8,
      "outputs": [
        {
          "output_type": "stream",
          "name": "stdout",
          "text": [
            "[[ 8 10 12]\n",
            " [14 16 18]]\n",
            "[[-6 -6 -6]\n",
            " [-6 -6 -6]]\n",
            "[[0.14285714 0.25       0.33333333]\n",
            " [0.4        0.45454545 0.5       ]]\n",
            "[[ 7 16 27]\n",
            " [40 55 72]]\n"
          ]
        }
      ]
    },
    {
      "cell_type": "code",
      "source": [
        "#8.Use NumPy to create a 5x5 identity matrix, then extract its diagonal elementsarr\n",
        "arr = np.eye(5)\n",
        "print(arr)\n",
        "print(np.diag(arr))\n",
        "\n"
      ],
      "metadata": {
        "colab": {
          "base_uri": "https://localhost:8080/"
        },
        "id": "4hsRgdahal26",
        "outputId": "0836f49c-4665-423a-b2ed-3b32d5fbb90e"
      },
      "execution_count": 9,
      "outputs": [
        {
          "output_type": "stream",
          "name": "stdout",
          "text": [
            "[[1. 0. 0. 0. 0.]\n",
            " [0. 1. 0. 0. 0.]\n",
            " [0. 0. 1. 0. 0.]\n",
            " [0. 0. 0. 1. 0.]\n",
            " [0. 0. 0. 0. 1.]]\n",
            "[1. 1. 1. 1. 1.]\n"
          ]
        }
      ]
    },
    {
      "cell_type": "code",
      "source": [
        "#9.NumPy array of 100 random integers between 0 and 1000. Find and display all prime numbers in this array.\n",
        "def is_prime(n):\n",
        "  if n <2:\n",
        "    return False\n",
        "  for i in range(2, int(n**0.5)+1):\n",
        "    if n%i == 0:\n",
        "      return False\n",
        "  return True\n",
        "ran_arr = np.array(np.random.randint(0, 1000, size = (100)))\n",
        "for i in ran_arr:\n",
        "  if is_prime(i):\n",
        "    print(i)"
      ],
      "metadata": {
        "colab": {
          "base_uri": "https://localhost:8080/"
        },
        "id": "odvfRk5ka_wS",
        "outputId": "77a26572-d3d4-478c-955c-909c12c000ab"
      },
      "execution_count": 12,
      "outputs": [
        {
          "output_type": "stream",
          "name": "stdout",
          "text": [
            "809\n",
            "317\n",
            "139\n",
            "709\n",
            "157\n",
            "113\n",
            "523\n",
            "271\n",
            "563\n",
            "317\n",
            "263\n",
            "977\n",
            "173\n",
            "601\n",
            "719\n",
            "853\n",
            "863\n",
            "167\n",
            "853\n"
          ]
        }
      ]
    },
    {
      "cell_type": "code",
      "source": [
        "#10.NumPy array representing daily temperatures for a month. Calculate and display the weekly averages.\n",
        "\n",
        "temp = np.array(np.random.randint(0, 40, size = (30)))\n",
        "print(temp)\n",
        "print(np.mean(temp))"
      ],
      "metadata": {
        "colab": {
          "base_uri": "https://localhost:8080/"
        },
        "id": "enle8Waab3VT",
        "outputId": "9079cc72-c981-41a3-8209-68fe899aa061"
      },
      "execution_count": 14,
      "outputs": [
        {
          "output_type": "stream",
          "name": "stdout",
          "text": [
            "[ 8 30 19 33 18  7  2  1 10  0 28 17 11 15 30 34 21  6 11 39  4 26  3  6\n",
            " 18 35 15 35 30 39]\n",
            "18.366666666666667\n"
          ]
        }
      ]
    },
    {
      "cell_type": "code",
      "source": [],
      "metadata": {
        "id": "tMz1QNg3dJG_"
      },
      "execution_count": null,
      "outputs": []
    }
  ]
}