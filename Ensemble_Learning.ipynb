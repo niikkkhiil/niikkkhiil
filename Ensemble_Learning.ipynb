{
  "nbformat": 4,
  "nbformat_minor": 0,
  "metadata": {
    "colab": {
      "provenance": [],
      "authorship_tag": "ABX9TyOnMt8/UXTpMRw1HSp8LnJN",
      "include_colab_link": true
    },
    "kernelspec": {
      "name": "python3",
      "display_name": "Python 3"
    },
    "language_info": {
      "name": "python"
    }
  },
  "cells": [
    {
      "cell_type": "markdown",
      "metadata": {
        "id": "view-in-github",
        "colab_type": "text"
      },
      "source": [
        "<a href=\"https://colab.research.google.com/github/niikkkhiil/niikkkhiil/blob/main/Ensemble_Learning.ipynb\" target=\"_parent\"><img src=\"https://colab.research.google.com/assets/colab-badge.svg\" alt=\"Open In Colab\"/></a>"
      ]
    },
    {
      "cell_type": "markdown",
      "source": [
        "**1. Can we use Bagging for regression problems**\n",
        "\n",
        "Yes, Bagging (Bootstrap Aggregating) can definitely be used for regression problems. Bagging is a machine learning ensemble technique that helps improve the stability and accuracy of algorithms by combining the predictions of multiple base learners.\n",
        "\n",
        "In the context of regression, here's how it works:\n",
        "\n",
        "Bootstrap Sampling: The algorithm creates multiple bootstrapped (randomly sampled with replacement) subsets from the original training dataset.\n",
        "\n",
        "Model Training: A base regression model (e.g., decision tree, linear regression) is trained on each bootstrapped subset independently.\n",
        "\n",
        "Prediction: When making predictions, the ensemble model aggregates the predictions of all the individual base models. Typically, for regression, the final prediction is obtained by averaging the predictions of all base models.\n",
        "\n",
        "Bagging helps reduce variance and overfitting by averaging out the errors from individual base models. For example, one common implementation of Bagging in regression problems is Bagging Regressor with decision trees as the base model. By using multiple decision trees and aggregating their predictions, Bagging often leads to more robust and accurate results.\n",
        "\n",
        "Some of the popular algorithms for regression problems using Bagging include:\n",
        "\n",
        "Bagging Regressor (with any base regression model) Random Forests, which is essentially a Bagging technique specifically using decision trees as the base model. So, Bagging can be highly beneficial in regression tasks, especially when using unstable models (like decision trees) that tend to overfit."
      ],
      "metadata": {
        "id": "82U-ljLBqEV4"
      }
    },
    {
      "cell_type": "markdown",
      "source": [
        "**2 What is the difference between multiple model training and single model training**\n",
        "\n",
        "The key difference between multiple model training and single model training lies in how models are used to make predictions and learn patterns from the data.\n",
        "\n",
        "Single Model Training: Definition: In single model training, only one model is trained on the dataset. Process: A single algorithm (e.g., decision tree, linear regression, or neural network) is trained using the training data. Once the model is trained, it is used to make predictions on new, unseen data. Advantages: Simpler and faster to implement. Easier to interpret (especially for simple models). Computationally less expensive because you're only training one model. Disadvantages: May suffer from underfitting or overfitting if the model isn't well-suited for the task. Performance is dependent on the capacity and accuracy of that single model. Might not capture all complexities in the data, especially if the model is too simple or too complex. Multiple Model Training (Ensemble Methods): Definition: In multiple model training, several models (or learners) are trained, and their predictions are combined to make a final decision. Process: This could be done in different ways depending on the ensemble technique. For example: Bagging (e.g., Random Forests): Multiple models are trained independently on different subsets of the data (bootstrapped samples) and their predictions are averaged (for regression) or voted on (for classification). Boosting (e.g., Gradient Boosting, AdaBoost): Models are trained sequentially, each one correcting the mistakes of the previous one. Stacking: Different models are trained on the same dataset and their predictions are combined by a meta-model. Advantages: Typically leads to better accuracy because combining multiple models can reduce overfitting (in some cases) and improve generalization. Can reduce bias (if using boosting) or variance (if using bagging). Can take advantage of different models' strengths to get better overall performance. Disadvantages: More complex and computationally expensive than single model training. Harder to interpret the results because it involves multiple models. Requires careful tuning of multiple models, which can be time-consuming.\n",
        "\n"
      ],
      "metadata": {
        "id": "Ym2YFg1Sqhf0"
      }
    },
    {
      "cell_type": "markdown",
      "source": [
        "**3 Explain the concept of feature randomness in Random Forest2**\n",
        "\n",
        "\n",
        "Feature randomness is one of the key concepts in the Random Forest algorithm that helps improve its performance by reducing correlation between individual trees and making the ensemble more robust.\n",
        "\n",
        "In Random Forest, feature randomness refers to the process of selecting a random subset of features (also known as attributes or predictors) for each decision tree during the training process. This ensures that each tree is trained with a different set of features, which contributes to the diversity of the trees in the forest and helps prevent overfitting.\n",
        "\n",
        "Here's how feature randomness works in Random Forest:\n",
        "\n",
        "Building the Decision Trees:\n",
        "\n",
        "For each tree in the forest, a random subset of features is selected at each split in the tree. The number of features to randomly select is controlled by a hyperparameter, usually denoted as m or sqrt(m) for classification problems, where m is the total number of features in the dataset. For regression, this number might be set as m/3 or log2(m). Random Feature Selection at Each Split:\n",
        "\n",
        "When growing a decision tree, at each node (or split), rather than considering all features, the algorithm randomly selects a smaller subset of features. The best feature from this random subset is then chosen for splitting the node. This randomness prevents individual trees from becoming too correlated and overly dependent on specific features, which reduces overfitting. Ensemble of Diverse Trees:\n",
        "\n",
        "By introducing feature randomness, Random Forest ensures that different trees in the forest make decisions based on different perspectives (features), leading to more diverse models. When combining the predictions of all the trees (by averaging in regression or majority voting in classification), the diversity helps in improving the overall model's performance and generalization. Why Feature Randomness is Important: Reduces Correlation Between Trees:\n",
        "\n",
        "If all the trees in the forest were trained on the same set of features, they would likely make similar mistakes and not provide any significant gain in accuracy when combined. By randomly selecting features, we create trees that are less correlated with each other, which helps reduce overfitting. Improves Generalization:\n",
        "\n",
        "Randomness in feature selection helps the model generalize better to unseen data. Instead of overfitting to specific patterns in the training set, Random Forest captures a broader view of the data by forcing each tree to learn from different subsets of features. Increases Robustness:\n",
        "\n",
        "Since each tree sees a different subset of features, the model becomes less sensitive to noise or irrelevant features. The overall ensemble is more robust because it depends on the majority vote or average of multiple, less-overfitted trees. Example: Let’s say we have a dataset with 10 features. If Random Forest is trained with feature randomness, and the number of features chosen at each split is 3, then for every decision tree:\n",
        "\n",
        "At each node, the algorithm randomly selects 3 features from the 10. The tree will then use these 3 features to make the split at that node. This means each tree in the forest might use a different subset of features at each split, and no tree will use all 10 features, even though they have access to them.\n",
        "\n"
      ],
      "metadata": {
        "id": "GkhrkU-Nqxq6"
      }
    },
    {
      "cell_type": "markdown",
      "source": [
        "**4 What is OOB (Out-of-Bag) Score**\n",
        "\n",
        "The Out-of-Bag (OOB) score is a method used to estimate the performance of a Random Forest model without the need for a separate validation set. It leverages the bootstrap sampling process (used in Random Forest) to evaluate the model's generalization performance. Essentially, the OOB score acts as an internal cross-validation technique for Random Forests.\n",
        "\n",
        "How does the OOB score work? Bootstrap Sampling:\n",
        "\n",
        "In Random Forest, each tree is trained on a bootstrap sample, which means each tree is trained on a random subset of the data, sampled with replacement. As a result, each tree will not see all of the data points. On average, about one-third of the data is left out of each bootstrap sample. These data points that are not selected for a particular tree are called Out-of-Bag samples. OOB Samples:\n",
        "\n",
        "For each tree, the instances that are not included in its bootstrap sample (i.e., the OOB samples) are used as a kind of test set to evaluate that tree's prediction. Each data point will, on average, be \"out-of-bag\" for about one-third of the trees. OOB Prediction:\n",
        "\n",
        "When the Random Forest is fully trained, each instance in the training set will have multiple OOB predictions, one from each tree where it was not included in the training subset. The final OOB prediction for each data point is made by averaging the predictions from the trees where that point was OOB (for regression) or taking the majority vote (for classification). OOB Error:\n",
        "\n",
        "The OOB error is calculated by comparing the OOB predictions to the true labels of the instances. This error is an estimate of how well the Random Forest model is likely to perform on unseen data (generalization error), and it provides a performance measure similar to cross-validation but without needing to split the dataset into training and validation sets. Key Points: OOB Score for Classification: It is the proportion of correct predictions made by the Random Forest model on the OOB samples. This is calculated as the number of correct OOB predictions divided by the total number of OOB predictions.\n",
        "\n",
        "𝑂 𝑂 𝐵 𝑆 𝑐 𝑜 𝑟 𝑒\n",
        "Number of Correct OOB Predictions Total Number of OOB Predictions OOB Score= Total Number of OOB Predictions Number of Correct OOB Predictions​\n",
        "\n",
        "OOB Score for Regression: It is the average of the errors (usually the Mean Squared Error or Mean Absolute Error) for the OOB predictions.\n",
        "\n",
        "Advantages of Using OOB Score: No Need for a Separate Validation Set:\n",
        "\n",
        "The OOB score provides an internal estimate of model performance, which means you don't need to hold out part of your data for validation. This can be particularly useful when you have limited data. Efficient:\n",
        "\n",
        "Since each data point is used as both a training point (in some trees) and an OOB point (in others), the OOB score provides a good estimate without needing additional cross-validation, saving time and computational resources. Works Well with Random Forests:\n",
        "\n",
        "OOB scores work seamlessly with Random Forests because of the way the trees are trained on different bootstrapped samples, and because each instance is, on average, out-of-bag for about one-third of the trees. Example: Let’s say you are using a Random Forest model to predict whether a customer will buy a product (a classification problem). If you have 1000 data points:\n",
        "\n",
        "For each tree, it might train on 800 data points and leave 200 data points out (the OOB samples). After training the entire forest, each of the 1000 data points will have been OOB for some of the trees. For each data point, the Random Forest model will predict the class (e.g., \"will buy\" or \"will not buy\") using the trees where it was OOB. Finally, you calculate the percentage of times the prediction was correct (or incorrect) across all the OOB samples.\n"
      ],
      "metadata": {
        "id": "VVg5CA0DrC6F"
      }
    },
    {
      "cell_type": "markdown",
      "source": [
        "**5 How can you measure the importance of features in a Random Forest model**\n",
        "\n",
        "\n",
        "In a Random Forest model, feature importance refers to the contribution of each feature (or predictor) in making accurate predictions. Random Forest provides a natural way to calculate feature importance based on how useful each feature is in the process of splitting the data in decision trees. There are two primary ways to measure feature importance in a Random Forest model:\n",
        "\n",
        "Mean Decrease Impurity (Gini Importance) This is the most commonly used method to measure feature importance in Random Forest.\n",
        "\n",
        "How It Works: Impurity refers to how mixed the classes are in the nodes of a decision tree. A node with many different classes is impure, while a node with only one class is pure. During the training of a decision tree, at each split, the algorithm tries to reduce the impurity (e.g., Gini impurity or entropy in classification problems, variance in regression). The Mean Decrease Impurity (MDI) computes the total decrease in node impurity (Gini or variance) that each feature contributes to all the trees in the forest. Features that lead to larger reductions in impurity at each split are considered more important. Formula: For a feature 𝑓 f, the importance is calculated by summing the total decrease in impurity caused by splits on that feature across all trees and nodes.\n",
        "\n",
        "Feature Importance (MDI)\n",
        "∑ all splits involving feature f Δ impurity Feature Importance (MDI)= all splits involving feature f ∑​Δimpurity Where:\n",
        "\n",
        "Δ impurity Δimpurity is the reduction in impurity (Gini, entropy, or variance) when the feature is used for a split. Advantages: It is fast and easy to compute. Works well for classification and regression tasks. Disadvantages: Can be biased toward features with more categories (in categorical variables) or continuous features with many unique values. 2. Mean Decrease Accuracy (Permutation Importance) This method measures feature importance by evaluating the impact of each feature on the model's accuracy.\n",
        "\n",
        "How It Works: Permutation importance measures how much the accuracy of the model decreases when the values of a feature are randomly shuffled (permuted). The basic idea is that if a feature is important for the model, permuting (shuffling) its values will significantly reduce the model’s performance (e.g., accuracy in classification or R-squared in regression). The importance of a feature is then determined by how much the model’s performance decreases after permuting that feature’s values, compared to the performance on the original dataset. Steps: Train the Random Forest model on the original data and evaluate its accuracy (or another performance metric). For each feature: Shuffle the values of that feature in the dataset. Predict using the shuffled dataset and compute the new performance metric (e.g., accuracy). The importance of the feature is calculated by comparing the performance with the shuffled feature to the performance with the original feature (i.e., how much performance drops when the feature is permuted). The larger the decrease in performance, the more important the feature is. Formula: Permutation Importance\n",
        "Original Accuracy − Shuffled Accuracy Permutation Importance=Original Accuracy−Shuffled Accuracy Advantages: It works for both classification and regression problems. It provides a more model-agnostic way to calculate feature importance, which can be useful for any model, not just Random Forests. Disadvantages: It can be computationally expensive since it requires retraining and predicting for each feature and permutation. It may be sensitive to the size of the dataset (larger datasets may require more computational time). Other Methods for Feature Importance: While Mean Decrease Impurity and Permutation Importance are the most common, there are other advanced methods like:\n",
        "\n",
        "SHAP Values (Shapley Additive Explanations): SHAP values are a more advanced method that provides a theoretically sound way to explain feature importance by considering the contribution of each feature to every possible prediction. LIME (Local Interpretable Model-agnostic Explanations): LIME is another method that explains model predictions by approximating the Random Forest model locally around each prediction and assessing the influence of each feature. Visualizing Feature Importance: Bar plots: You can plot the feature importances as bars (with longer bars indicating more important features) to make it easy to compare the importance of different features. Importance ranking: Sorting features based on importance helps identify which features have the most influence on the model's predictions."
      ],
      "metadata": {
        "id": "NBM0NwyqrT7z"
      }
    },
    {
      "cell_type": "markdown",
      "source": [
        "**6 Explain the working principle of a Bagging Classifier2**\n",
        "\n",
        "Working Principle of a Bagging Classifier Bagging (Bootstrap Aggregating) is an ensemble learning technique used to improve the accuracy and stability of machine learning models, particularly in classification tasks. The main goal of bagging is to reduce variance (overfitting) by combining multiple models trained on different subsets of the data.\n",
        "\n",
        "Here’s how a Bagging Classifier works step by step:\n",
        "\n",
        "Step-by-Step Process of Bagging Classifier: Bootstrap Sampling (Creating Subsets):\n",
        "\n",
        "From the original dataset, multiple bootstrap samples (random samples with replacement) are created. For each bootstrap sample, the size of the sample is typically equal to the size of the original dataset. Random sampling with replacement means that the same data point can appear multiple times in one sample or not at all. As a result, each bootstrap sample is slightly different from the others. On average, about one-third of the data points in the original dataset will be left out in each bootstrap sample (these are known as \"Out-of-Bag\" or OOB points). Train a Base Classifier on Each Subset:\n",
        "\n",
        "For each bootstrap sample, a base classifier (e.g., decision tree, k-nearest neighbors, etc.) is trained independently. In bagging, the base classifier is typically an unstable model, such as a decision tree, because it benefits more from the variance reduction that bagging provides. Each of these classifiers will be trained on a different subset of the data, so they will learn slightly different patterns. Prediction by Voting (Majority Voting):\n",
        "\n",
        "Once all the classifiers are trained, each classifier makes a prediction for a new data point. For classification, the final prediction is made by majority voting. This means that the class predicted by the most trees (or classifiers) is selected as the final output. For example, if 3 out of 5 classifiers predict class A and 2 predict class B, the overall prediction will be class A. For regression tasks, the final prediction is typically made by averaging the predictions from all the models. Out-of-Bag (OOB) Error Estimation (Optional):\n",
        "\n",
        "One of the advantages of bagging is that it naturally provides an estimate of the model's error without needing a separate validation set. The data points that are not included in each bootstrap sample (i.e., the OOB points) can be used to test the performance of the model. The OOB error is calculated by predicting the OOB points for each classifier and then computing the error (e.g., accuracy, misclassification rate) for those points. This is an internal cross-validation technique and helps assess the performance of the model more efficiently. Why Does Bagging Work? Bagging works primarily by reducing variance (overfitting) through model averaging:\n",
        "\n",
        "Variance Reduction: Since each model is trained on a slightly different subset of the data, they will likely make different errors. Averaging these errors (or using majority voting) reduces the variance in predictions. The final ensemble prediction is less likely to overfit the data compared to a single model.\n",
        "\n",
        "Improved Robustness: By combining multiple models, bagging reduces the chances that the model will be overly influenced by noisy or outlier data points, making it more robust and stable.\n",
        "\n",
        "Advantages of Bagging Classifier: Reduced Overfitting: Bagging helps mitigate the overfitting problem that individual models (especially complex ones like decision trees) often face. Better Performance: By combining multiple models, the performance of the ensemble is usually better than any single model, especially on noisy data. Parallelizable: Since the individual models are trained independently, bagging is highly parallelizable and can be efficiently implemented using multiple processors or machines. Disadvantages of Bagging Classifier: Computationally Expensive: Training multiple models on different data subsets requires more computation and memory. Less Interpretability: While individual models (like decision trees) can be interpreted easily, the ensemble model may be difficult to interpret. Not Always Suitable for All Models: While bagging works well for unstable models like decision trees, it might not provide significant benefits for stable models (e.g., linear regression) since these models already have low variance."
      ],
      "metadata": {
        "id": "LDwyzuyWrojk"
      }
    },
    {
      "cell_type": "markdown",
      "source": [
        "**7 How do you evaluate a Bagging Classifier’s performance.**\n",
        "\n",
        "Evaluating the performance of a Bagging Classifier involves assessing how well it generalizes to unseen data. This can be done using several metrics and techniques, depending on the type of problem (classification or regression). Here are the key methods for evaluating the performance of a Bagging Classifier:\n",
        "\n",
        "Accuracy (for Classification) For classification tasks, the most common performance metric is accuracy, which measures the proportion of correctly predicted instances out of the total number of instances.\n",
        "Accuracy\n",
        "Number of Correct Predictions Total Number of Predictions Accuracy= Total Number of Predictions Number of Correct Predictions​\n",
        "\n",
        "from sklearn.metrics import accuracy_score\n",
        "\n",
        "Assuming y_true are the true labels and y_pred are the predictions from the Bagging model accuracy = accuracy_score(y_true, y_pred) print(f\"Accuracy: {accuracy:.2f}\") 2. Confusion Matrix (for Classification) The confusion matrix gives a more detailed breakdown of the classifier's performance by showing how many instances of each class were correctly and incorrectly classified.\n",
        "\n",
        "It has four components for binary classification:\n",
        "\n",
        "True Positives (TP): Correctly predicted positive class. True Negatives (TN): Correctly predicted negative class. False Positives (FP): Incorrectly predicted as positive. False Negatives (FN): Incorrectly predicted as negative. You can use the confusion matrix to calculate other metrics like precision, recall, and F1-score.\n",
        "\n",
        "In Scikit-learn:\n",
        "\n",
        "from sklearn.metrics import confusion_matrix\n",
        "\n",
        "cm = confusion_matrix(y_true, y_pred) print(\"Confusion Matrix:\\n\", cm) 3. Precision, Recall, and F1-Score (for Classification) These metrics provide insights into how well the classifier performs, especially in imbalanced datasets.\n",
        "\n",
        "Precision: Measures how many of the predicted positive instances are actually positive.\n",
        "\n",
        "Precision\n",
        "𝑇 𝑃 𝑇 𝑃 + 𝐹 𝑃 Precision= TP+FP TP​\n",
        "\n",
        "Recall: Measures how many of the actual positive instances were correctly identified.\n",
        "\n",
        "Recall\n",
        "𝑇 𝑃 𝑇 𝑃 + 𝐹 𝑁 Recall= TP+FN TP​\n",
        "\n",
        "F1-Score: The harmonic mean of precision and recall, providing a single metric that balances both.\n",
        "\n",
        "F1-Score\n",
        "2 × Precision × Recall Precision + Recall F1-Score=2× Precision+Recall Precision×Recall​\n",
        "\n",
        "In Scikit-learn, you can compute these metrics:\n",
        "\n",
        "from sklearn.metrics import classification_report\n",
        "\n",
        "print(classification_report(y_true, y_pred)) 4. Out-of-Bag (OOB) Error One of the unique advantages of Bagging is that it provides an internal estimate of performance through Out-of-Bag (OOB) error. The OOB error is calculated by using the instances that are not part of each bootstrap sample (i.e., the OOB samples) to make predictions.\n",
        "\n",
        "Why OOB Error is Useful: It provides an unbiased estimate of the model's generalization error without needing a separate validation set or cross-validation. It is computed internally while the model is being trained. Calculating OOB Error: In Scikit-learn, the BaggingClassifier has an option to compute the OOB error directly:\n",
        "\n",
        "from sklearn.ensemble import BaggingClassifier from sklearn.tree import DecisionTreeClassifier\n",
        "\n",
        "Create the base model (e.g., decision tree)\n",
        "base_model = DecisionTreeClassifier()\n",
        "\n",
        "Create the Bagging Classifier with OOB score enabled\n",
        "bagging_model = BaggingClassifier(base_model, n_estimators=100, oob_score=True)\n",
        "\n",
        "Train the model\n",
        "bagging_model.fit(X_train, y_train)\n",
        "\n",
        "Get the OOB score (accuracy)\n",
        "oob_score = bagging_model.oob_score_ print(f\"OOB Score: {oob_score:.2f}\") The OOB score is the accuracy of the classifier on the out-of-bag samples and is a good estimate of model performance.\n",
        "\n",
        "Cross-Validation Another popular method for evaluating a Bagging Classifier is k-fold cross-validation. Cross-validation helps assess the model's generalization ability by splitting the dataset into 𝑘 k subsets (folds), training the model on 𝑘 − 1 k−1 folds, and testing it on the remaining fold. This process is repeated for each fold, and the final performance is averaged across all iterations.\n",
        "You can use Scikit-learn's cross_val_score for this:\n",
        "\n",
        "python Copy from sklearn.model_selection import cross_val_score from sklearn.ensemble import BaggingClassifier from sklearn.tree import DecisionTreeClassifier\n",
        "\n",
        "Create the Bagging Classifier\n",
        "base_model = DecisionTreeClassifier() bagging_model = BaggingClassifier(base_model, n_estimators=100)\n",
        "\n",
        "Perform 5-fold cross-validation\n",
        "cv_scores = cross_val_score(bagging_model, X_train, y_train, cv=5)\n",
        "\n",
        "Print the cross-validation scores and the mean score\n",
        "print(f\"Cross-Validation Scores: {cv_scores}\") print(f\"Mean CV Score: {cv_scores.mean():.2f}\") 6. ROC Curve and AUC (for Classification) For binary classification, you can plot the Receiver Operating Characteristic (ROC) curve and compute the Area Under the Curve (AUC). The AUC measures how well the model distinguishes between the positive and negative classes. A value of 1.0 indicates perfect classification, while 0.5 indicates random guessing.\n",
        "\n",
        "In Scikit-learn, you can use:\n",
        "\n",
        "from sklearn.metrics import roc_curve, auc import matplotlib.pyplot as plt\n",
        "\n",
        "Compute ROC curve and AUC\n",
        "fpr, tpr, _ = roc_curve(y_true, y_pred_proba) roc_auc = auc(fpr, tpr)\n",
        "\n",
        "Plot ROC curve\n",
        "plt.figure() plt.plot(fpr, tpr, color='darkorange', lw=2, label=f'ROC curve (AUC = {roc_auc:.2f})') plt.plot([0, 1], [0, 1], color='navy', lw=2, linestyle='--') plt.xlabel('False Positive Rate') plt.ylabel('True Positive Rate') plt.title('Receiver Operating Characteristic') plt.legend(loc='lower right') plt.show() Where y_pred_proba is the predicted probability of the positive class."
      ],
      "metadata": {
        "id": "AfRJEHe1r2Ik"
      }
    },
    {
      "cell_type": "markdown",
      "source": [
        "**8 How does a Bagging Regressor work.**\n",
        "\n",
        "A Bagging Regressor works in a similar way to a Bagging Classifier, but instead of dealing with classification tasks, it is designed for regression problems. In regression, the goal is to predict continuous values, rather than categorical class labels. The Bagging Regressor uses the Bagging ensemble method, which combines multiple base models to reduce overfitting and increase the model’s predictive accuracy.\n",
        "\n",
        "Working Principle of a Bagging Regressor Here’s how a Bagging Regressor works step-by-step:\n",
        "\n",
        "Bootstrap Sampling (Creating Subsets of Data) Bootstrap sampling is a key component of the Bagging approach. It involves generating multiple bootstrapped subsets of the training dataset by randomly sampling with replacement. Each subset has the same size as the original dataset, but since sampling is with replacement, some samples will appear multiple times in a subset, while others might not appear at all.\n",
        "For example, if you have a dataset with 100 data points, each bootstrap sample will have 100 data points, but some of the data points will be repeated while others are left out.\n",
        "\n",
        "The bootstrapped subsets are used to train multiple base models, each on a different subset of the data.\n",
        "\n",
        "Train Multiple Base Regressors For each bootstrap sample, a base regressor (such as a DecisionTreeRegressor, Linear Regression, or any other regression model) is trained independently on that subset. The idea is to train each base model using a different subset of the data, so that each model learns slightly different patterns. Since each model sees only a portion of the data, it reduces the risk of overfitting that is typically associated with complex models (like decision trees).\n",
        "Prediction by Averaging Once all base models are trained, they are used to make predictions on new data points.\n",
        "For regression tasks, predictions are averaged across all the base models to get the final prediction. The idea is that by averaging the predictions of multiple models, the variance in predictions is reduced, leading to a more robust and stable model.\n",
        "\n",
        "For example, if you have 100 base regressors, each making a prediction 𝑦 ^ 𝑖 y ^​\n",
        "\n",
        "i​for a data point 𝑋 X, the final prediction is calculated as:\n",
        "\n",
        "𝑦 ^ final\n",
        "1 𝑛 ∑ 𝑖\n",
        "1 𝑛 𝑦 ^ 𝑖 y ^​\n",
        "\n",
        "final​\n",
        "n 1​\n",
        "\n",
        "i=1 ∑ n​\n",
        "\n",
        "y ^​\n",
        "\n",
        "i​\n",
        "\n",
        "Where 𝑛 n is the number of base regressors (trees or models in the ensemble).\n",
        "\n",
        "Out-of-Bag (OOB) Error Estimation (Optional) Out-of-Bag (OOB) error is an important feature of bagging models. For each bootstrap sample, about one-third of the original training data is not used to train the model. These unused data points are called OOB samples. After training, the model makes predictions for these OOB samples using the base models where the sample was not included in the bootstrap sample. The OOB error is calculated by comparing the OOB predictions to the true values and averaging the errors. This provides an internal estimate of the model’s performance, which eliminates the need for a separate validation set. Why Does a Bagging Regressor Work? Bagging works by reducing variance and improving stability:\n",
        "Variance Reduction: Each base regressor is trained on a different subset of data. Since the subsets are sampled with replacement, they will likely contain different data points, leading to different models that make slightly different predictions. By averaging these predictions, the variance in the model’s output is reduced. This is especially useful for models that tend to overfit (e.g., decision trees). Bias-Variance Tradeoff: Bagging does not necessarily reduce bias, but it helps to reduce the variance of the base model, which typically leads to a more generalized and accurate model. Increased Stability: Since Bagging uses multiple models, it provides more robust predictions that are less sensitive to noise or outliers in the data. Advantages of Bagging Regressor: Improved Accuracy: By aggregating the predictions of multiple models, bagging generally leads to better performance than a single model. Reduced Overfitting: Bagging helps reduce the overfitting problem, especially for models like decision trees that are prone to overfitting the training data. Robustness: The model becomes more robust to outliers and noise because the final prediction is averaged across multiple models, so extreme values in one subset will have less influence on the final prediction. Parallelizable: Since each model is trained independently, Bagging is highly parallelizable, making it efficient to implement in practice, especially for large datasets. Disadvantages of Bagging Regressor: Computationally Expensive: Bagging requires training multiple models on different subsets of the data, which increases the computational cost compared to a single model. Less Interpretable: The ensemble model created by Bagging is harder to interpret compared to individual models. For example, a single decision tree is easy to interpret, but the ensemble of trees in Bagging is not. Example of a Bagging Regressor Using Scikit-learn: Here is how you can implement a Bagging Regressor using Scikit-learn with DecisionTreeRegressor as the base model:\n",
        "\n",
        "from sklearn.ensemble import BaggingRegressor from sklearn.tree import DecisionTreeRegressor from sklearn.datasets import make_regression from sklearn.model_selection import train_test_split from sklearn.metrics import mean_squared_error\n",
        "\n",
        "Generate a sample regression dataset\n",
        "X, y = make_regression(n_samples=1000, n_features=10, noise=0.1, random_state=42)\n",
        "\n",
        "Split the dataset into training and testing sets\n",
        "X_train, X_test, y_train, y_test = train_test_split(X, y, test_size=0.2, random_state=42)\n",
        "\n",
        "Create the base model (Decision Tree Regressor)\n",
        "base_model = DecisionTreeRegressor(random_state=42)\n",
        "\n",
        "Create the Bagging Regressor model with 100 base models\n",
        "bagging_model = BaggingRegressor(base_model, n_estimators=100, random_state=42)\n",
        "\n",
        "Train the Bagging Regressor\n",
        "bagging_model.fit(X_train, y_train)\n",
        "\n",
        "Predict using the trained Bagging Regressor\n",
        "y_pred = bagging_model.predict(X_test)\n",
        "\n",
        "Evaluate the performance using Mean Squared Error\n",
        "mse = mean_squared_error(y_test, y_pred) print(f\"Mean Squared Error: {mse:.2f}\") Explanation of the Code: make_regression(): This generates a synthetic regression dataset. BaggingRegressor: This is the main Bagging model. We use a DecisionTreeRegressor as the base model, but other regressors can also be used. n_estimators=100: This parameter specifies the number of base models (trees) to use in the ensemble. mean_squared_error(): This evaluates the model's performance by calculating the mean squared error between the predicted and true values."
      ],
      "metadata": {
        "id": "EjRcZ5dtsPi8"
      }
    },
    {
      "cell_type": "markdown",
      "source": [
        "**9 What is the main advantage of ensemble techniques.**\n",
        "\n",
        "The main advantage of ensemble techniques is their ability to improve the predictive performance of machine learning models by combining multiple individual models. This process leverages the \"wisdom of the crowd\" to produce more accurate, robust, and stable predictions than any single model can achieve on its own.\n",
        "\n",
        "Here are the key advantages of using ensemble techniques:\n",
        "\n",
        "Reduced Overfitting (Variance Reduction) Ensemble methods are particularly effective at reducing variance in models that are prone to overfitting, such as decision trees. By averaging the predictions of multiple models (in methods like Bagging), the ensemble reduces the likelihood that any individual model will overfit the data. This leads to better generalization on unseen data, as the ensemble's combined prediction smooths out noise and minimizes the impact of outliers.\n",
        "Improved Accuracy By combining multiple models, ensemble methods can produce more accurate predictions than a single model. The errors made by individual models are often not correlated, so averaging the predictions (in Bagging) or using weighted voting (in Boosting) can result in more accurate and reliable outcomes. For example, Random Forests (a type of bagging) typically outperform a single decision tree because the ensemble reduces variance without increasing bias.\n",
        "Increased Robustness Ensembles are more robust to noisy data or outliers. Since the final prediction is based on the majority vote (in classification) or average (in regression) of multiple models, the effect of outliers or noise in the data is reduced. This leads to more stable and reliable predictions, even when the data is imperfect or contains errors.\n",
        "Bias-Variance Tradeoff Management Boosting methods (like AdaBoost and Gradient Boosting) work by sequentially training models to focus on the errors made by previous models. This can reduce bias by improving the model's ability to capture complex patterns. Bagging techniques (like Random Forests) focus on reducing variance, which is especially useful for high-variance, low-bias models (such as decision trees). By combining both bias reduction and variance reduction, ensembles can optimize the bias-variance tradeoff and create more effective models than a single model on its own.\n",
        "Flexibility and Applicability Ensemble techniques can be applied to many types of machine learning models, including classification, regression, and even clustering. They can also be used with a variety of base models, which makes ensemble methods highly flexible. For example, Random Forest uses decision trees as base models, while Gradient Boosting Machines (GBMs) can work with trees or even linear models.\n",
        "Handling Imbalanced Datasets Ensemble methods can help with imbalanced datasets, where one class or outcome is significantly more frequent than others. Boosting algorithms, in particular, focus on correcting mistakes made by previous models, which can help improve the performance on minority classes.\n",
        "Better Predictive Power in Complex Problems Ensemble methods often have better predictive power when faced with complex datasets or problems where a single model might struggle to capture all underlying patterns. For instance, a decision tree may not generalize well, but a Random Forest or Gradient Boosting model often performs much better.\n",
        "\n"
      ],
      "metadata": {
        "id": "djXXGPmGsgng"
      }
    },
    {
      "cell_type": "markdown",
      "source": [
        "**10 What is the main challenge of ensemble methods.**\n",
        "\n",
        "The main challenge of ensemble methods is their increased computational complexity and lack of interpretability compared to using a single model. While ensemble methods can significantly improve predictive performance, these challenges can make them less practical in some situations. Let’s break down the key challenges:\n",
        "\n",
        "Increased Computational Complexity Training Time: Ensemble methods, by design, require training multiple base models (e.g., decision trees in Random Forests, or boosting models in Gradient Boosting). This makes the training process more computationally expensive and time-consuming compared to training a single model. For example, in methods like Random Forest, multiple decision trees are trained on different subsets of the data, and this can be computationally heavy if the number of trees or the dataset is large. Prediction Time: During inference or prediction, ensemble methods need to aggregate the predictions of all the individual models (e.g., averaging or majority voting). This can be slower than making predictions with a single model, especially when the ensemble has many base models.\n",
        "Memory Usage Since ensemble methods store and use multiple models (sometimes hundreds or thousands, depending on the number of base learners), they require significantly more memory than single models. For example, a Random Forest with 100 trees requires storing 100 decision trees in memory. This can be problematic when dealing with large datasets, limited computational resources, or when the model needs to be deployed in environments with constrained resources (e.g., mobile or embedded systems).\n",
        "Lack of Interpretability Ensemble models are typically black-box models, meaning that they are hard to interpret. While individual models like decision trees are easy to interpret, combining many of them into an ensemble makes the overall model much more difficult to explain.\n",
        "For example, in a Random Forest, each decision tree might be interpretable on its own, but the overall decision-making process that combines the outputs of all the trees is not as transparent.\n",
        "\n",
        "Boosting methods (like Gradient Boosting or AdaBoost) are particularly challenging to interpret because they focus on iteratively correcting errors, and each new model is highly influenced by the errors of the previous ones.\n",
        "\n",
        "This lack of interpretability can be a major concern in fields where model transparency is important, such as healthcare, finance, or law.\n",
        "\n",
        "Risk of Overfitting with Too Many Base Models While ensemble methods like Bagging reduce overfitting by averaging out the errors of multiple models, boosting methods can be prone to overfitting if too many models are used. In Boosting (e.g., Gradient Boosting), adding more models can sometimes cause the ensemble to overfit the training data, especially if the model becomes too complex or if regularization is not applied properly. Hyperparameter tuning is critical for controlling this risk, and it can be time-consuming and require expert knowledge.\n",
        "Difficult to Optimize Hyperparameters Ensemble methods often have more hyperparameters than a single model, such as: The number of base models (e.g., the number of trees in Random Forests or boosting iterations). The depth of the individual trees. Learning rate, regularization parameters, etc. Optimizing these hyperparameters can be computationally expensive and time-consuming. It may require techniques like grid search or random search, which can further add to the computational burden.\n",
        "Model Size Ensemble models, especially those with a large number of base learners (e.g., Random Forest with many trees), can become very large in terms of model size. This can make the model harder to deploy, especially in resource-constrained environments (like mobile applications or edge devices)."
      ],
      "metadata": {
        "id": "n6-Fz79Isth_"
      }
    },
    {
      "cell_type": "markdown",
      "source": [
        "**11 Explain the key idea behind ensemble techniques2**\n",
        "\n",
        "The key idea behind ensemble techniques is to combine multiple base models (also known as weak learners) to create a single, more powerful strong learner. The idea is rooted in the concept that a group of models working together can produce more accurate, robust, and stable predictions than any individual model could on its own.\n",
        "\n",
        "Key Concepts Behind Ensemble Techniques: Leverage Diversity:\n",
        "\n",
        "Ensemble methods take advantage of the fact that individual models might have different strengths and weaknesses. By combining different models, we can reduce the likelihood of errors and capture a broader range of patterns in the data. Different models may make different types of errors, and by averaging or voting on their predictions, the ensemble reduces the overall error. Reduce Overfitting (Variance) or Bias:\n",
        "\n",
        "Bagging (e.g., Random Forests) is focused on reducing variance. By training multiple models on different subsets of the data and averaging their predictions, bagging reduces the variance of individual models, which helps to avoid overfitting. Boosting (e.g., Gradient Boosting, AdaBoost) focuses on reducing bias by iteratively improving weak models. It gives more weight to the data points that previous models struggled with, resulting in a more accurate model by focusing on mistakes. Stacking combines models to reduce both bias and variance by learning from the predictions of other models. Aggregation of Multiple Models:\n",
        "\n",
        "Ensemble methods work by aggregating the predictions of multiple models. This can be done in various ways: Averaging: For regression tasks, predictions from individual models are averaged. Voting: For classification tasks, the most common predicted class among all models is chosen (majority voting). Improved Performance:\n",
        "\n",
        "The combination of several models typically leads to better generalization and performance on unseen data. The ensemble model is more likely to make the right prediction by relying on a diverse set of models, thereby improving accuracy and robustness. Example of Different Ensemble Methods: Bagging (Bootstrap Aggregating):\n",
        "\n",
        "Key Idea: Create multiple subsets of the training data through bootstrap sampling (sampling with replacement), train a model on each subset, and aggregate the predictions. Goal: Reduce variance (overfitting) by averaging the predictions of multiple models. Example: Random Forest (multiple decision trees). Boosting:\n",
        "\n",
        "Key Idea: Train models sequentially, where each new model tries to correct the errors made by previous models by giving more weight to misclassified points. Goal: Reduce bias by focusing on improving the performance of weak models. Example: Gradient Boosting, AdaBoost. Stacking:\n",
        "\n",
        "Key Idea: Combine predictions of multiple base models (often of different types) using a meta-model that learns the best way to combine them. Goal: Improve performance by reducing both bias and variance. Example: Using decision trees, logistic regression, and k-NN as base models, and a meta-model (like a linear regression) to combine their outputs."
      ],
      "metadata": {
        "id": "aUyflv6qs4Sy"
      }
    },
    {
      "cell_type": "markdown",
      "source": [
        "**12 What is a Random Forest Classifier**\n",
        "\n",
        "A Random Forest Classifier is an ensemble machine learning model that uses multiple decision trees to make classification decisions. It is part of the Random Forest family of algorithms, which is one of the most popular and powerful methods for both classification and regression tasks. The key idea behind a Random Forest Classifier is to combine multiple weak classifiers (decision trees) to create a stronger, more accurate classifier.\n",
        "\n",
        "Key Features of a Random Forest Classifier: Ensemble of Decision Trees:\n",
        "\n",
        "A Random Forest Classifier builds a forest of decision trees. Each decision tree in the forest is trained on a random subset of the data, and during training, the model uses random feature selection to split the data at each node of the tree. By combining the predictions of multiple trees, the Random Forest improves accuracy and robustness compared to a single decision tree. Bootstrap Sampling (Bagging):\n",
        "\n",
        "Bootstrap sampling, also known as bagging (Bootstrap Aggregating), is used to create different subsets of the training data. Each tree in the forest is trained on a different subset of the data (with replacement), meaning some data points may appear multiple times in one tree's training set, while others might not appear at all. This helps reduce overfitting and ensures that the model generalizes better to unseen data. Random Feature Selection:\n",
        "\n",
        "When splitting each node of a decision tree, the Random Forest does not consider all features. Instead, it randomly selects a subset of features to evaluate at each node. This randomness prevents the trees from becoming too similar to each other, increasing the diversity of the models and improving the overall ensemble's performance. Majority Voting:\n",
        "\n",
        "For classification, once all the trees in the forest have made their predictions, the majority vote is used to decide the final predicted class label. This means that the class chosen by the most trees is the one that the Random Forest Classifier predicts. If you have 100 trees and 60 trees predict class A, while 40 trees predict class B, the Random Forest will predict class A as the final output. How a Random Forest Classifier Works: Data Sampling:\n",
        "\n",
        "From the original training dataset, multiple bootstrapped subsets are created, each used to train a different decision tree. Training Multiple Decision Trees:\n",
        "\n",
        "Each decision tree is trained on one of these random subsets of the data. At each node of the tree, only a random subset of the features is considered for splitting, which increases the diversity of the trees. Prediction:\n",
        "\n",
        "Once all trees are trained, predictions are made for a new data point. Each tree predicts a class label, and the final class prediction is determined by a majority vote (the most common class predicted by all the trees). Final Output:\n",
        "\n",
        "The class that gets the most votes from the trees is selected as the final output of the Random Forest Classifier. Advantages of Random Forest Classifier: High Accuracy:\n",
        "\n",
        "Random Forests tend to produce highly accurate predictions due to their ensemble nature, which reduces overfitting and variance. Robustness:\n",
        "\n",
        "Since the model averages over many decision trees, it is less sensitive to noisy data and outliers, making it robust against such issues. Reduced Overfitting:\n",
        "\n",
        "By averaging the predictions of multiple decision trees, Random Forests can reduce overfitting compared to a single decision tree, which may overfit to the training data. Feature Importance:\n",
        "\n",
        "Random Forests can be used to assess the importance of different features in predicting the target variable. This is helpful in feature selection. Versatility:\n",
        "\n",
        "Random Forests can handle both classification and regression tasks, making them versatile for various types of problems. Works Well with Missing Data:\n",
        "\n",
        "Random Forests are capable of handling missing values and can still perform well even when parts of the dataset are missing. Disadvantages of Random Forest Classifier: Model Complexity:\n",
        "\n",
        "Random Forests can become quite large (with many trees), which can increase computational costs and memory requirements for both training and prediction. Interpretability:\n",
        "\n",
        "Since Random Forests are an ensemble of many decision trees, they are harder to interpret compared to individual decision trees, which are easy to visualize and understand. Slower Predictions:\n",
        "\n",
        "Although training is often fast (thanks to parallelization), prediction can be slower because the model needs to evaluate all the trees in the forest. Example of a Random Forest Classifier in Python (using scikit-learn): python Copy from sklearn.ensemble import RandomForestClassifier from sklearn.datasets import load_iris from sklearn.model_selection import train_test_split from sklearn.metrics import accuracy_score\n",
        "\n",
        "Load the Iris dataset (a simple dataset for classification)\n",
        "data = load_iris() X = data.data y = data.target\n",
        "\n",
        "Split the dataset into training and testing sets\n",
        "X_train, X_test, y_train, y_test = train_test_split(X, y, test_size=0.3, random_state=42)\n",
        "\n",
        "Create a Random Forest Classifier\n",
        "rf_classifier = RandomForestClassifier(n_estimators=100, random_state=42)\n",
        "\n",
        "Train the classifier\n",
        "rf_classifier.fit(X_train, y_train)\n",
        "\n",
        "Make predictions on the test set\n",
        "y_pred = rf_classifier.predict(X_test)\n",
        "\n",
        "Evaluate the model\n",
        "accuracy = accuracy_score(y_test, y_pred) print(f\"Accuracy of Random Forest Classifier: {accuracy * 100:.2f}%\") Explanation of the Code: RandomForestClassifier(): This creates a Random Forest Classifier with 100 decision trees. fit(): This trains the classifier using the training data. predict(): After training, this method is used to make predictions on the test data. accuracy_score(): This evaluates the model by comparing the predicted labels to the actual test labels."
      ],
      "metadata": {
        "id": "jIiZKKyTtECl"
      }
    },
    {
      "cell_type": "markdown",
      "source": [
        "**13 What are the main types of ensemble techniques.**\n",
        "\n",
        "Ensemble techniques in machine learning combine multiple base models to improve the overall performance. There are three main types of ensemble techniques:\n",
        "\n",
        "Bagging (Bootstrap Aggregating) Key Idea: Bagging builds multiple independent models in parallel and combines their predictions to reduce variance (overfitting).\n",
        "How it works:\n",
        "\n",
        "Bootstrap sampling: Randomly sample subsets of the training data with replacement (i.e., some data points may be repeated in each subset). Train models: Train a base model (e.g., decision tree) on each of these subsets. Combine predictions: For classification tasks, use majority voting; for regression tasks, use averaging of the predictions from all models. Advantages:\n",
        "\n",
        "Reduces overfitting by averaging the predictions of many models. Typically improves performance, especially for high-variance models like decision trees. Example:\n",
        "\n",
        "Random Forests is a popular bagging technique, where multiple decision trees are trained on different bootstrap samples and their predictions are aggregated. 2. Boosting Key Idea: Boosting builds models sequentially, where each new model focuses on correcting the errors made by the previous models. It reduces bias and variance by giving more weight to the misclassified instances.\n",
        "\n",
        "How it works:\n",
        "\n",
        "Sequential learning: Models are trained in sequence, with each model trying to correct the mistakes of the previous one. Weight adjustment: The misclassified data points are given higher weights so that subsequent models pay more attention to these difficult-to-classify examples. Combine predictions: After training all models, their weighted predictions are combined. For classification, this is usually done using weighted voting; for regression, weighted averaging. Advantages:\n",
        "\n",
        "Boosting can significantly improve accuracy, especially on complex datasets. It is very effective at reducing both bias and variance. Examples:\n",
        "\n",
        "AdaBoost (Adaptive Boosting) Gradient Boosting (including XGBoost, LightGBM, and CatBoost) LogitBoost 3. Stacking (Stacked Generalization) Key Idea: Stacking combines the predictions of multiple base models (which can be different types of models) by training a meta-model to learn the best way to combine their outputs.\n",
        "\n",
        "How it works:\n",
        "\n",
        "Train base models: First, train multiple different models (e.g., decision trees, logistic regression, k-NN) on the training dataset. Meta-model: Use the predictions of these base models as features to train a meta-model (often a simple model like logistic regression). Final prediction: The meta-model makes the final prediction based on the combined outputs of the base models. Advantages:\n",
        "\n",
        "Can combine different types of models (e.g., trees, linear models, etc.) to capture a wide range of patterns. Tends to be very effective when the base models have complementary strengths. Examples:\n",
        "\n",
        "Stacked generalization, where base models are trained first, and a meta-model combines their outputs."
      ],
      "metadata": {
        "id": "CAfyKqHztQUZ"
      }
    },
    {
      "cell_type": "markdown",
      "source": [
        "**14 What is ensemble learning in machine learning.**\n",
        "\n",
        "Ensemble learning in machine learning refers to the technique of combining multiple individual models, often called base learners or weak learners, to create a stronger model that delivers better performance than any single model. The main goal of ensemble learning is to improve the accuracy, robustness, and generalization of a predictive model by aggregating the predictions from several models.\n",
        "\n",
        "Key Concepts in Ensemble Learning: Combining Multiple Models: Instead of relying on a single model, ensemble learning combines the predictions of several models to make a final prediction. The idea is that, when combined, the individual models' errors will be reduced or canceled out, leading to improved performance.\n",
        "\n",
        "Diversity: The models used in an ensemble are often diverse (i.e., they make different types of errors). This diversity allows the ensemble to take advantage of the strengths of each individual model while reducing their individual weaknesses.\n",
        "\n",
        "Aggregation: The ensemble combines the predictions from multiple models. The way predictions are aggregated depends on the ensemble method:\n",
        "\n",
        "Classification: The final prediction can be made by majority voting (the class that most models predict) or weighted voting (where models with better performance may have more influence). Regression: The final prediction can be made by averaging the predictions from all models in the ensemble. Benefits of Ensemble Learning: Improved Accuracy: By combining multiple models, ensemble methods usually result in a better-performing model compared to any individual model. Reduction in Overfitting: For methods like bagging, ensembles help reduce the model’s variance and overfitting, making them more robust to noise and outliers in the data. Increased Robustness: Since the final decision is based on the combined predictions of multiple models, the ensemble is less likely to be influenced by noisy data points, making it more stable and less sensitive to fluctuations in the data. Main Types of Ensemble Learning Methods: Bagging (Bootstrap Aggregating):\n",
        "\n",
        "Concept: Bagging trains multiple models (usually the same type of model) on different subsets of the training data, created by bootstrap sampling (sampling with replacement). The predictions are then aggregated (e.g., by voting or averaging) to form the final output. Goal: Reduce variance and prevent overfitting. Example: Random Forest, where multiple decision trees are trained on different data samples and their results are averaged for classification. Boosting:\n",
        "\n",
        "Concept: Boosting builds models sequentially, where each new model attempts to correct the errors made by the previous models. It assigns higher weights to incorrectly predicted instances so that subsequent models focus more on these challenging cases. Goal: Reduce bias and improve accuracy by focusing on hard-to-classify data points. Example: AdaBoost, Gradient Boosting (including XGBoost, LightGBM, CatBoost). Stacking (Stacked Generalization):\n",
        "\n",
        "Concept: In stacking, multiple different types of models (e.g., decision trees, logistic regression, etc.) are trained, and a meta-model is trained to combine their predictions. The meta-model learns the optimal way to aggregate the predictions of the base models. Goal: Combine the strengths of different types of models to improve performance. Example: A stacked generalization model might use decision trees, k-NN, and logistic regression as base models, with a linear model as the meta-model. How Ensemble Learning Works: Training Phase:\n",
        "\n",
        "The ensemble method trains several base models on either different subsets of the data or in different ways (depending on the technique being used). In bagging, each model is trained on a random subset of the data. In boosting, each model is trained sequentially, with a focus on correcting the mistakes of the previous models. In stacking, multiple models of different types are trained independently, and their predictions are used to train a meta-model. Prediction Phase:\n",
        "\n",
        "After training, the ensemble makes a prediction by aggregating the outputs of the individual models. For classification, this might involve majority voting, and for regression, it could involve averaging. The final output is based on the combined decision of all the models, which generally improves accuracy compared to using a single model. Examples of Ensemble Learning Techniques: Random Forest: A popular bagging technique that combines multiple decision trees. AdaBoost: A boosting technique that adjusts weights of data points to correct mistakes of previous models. Gradient Boosting: A boosting method where models are trained sequentially to minimize the residual errors from previous models. XGBoost, LightGBM, and CatBoost: Advanced implementations of gradient boosting that offer better performance and efficiency. Stacking: Combines multiple diverse models like decision trees, logistic regression, and k-NN, and uses a meta-model to combine their predictions. Advantages of Ensemble Learning: Higher Accuracy: By combining the strengths of multiple models, ensemble learning can achieve better predictive accuracy than any individual model. Reduction in Overfitting: Bagging techniques like Random Forest reduce overfitting by averaging out the errors of individual models. More Robust: The model is less likely to be influenced by noisy data or outliers because it aggregates multiple predictions. Disadvantages of Ensemble Learning: Computational Cost: Training and predicting with multiple models can be computationally expensive and time-consuming, especially for large datasets or complex base models. Interpretability: Ensembles, especially methods like Random Forest and Gradient Boosting, can be harder to interpret because the decision-making process is distributed across many models. Model Complexity: Managing and deploying an ensemble of models can be more complex than dealing with a single model."
      ],
      "metadata": {
        "id": "5FYdBDintcXF"
      }
    },
    {
      "cell_type": "markdown",
      "source": [
        "**15 When should we avoid using ensemble methods**\n",
        "\n",
        "While ensemble methods offer many benefits, there are situations where using them may not be the best choice. Here are some cases where you should consider avoiding ensemble methods:\n",
        "\n",
        "When Model Interpretability is Crucial Problem: Ensemble models, especially methods like Random Forests, Gradient Boosting, or Stacking, are often complex and less interpretable compared to simpler models like decision trees or logistic regression. Reason to Avoid: If you need to interpret how a model makes its decisions, such as in situations where transparency and explainability are crucial (e.g., healthcare, finance, legal applications), ensemble methods can be more difficult to interpret. Alternative: Consider using simpler models like linear models or decision trees that provide more transparency into how predictions are made.\n",
        "When Computational Resources Are Limited Problem: Ensemble methods often require more computational resources because they involve training multiple models (sometimes hundreds or thousands of models in the case of large Random Forests or Gradient Boosting Machines). Reason to Avoid: If you have limited computational power or time for training and inference (e.g., on devices with low processing power or in real-time systems), ensemble methods may not be suitable. Alternative: Simpler models like logistic regression or support vector machines may be more appropriate in such cases.\n",
        "When You Have Small Datasets Problem: Ensemble methods, particularly bagging methods (e.g., Random Forests), may not perform well when the dataset is small because they rely on creating multiple models from bootstrapped samples. With limited data, bootstrapping may lead to poor or biased models. Reason to Avoid: With small datasets, the added complexity of ensemble methods may lead to overfitting or a lack of generalization. The models may not have enough data to learn effectively, and the ensemble approach might exacerbate this. Alternative: A single, simpler model like logistic regression, support vector machines, or k-NN may be a better choice when data is limited.\n",
        "When the Problem Is Simple and a Single Model Suffices Problem: For many problems, using an ensemble method is overkill if a single well-tuned model performs well enough. Reason to Avoid: If a simple model, such as logistic regression, decision trees, or k-NN, already provides satisfactory performance with fewer computational requirements, the complexity and overhead of ensemble methods might not be necessary. Alternative: Stick with simpler, interpretable, and computationally efficient models that work well for the problem at hand.\n",
        "When Training Time and Predictive Performance Are Critical Problem: Ensemble methods, particularly those that build multiple models sequentially (e.g., boosting), can be computationally expensive and time-consuming. Reason to Avoid: In applications where real-time predictions or low-latency are critical (e.g., fraud detection in real-time), training a large ensemble or performing predictions with a large ensemble might be impractical. Alternative: Linear models, Naive Bayes, or a single decision tree might provide quicker predictions while still achieving acceptable performance.\n",
        "When You're Concerned About Memory Usage Problem: Some ensemble methods, like Random Forests or Gradient Boosting, require significant memory to store multiple models, especially when the number of base learners (trees or models) is large. Reason to Avoid: If you're working with large datasets or memory-constrained environments (like embedded systems or mobile devices), storing many models can quickly become impractical. Alternative: Consider using lighter models like Logistic Regression or Linear SVMs that have lower memory footprints.\n",
        "When There's a Risk of Overfitting Problem: Ensemble methods can sometimes overfit the data, particularly if the base models are highly complex (e.g., deep decision trees) or if the ensemble is too large. Reason to Avoid: Although ensemble methods like bagging typically help reduce overfitting, overly complex base models or an excessive number of models in the ensemble can lead to overfitting. For example, Random Forests can become prone to overfitting if the number of trees is excessively large or if the trees themselves are too deep. Alternative: Simpler models with regularization (like Lasso Regression or Ridge Regression) can help control overfitting more directly.\n",
        "When Model Training Requires High Data Quality Problem: Ensemble methods tend to amplify errors in the data, especially in the case of noisy, incomplete, or unbalanced datasets. Reason to Avoid: If the data has significant noise or outliers, ensembles like boosting can be sensitive to these issues, which may result in poor model performance. Alternative: Focus on improving data quality and possibly using a simpler model with better built-in mechanisms for handling noise, like Robust Regression or Random Forests (which are more robust to outliers)."
      ],
      "metadata": {
        "id": "LzwRgsJutoDQ"
      }
    },
    {
      "cell_type": "markdown",
      "source": [
        "**16 How does Bagging help in reducing overfitting**\n",
        "\n",
        "Bagging (Bootstrap Aggregating) helps in reducing overfitting by combining the predictions of multiple base models (often decision trees) that are trained on different subsets of the data. Here's how bagging specifically helps in mitigating overfitting:\n",
        "\n",
        "Training on Multiple Random Subsets: Bagging works by creating multiple bootstrap samples (random subsets) from the original training data. These subsets are created by randomly sampling the training data with replacement, meaning that each subset may contain some duplicate data points and some data points may not appear at all. Since each model (or base learner) is trained on a different subset of data, the models become less likely to overfit to the noise or specific details of any single subset.\n",
        "Reducing Model Variance: Overfitting often occurs when a model has high variance, meaning it learns to capture noise or random fluctuations in the training data instead of the underlying patterns. Bagging helps by training multiple models on different data subsets, and by averaging the results or using majority voting (for classification), the predictions become more stable and generalizable. This averaging reduces the variance of the final prediction, as errors and noise introduced by individual models tend to cancel each other out.\n",
        "Combining Multiple Models (Ensemble): The final prediction in bagging is made by combining the predictions of all the individual models. In classification, this is usually done through majority voting, and in regression, it’s done by averaging. Since the models are diverse (due to training on different data subsets), the ensemble prediction is less likely to be influenced by the overfitting of any one model. This helps to smooth out the predictions and prevent overfitting.\n",
        "Dealing with Noisy Data: Bagging reduces the model's tendency to overfit to noisy or outlier data because the individual models are trained on different data subsets. A model that may overfit to noise in one subset will likely not overfit to the same noise in another subset, especially when you have a large number of base models. By combining many base learners, the ensemble model is more robust and generalizes better, reducing the impact of noise.\n",
        "Stabilizing Decision Boundaries: In the case of decision trees, which are prone to overfitting because they can grow deep and complex with respect to the training data, bagging stabilizes the decision boundaries. The ensemble of decision trees trained on different data subsets creates a more generalized and stable decision boundary. As each tree is trained on a different set of data, the decision boundaries of each individual tree are different, and averaging their results leads to a smoother, less sensitive decision boundary."
      ],
      "metadata": {
        "id": "KhXSyeELtzWa"
      }
    },
    {
      "cell_type": "markdown",
      "source": [
        "**17 Why is Random Forest better than a single Decision Tree**\n",
        "\n",
        "Random Forest is generally considered better than a single decision tree for several key reasons, primarily because of its ability to reduce overfitting, increase robustness, and improve generalization. Here’s a detailed comparison between the two:\n",
        "\n",
        "Reduction in Overfitting Single Decision Tree: A decision tree is prone to overfitting, especially when it is allowed to grow deeply and perfectly fit the training data. A deep decision tree will capture not only the true patterns in the data but also the noise and outliers, which leads to poor generalization to unseen data. Random Forest: Random Forest mitigates this issue by creating multiple decision trees on different bootstrap samples (random subsets with replacement) of the training data. Since each tree is trained on a different subset, it is less likely to overfit to the same noise or outliers in the data. The final prediction is made by aggregating the predictions of all trees (through majority voting in classification or averaging in regression), which stabilizes the result and reduces overfitting.\n",
        "Increased Accuracy and Performance Single Decision Tree: A single decision tree, while easy to interpret and fast to train, may not provide the highest predictive performance. Its performance is limited by how well it splits the data and how deep it grows. In many cases, decision trees can be inaccurate if the tree doesn't generalize well. Random Forest: By averaging the predictions of multiple decision trees, Random Forest reduces the model's variance and is typically more accurate than a single decision tree. The aggregation of multiple models tends to smooth out errors and leads to better predictive performance. It benefits from the wisdom of crowds: each tree may make different errors, but by combining them, the overall model improves.\n",
        "Handling of Variance and Bias Single Decision Tree: A single decision tree tends to have high variance, meaning it may overfit to the training data, particularly when it is deep. This leads to poor generalization to new data. Random Forest: Random Forest reduces the variance by averaging the results of many decision trees. This typically leads to lower overfitting and better generalization. In contrast, it may slightly increase bias (since it smooths out decision boundaries), but this is often compensated by the reduction in variance, resulting in overall better performance.\n",
        "Robustness to Noise and Outliers Single Decision Tree: A decision tree can be highly sensitive to noise and outliers in the data. Since the tree is built to perfectly partition the training data, any noise or extreme values can influence the tree's splits and make it overly complex and overfitted. Random Forest: Random Forest is more robust to noise because it creates multiple trees using different subsets of the data. The aggregation of predictions from many trees reduces the influence of noisy data points and outliers, leading to more stable and reliable predictions.\n",
        "Feature Importance and Stability Single Decision Tree: In a single decision tree, the feature importance is determined by how much each feature contributes to the decision splits. However, this measure can be biased if the tree is overfitted to the data. Random Forest: Random Forest provides more reliable estimates of feature importance by averaging the feature importance scores across all trees in the forest. This results in a more stable and less biased ranking of features.\n",
        "Improved Generalization Single Decision Tree: Due to overfitting, a single decision tree might not generalize well to unseen data. Its performance may drop significantly on test data that differs from the training data. Random Forest: Because of its ensemble nature, Random Forest generally generalizes better to unseen data. The randomness in the training process (due to bootstrapping and random feature selection) helps the model learn more general patterns, which leads to better performance on out-of-sample data.\n",
        "Better Handling of Complex Data Patterns Single Decision Tree: A single decision tree can struggle to capture very complex relationships in the data. It may need to grow very deep (which increases the risk of overfitting) to capture intricate patterns. Random Forest: Random Forest, with its multiple trees trained on different subsets of the data, is better equipped to capture complex relationships. By considering different parts of the data and averaging the predictions, it can model complex patterns more effectively.\n",
        "Parallelism and Scalability Single Decision Tree: Training a single decision tree is relatively quick and simple, as it involves creating a single tree structure. Random Forest: While training a Random Forest requires training many decision trees, it can be done in parallel (since each tree is trained independently on different subsets of the data). This parallelism allows Random Forest to be scalable and efficient, particularly for large datasets, as long as the computational resources are available. Summary: Why Random Forest is Better Than a Single Decision Tree Reduced Overfitting: Random Forest reduces the tendency of a decision tree to overfit the data by aggregating predictions from multiple trees trained on different subsets. Improved Accuracy: By averaging or voting across multiple decision trees, Random Forest typically yields higher accuracy than a single decision tree. Robustness: Random Forest is more robust to noise, outliers, and fluctuations in the data. Better Generalization: Due to reduced variance and improved performance across different data subsets, Random Forest generalizes better to unseen data. Higher Stability: Random Forest provides more stable and reliable feature importance metrics and predictions compared to a single decision tree. Overall, Random Forest is often preferred over a single decision tree due to its improved accuracy, reduced overfitting, better handling of noisy data, and robustness to fluctuations in the data."
      ],
      "metadata": {
        "id": "9vs5WJ_0uEuE"
      }
    },
    {
      "cell_type": "markdown",
      "source": [
        "**18 What is the role of bootstrap sampling in Bagging**\n",
        "\n",
        "In Bagging (Bootstrap Aggregating), bootstrap sampling plays a crucial role in improving the performance of the ensemble model. Bootstrap sampling refers to the process of creating multiple random subsets of the training data by sampling with replacement. These subsets are used to train individual models in the ensemble.\n",
        "\n",
        "Here’s a breakdown of the role of bootstrap sampling in Bagging:\n",
        "\n",
        "Creating Diverse Models: Bootstrap sampling generates multiple training subsets by randomly selecting data points from the original training dataset, with replacement. This means some data points may be repeated in a subset, while others may be left out. By creating different subsets, each model in the Bagging ensemble is trained on a slightly different version of the data. This introduces diversity among the models, which helps the ensemble model learn different patterns and relationships in the data.\n",
        "Reducing Variance: One of the key strengths of Bagging is its ability to reduce variance and prevent overfitting. A single model (like a decision tree) can easily overfit to the training data, especially if the model is complex. However, by training models on different bootstrap samples, the individual models in Bagging are less likely to overfit to the same noise or specific characteristics in the data. Since the models are trained on different subsets, their errors are typically not the same. When you aggregate the predictions of many models, their errors tend to cancel each other out, resulting in a more stable and accurate ensemble prediction.\n",
        "Improving Generalization: Generalization refers to how well a model performs on unseen data. Models trained on different bootstrap samples tend to learn different aspects of the data. When predictions from these diverse models are aggregated (through majority voting for classification or averaging for regression), the resulting ensemble is more robust and generalizes better to new, unseen data. By aggregating the predictions of multiple models that are exposed to different data subsets, Bagging reduces the risk of overfitting to specific data points, leading to better generalization.\n",
        "Handling Outliers and Noise: Noise and outliers in the data can heavily influence a single model’s performance. A decision tree, for example, may split on outliers or noisy data points, leading to overfitting. With bootstrap sampling, each individual model in the ensemble is exposed to slightly different data, so the impact of noise or outliers is reduced across the entire ensemble. Since the final prediction is made by combining the results from multiple models, the influence of noisy data points or outliers is diminished.\n",
        "Enabling Parallel Training: Since the individual models in Bagging are trained on different bootstrap samples independently, the process is inherently parallelizable. This means that each model can be trained in parallel, which can significantly reduce the overall training time when using multiple processors or distributed computing.\n",
        "Improving Stability: Stability in machine learning refers to the sensitivity of the model to small changes in the training data. A model that is highly sensitive to small changes in the training data is often prone to overfitting. By using bootstrap sampling, Bagging helps stabilize the predictions by averaging or voting over many different models, making the final prediction less sensitive to fluctuations or small changes in the training data. How Bootstrap Sampling Works in Bagging: Step 1: Generate Multiple Bootstrap Samples:\n",
        "From the original training dataset, create N bootstrap samples, where each sample is drawn by randomly selecting data points with replacement from the original dataset. Each bootstrap sample is of the same size as the original dataset, but some data points may appear multiple times while others may not appear at all. Step 2: Train a Model on Each Sample:\n",
        "\n",
        "For each bootstrap sample, a model (e.g., decision tree) is trained. The model will learn the relationships in the data subset, which may include variations and noise inherent to that sample. Step 3: Aggregate Predictions:\n",
        "\n",
        "After all models have been trained, predictions are made for new (test) data. For classification problems, the predictions from each model are combined through majority voting (i.e., the class predicted by most models is chosen). For regression, the predictions are combined by averaging the results from all models."
      ],
      "metadata": {
        "id": "V3nIS7IGuPyq"
      }
    },
    {
      "cell_type": "markdown",
      "source": [
        "**19 What are some real-world applications of ensemble techniques**\n",
        "\n",
        "Ensemble techniques are widely used in various real-world applications across different domains because of their ability to improve the accuracy, robustness, and generalization of machine learning models. Here are some real-world applications where ensemble methods are commonly applied:\n",
        "\n",
        "Financial Market Prediction Application: Predicting stock prices, market trends, and financial forecasting. How Ensemble Helps: Ensemble methods, especially Random Forests and Gradient Boosting, are used to predict stock movements, asset prices, and market indices. These methods combine multiple models to better capture the complex, non-linear relationships in financial data, reducing overfitting and improving predictive accuracy. Example: Predicting stock price movements based on historical data, trading volume, and technical indicators.\n",
        "Medical Diagnosis Application: Predicting diseases, diagnosing medical conditions from patient data (e.g., cancer detection, heart disease prediction). How Ensemble Helps: Ensemble models, like Random Forests, XGBoost, and Bagging, are often used in medical fields to combine multiple diagnostic models, improving predictive accuracy and robustness. These techniques help in handling noisy data and can give more reliable predictions, which is critical in healthcare. Example: Predicting whether a patient has a certain type of cancer based on medical imaging, genetic data, and lifestyle factors.\n",
        "Customer Segmentation and Personalization Application: Marketing and customer relationship management (CRM), recommendation systems. How Ensemble Helps: Ensemble methods are used to build personalized recommendation systems and segment customers based on purchasing behavior, demographics, and online activity. These models can combine predictions from different algorithms (e.g., collaborative filtering, decision trees, and regression models) to improve the accuracy of recommendations. Example: Recommending products to users based on their past behavior and the behavior of similar users in an e-commerce platform.\n",
        "Spam Email Detection Application: Classifying emails as spam or not spam. How Ensemble Helps: Ensemble methods like Random Forests and Naive Bayes-based ensemble models are used in spam detection systems to combine multiple classifiers trained on different features (e.g., email content, sender information, metadata). This improves the system's ability to correctly identify spam emails, even in the presence of changing spam tactics. Example: Filtering out spam emails in email services like Gmail or Outlook.\n",
        "Image Recognition and Computer Vision Application: Identifying objects, people, or features in images and videos (e.g., facial recognition, medical image analysis). How Ensemble Helps: Ensemble techniques like Random Forests, Gradient Boosting, and bagging are used to combine multiple models in computer vision tasks. The aggregation of different models helps improve performance by reducing the risk of overfitting and increasing the model's ability to generalize to new, unseen images. Example: Identifying tumors in medical scans (CT, MRI) or recognizing objects in self-driving car applications.\n",
        "Fraud Detection Application: Detecting fraudulent transactions in banking, credit card usage, or insurance claims. How Ensemble Helps: Random Forests, Boosting algorithms, and Stacking techniques are used in fraud detection systems to combine multiple weak classifiers and create a more powerful model. This reduces false positives and enhances the model's ability to detect complex fraud patterns. Example: Detecting fraudulent credit card transactions based on historical data, spending patterns, and user behavior.\n",
        "Sentiment Analysis Application: Analyzing public sentiment in social media, product reviews, and customer feedback. How Ensemble Helps: Ensemble methods, especially Voting Classifiers and Bagging, are used to combine the outputs of different sentiment analysis models (e.g., decision trees, SVMs, and neural networks). This improves the accuracy of sentiment classification, especially when dealing with diverse and noisy text data. Example: Analyzing Twitter or product reviews to determine the sentiment toward a brand or product.\n",
        "Weather Forecasting Application: Predicting weather conditions like temperature, rainfall, or extreme weather events. How Ensemble Helps: Ensemble methods are applied to combine the predictions from multiple weather models, improving the accuracy and reliability of weather forecasts. These methods help to mitigate the biases of individual models by averaging their results. Example: Predicting the likelihood of rainfall, storm occurrence, or temperature trends over the next few days.\n",
        "Energy Demand Forecasting Application: Predicting electricity demand for optimizing energy production and distribution. How Ensemble Helps: Random Forests and Gradient Boosting are used in energy demand forecasting to combine multiple predictors such as historical demand, weather data, and economic indicators. The ensemble approach helps improve the forecast's accuracy by capturing complex patterns in the data. Example: Predicting the electricity demand for a region based on historical consumption and external factors (like weather and holidays).\n",
        "Speech Recognition Application: Converting spoken language into text in applications like virtual assistants and transcription services. How Ensemble Helps: Ensemble techniques are used to combine the outputs of different models (e.g., deep learning models, decision trees, and HMMs) for better speech recognition performance. By combining the strengths of different models, ensemble methods can handle noise, accents, and various speech patterns more effectively. Example: Improving the accuracy of voice assistants like Google Assistant, Alexa, or Siri in understanding spoken commands.\n",
        "Autonomous Vehicles Application: Enabling self-driving cars to make decisions based on sensor data (LiDAR, radar, cameras, etc.). How Ensemble Helps: Ensemble methods help combine predictions from multiple models that analyze different types of sensor data (e.g., object detection, lane detection, obstacle avoidance) to improve the overall decision-making process of autonomous vehicles. The diversity of models helps ensure safety and robustness in real-time driving scenarios. Example: Determining the best path for a self-driving car while avoiding obstacles and following traffic laws.\n",
        "Risk Management Application: Assessing and managing risk in industries like insurance, banking, and healthcare. How Ensemble Helps: Ensemble techniques, such as Random Forests and XGBoost, are used in risk modeling to combine the predictions of multiple models, improving risk assessments and decision-making. This is particularly important in identifying high-risk customers, assets, or operations that could result in large losses. Example: Predicting the likelihood of an insurance claim based on customer data and past claims history."
      ],
      "metadata": {
        "id": "tb0pUBifuelL"
      }
    },
    {
      "cell_type": "markdown",
      "source": [
        "**20 What is the difference between Bagging and Boosting?**\n",
        "\n",
        "Bagging and Boosting are both ensemble learning techniques that combine multiple models to improve prediction accuracy. While both aim to create a stronger model by combining several weak learners, they do so in different ways. Here's a detailed comparison between Bagging and Boosting:\n",
        "\n",
        "Basic Concept Bagging (Bootstrap Aggregating): Goal: Reduce variance and prevent overfitting by averaging the predictions of multiple models. Approach: Bagging trains multiple independent models (often decision trees) on random subsets of the data (created by bootstrap sampling), then combines their predictions by averaging (for regression) or voting (for classification). Parallel: Each model is trained independently, so Bagging can be parallelized easily. Boosting: Goal: Reduce both bias and variance by iteratively improving the model's performance. Approach: Boosting trains models sequentially, where each new model is trained to correct the errors made by the previous models. Weights are adjusted for incorrectly predicted data points to give them more importance in the next model. Sequential: Boosting cannot be parallelized as easily since each model depends on the previous one.\n",
        "Model Training Process Bagging: Models are trained independently in parallel, using different subsets of the data. Each model is given equal weight when making the final prediction. Boosting: Models are trained sequentially, where each model attempts to correct the mistakes made by the previous one. Misclassified instances in previous models are given higher weights in the next model, making the algorithm focus more on difficult cases.\n",
        "Handling of Bias and Variance Bagging: Reduces variance: Bagging works by combining predictions from multiple models, which helps smooth out fluctuations in individual models and reduces overfitting (variance). Bagging is particularly effective when the base model is high-variance (e.g., deep decision trees). Boosting: Reduces both bias and variance: Boosting primarily focuses on reducing bias by sequentially improving the model’s accuracy, and it also helps reduce variance by focusing on hard-to-predict examples. Boosting is effective when the base model is high-bias (e.g., shallow decision trees).\n",
        "Focus on Misclassified Data Bagging: In Bagging, all data points are treated equally. Each model is trained on a random subset, and there's no specific emphasis on hard-to-classify instances. Boosting: Boosting places higher importance on data points that are misclassified by previous models. These misclassified points are given higher weights, so subsequent models focus more on getting them right.\n",
        "Types of Algorithms Bagging: Examples: Random Forest (which uses decision trees as base learners) Bagging Classifier Bagging Regressor Boosting: Examples: AdaBoost (Adaptive Boosting) Gradient Boosting XGBoost (Extreme Gradient Boosting) LightGBM CatBoost\n",
        "Final Prediction Method Bagging: The final prediction is made by averaging the predictions (for regression) or majority voting (for classification) of all the individual models. Boosting: The final prediction is a weighted sum of the predictions from all the models, where more accurate models typically have a higher weight.\n",
        "Handling Overfitting Bagging:\n",
        "Bagging helps to reduce overfitting by averaging the predictions from multiple models, which decreases variance. It’s particularly useful when the base model is prone to overfitting (e.g., decision trees). Boosting:\n",
        "\n",
        "Boosting can increase the risk of overfitting if too many models are added, because the model becomes highly sensitive to noise. To prevent overfitting, early stopping and regularization techniques are often used. 8. Computational Complexity Bagging: Bagging can be parallelized since models are trained independently. This makes Bagging faster in practice when you have access to multiple processors or machines. Boosting: Boosting requires sequential model training, which can be slower and harder to parallelize. Each model depends on the previous one, so the training process cannot be easily parallelized. 9. Robustness to Outliers Bagging: Bagging is less sensitive to outliers because it averages predictions from multiple models. Individual outliers may not appear in each bootstrap sample, and their influence is reduced through aggregation. Boosting: Boosting can be sensitive to outliers because it places more weight on hard-to-classify instances. If outliers are misclassified, they will get increased weight, and the model might end up overfitting to them."
      ],
      "metadata": {
        "id": "bNyrk4j7uqFe"
      }
    },
    {
      "cell_type": "code",
      "execution_count": 2,
      "metadata": {
        "colab": {
          "base_uri": "https://localhost:8080/"
        },
        "id": "ZHB4cGhNqA49",
        "outputId": "d198f80d-2687-4150-a91d-0fced2567176"
      },
      "outputs": [
        {
          "output_type": "stream",
          "name": "stdout",
          "text": [
            "Model Accuracy: 1.0\n"
          ]
        }
      ],
      "source": [
        "# 21 Train a Bagging Classifier using Decision Trees on a sample dataset and print model accuracy.\n",
        "\n",
        "from sklearn.datasets import load_iris\n",
        "from sklearn.model_selection import train_test_split\n",
        "from sklearn.ensemble import BaggingClassifier\n",
        "from sklearn.tree import DecisionTreeClassifier\n",
        "from sklearn.metrics import accuracy_score\n",
        "\n",
        "# Load the Iris dataset\n",
        "data = load_iris()\n",
        "X = data.data\n",
        "y = data.target\n",
        "\n",
        "# Split the dataset into training and testing sets\n",
        "X_train, X_test, y_train, y_test = train_test_split(X, y, test_size=0.3, random_state=42)\n",
        "\n",
        "# Create a Bagging Classifier using Decision Trees as base learners\n",
        "# Changed 'base_estimator' to 'estimator' to match the current scikit-learn API\n",
        "bagging_model = BaggingClassifier(estimator=DecisionTreeClassifier(), n_estimators=50, random_state=42)\n",
        "\n",
        "bagging_model.fit(X_train, y_train)\n",
        "\n",
        "y_pred = bagging_model.predict(X_test)\n",
        "\n",
        "accuracy = accuracy_score(y_test, y_pred)\n",
        "print(\"Model Accuracy:\", accuracy)"
      ]
    },
    {
      "cell_type": "code",
      "source": [
        "# 22  Train a Bagging Regressor using Decision Trees and evaluate using Mean Squared Error (MSE)2\n",
        "# Importing necessary libraries for the task\n",
        "#Instead of load_boston, use fetch_california_housing\n",
        "from sklearn.datasets import fetch_california_housing\n",
        "from sklearn.model_selection import train_test_split\n",
        "from sklearn.ensemble import BaggingRegressor\n",
        "from sklearn.tree import DecisionTreeRegressor\n",
        "from sklearn.metrics import mean_squared_error\n",
        "\n",
        "# Load the California housing dataset (for regression)\n",
        "data = fetch_california_housing()\n",
        "X = data.data\n",
        "y = data.target\n",
        "\n",
        "\n",
        "# Split the dataset into training and testing sets\n",
        "X_train, X_test, y_train, y_test = train_test_split(X, y, test_size=0.3, random_state=42)\n",
        "\n",
        "# Create a Bagging Regressor using Decision Trees as base learners\n",
        "# Changed 'base_estimator' to 'estimator' to match the current scikit-learn API\n",
        "bagging_model = BaggingRegressor(estimator=DecisionTreeRegressor(), n_estimators=50, random_state=42)\n",
        "\n",
        "\n",
        "# Train the model\n",
        "bagging_model.fit(X_train, y_train)\n",
        "\n",
        "# Predict the test set results\n",
        "y_pred = bagging_model.predict(X_test)\n",
        "\n",
        "# Calculate and print the Mean Squared Error (MSE)\n",
        "mse = mean_squared_error(y_test, y_pred)\n",
        "print(\"Mean Squared Error (MSE):\", mse)"
      ],
      "metadata": {
        "colab": {
          "base_uri": "https://localhost:8080/"
        },
        "id": "HvyBlZoswYjc",
        "outputId": "569549b8-38bb-4566-e037-44dfadba58db"
      },
      "execution_count": 4,
      "outputs": [
        {
          "output_type": "stream",
          "name": "stdout",
          "text": [
            "Mean Squared Error (MSE): 0.25787382250585034\n"
          ]
        }
      ]
    },
    {
      "cell_type": "code",
      "source": [
        "# 23  Train a Random Forest Classifier on the Breast Cancer dataset and print feature importance scores2\n",
        "\n",
        "\n",
        "from sklearn.datasets import load_breast_cancer\n",
        "from sklearn.ensemble import RandomForestClassifier\n",
        "from sklearn.model_selection import train_test_split\n",
        "from sklearn.metrics import accuracy_score\n",
        "\n",
        "# Load the Breast Cancer dataset\n",
        "data = load_breast_cancer()\n",
        "X = data.data\n",
        "y = data.target\n",
        "\n",
        "# Split the dataset into training and testing sets\n",
        "X_train, X_test, y_train, y_test = train_test_split(X, y, test_size=0.3, random_state=42)\n",
        "\n",
        "# Create a Random Forest Classifier model\n",
        "rf_model = RandomForestClassifier(n_estimators=100, random_state=42)\n",
        "\n",
        "# Train the model\n",
        "rf_model.fit(X_train, y_train)\n",
        "\n",
        "# Predict the test set results\n",
        "y_pred = rf_model.predict(X_test)\n",
        "\n",
        "# Calculate and print accuracy\n",
        "accuracy = accuracy_score(y_test, y_pred)\n",
        "\n",
        "# Get and print feature importance scores\n",
        "feature_importances = rf_model.feature_importances_\n",
        "\n",
        "# Display the accuracy and feature importance scores\n",
        "print(\"Accuracy of Random Forest Classifier:\", accuracy)\n",
        "print(\"Feature Importance Scores:\", feature_importances)"
      ],
      "metadata": {
        "colab": {
          "base_uri": "https://localhost:8080/"
        },
        "id": "bF2H6aJcxEyR",
        "outputId": "a76cae62-ef2d-4d49-9067-2e203c8115d9"
      },
      "execution_count": 5,
      "outputs": [
        {
          "output_type": "stream",
          "name": "stdout",
          "text": [
            "Accuracy of Random Forest Classifier: 0.9707602339181286\n",
            "Feature Importance Scores: [0.03231189 0.0110639  0.06009233 0.05381045 0.00622336 0.00921566\n",
            " 0.08055702 0.14193444 0.00327807 0.00314028 0.01643496 0.00317191\n",
            " 0.01176976 0.02953842 0.00588079 0.00459638 0.0058159  0.00338232\n",
            " 0.00400077 0.00713457 0.07797475 0.01878567 0.07429212 0.11821686\n",
            " 0.01176917 0.01753909 0.04107958 0.12713638 0.01292945 0.00692376]\n"
          ]
        }
      ]
    },
    {
      "cell_type": "code",
      "source": [
        "# 24  Train a Random Forest Regressor and compare its performance with a single Decision Tree2\n",
        "# Importing necessary libraries\n",
        "from sklearn.datasets import fetch_california_housing\n",
        "from sklearn.model_selection import train_test_split\n",
        "from sklearn.ensemble import RandomForestRegressor\n",
        "from sklearn.tree import DecisionTreeRegressor\n",
        "from sklearn.metrics import mean_squared_error\n",
        "\n",
        "# Load the California Housing dataset\n",
        "data = fetch_california_housing()\n",
        "X = data.data\n",
        "y = data.target\n",
        "\n",
        "# Split the dataset into training and testing sets\n",
        "X_train, X_test, y_train, y_test = train_test_split(X, y, test_size=0.3, random_state=42)\n",
        "\n",
        "# Create a Decision Tree Regressor model\n",
        "dt_model = DecisionTreeRegressor(random_state=42)\n",
        "\n",
        "# Create a Random Forest Regressor model\n",
        "rf_model = RandomForestRegressor(n_estimators=100, random_state=42)\n",
        "\n",
        "# Train both models\n",
        "dt_model.fit(X_train, y_train)\n",
        "rf_model.fit(X_train, y_train)\n",
        "\n",
        "# Predict the test set results\n",
        "dt_pred = dt_model.predict(X_test)\n",
        "rf_pred = rf_model.predict(X_test)\n",
        "\n",
        "# Calculate Mean Squared Error (MSE) for both models\n",
        "dt_mse = mean_squared_error(y_test, dt_pred)\n",
        "rf_mse = mean_squared_error(y_test, rf_pred)\n",
        "\n",
        "# Print the MSE for both models to compare their performance\n",
        "print(f\"Decision Tree Regressor MSE: {dt_mse}\")\n",
        "print(f\"Random Forest Regressor MSE: {rf_mse}\")"
      ],
      "metadata": {
        "colab": {
          "base_uri": "https://localhost:8080/"
        },
        "id": "gUVLjipOxoP8",
        "outputId": "cd4117cf-ca3a-436a-dbf4-fb735c10e7cd"
      },
      "execution_count": 6,
      "outputs": [
        {
          "output_type": "stream",
          "name": "stdout",
          "text": [
            "Decision Tree Regressor MSE: 0.5280096503174904\n",
            "Random Forest Regressor MSE: 0.25650512920799395\n"
          ]
        }
      ]
    },
    {
      "cell_type": "code",
      "source": [
        "# 25 Compute the Out-of-Bag (OOB) Score for a Random Forest Classifier2\n",
        "# Importing necessary libraries\n",
        "from sklearn.datasets import load_iris\n",
        "from sklearn.ensemble import RandomForestClassifier\n",
        "from sklearn.model_selection import train_test_split\n",
        "from sklearn.metrics import accuracy_score\n",
        "\n",
        "# Load the Iris dataset (for classification)\n",
        "data = load_iris()\n",
        "X = data.data\n",
        "y = data.target\n",
        "\n",
        "# Split the dataset into training and testing sets\n",
        "X_train, X_test, y_train, y_test = train_test_split(X, y, test_size=0.3, random_state=42)\n",
        "\n",
        "# Create a Random Forest Classifier model with OOB score enabled\n",
        "rf_model = RandomForestClassifier(n_estimators=100, random_state=42, oob_score=True)\n",
        "\n",
        "# Train the model\n",
        "rf_model.fit(X_train, y_train)\n",
        "\n",
        "# Get the Out-of-Bag (OOB) score\n",
        "oob_score = rf_model.oob_score_\n",
        "\n",
        "# Predict the test set results\n",
        "y_pred = rf_model.predict(X_test)\n",
        "\n",
        "# Calculate accuracy for the test set\n",
        "accuracy = accuracy_score(y_test, y_pred)\n",
        "\n",
        "# Print the OOB score and the test accuracy\n",
        "print(f\"OOB Score: {oob_score}\")\n",
        "print(f\"Test Set Accuracy: {accuracy}\")"
      ],
      "metadata": {
        "colab": {
          "base_uri": "https://localhost:8080/"
        },
        "id": "GNnJPOU0xulY",
        "outputId": "cef23e10-ed11-4011-a83b-70f28a77b3f3"
      },
      "execution_count": 7,
      "outputs": [
        {
          "output_type": "stream",
          "name": "stdout",
          "text": [
            "OOB Score: 0.9428571428571428\n",
            "Test Set Accuracy: 1.0\n"
          ]
        }
      ]
    },
    {
      "cell_type": "code",
      "source": [
        "# 26 2 Train a Bagging Classifier using SVM as a base estimator and print\n",
        "# Import necessary libraries\n",
        "from sklearn.datasets import load_iris\n",
        "from sklearn.model_selection import train_test_split\n",
        "from sklearn.ensemble import BaggingClassifier\n",
        "from sklearn.svm import SVC\n",
        "from sklearn.metrics import accuracy_score\n",
        "\n",
        "# Load the Iris dataset\n",
        "data = load_iris()\n",
        "X = data.data\n",
        "y = data.target\n",
        "\n",
        "# Split the dataset into training and testing sets\n",
        "X_train, X_test, y_train, y_test = train_test_split(X, y, test_size=0.3, random_state=42)\n",
        "\n",
        "# Create a Bagging Classifier using SVM as the base estimator\n",
        "svm_base_estimator = SVC(random_state=42)\n",
        "# Changed 'base_estimator' to 'estimator' to match the current scikit-learn API\n",
        "bagging_model = BaggingClassifier(estimator=svm_base_estimator, n_estimators=50, random_state=42)\n",
        "\n",
        "# Train the model\n",
        "bagging_model.fit(X_train, y_train)\n",
        "\n",
        "# Predict the test set results\n",
        "y_pred = bagging_model.predict(X_test)\n",
        "\n",
        "# Calculate and print accuracy\n",
        "accuracy = accuracy_score(y_test, y_pred)\n",
        "print(f\"Accuracy of Bagging Classifier with SVM as base estimator: {accuracy}\")"
      ],
      "metadata": {
        "colab": {
          "base_uri": "https://localhost:8080/"
        },
        "id": "yfpLs-Nex3ZQ",
        "outputId": "8b2224b8-329e-4da5-dc6c-4fb43b623eda"
      },
      "execution_count": 9,
      "outputs": [
        {
          "output_type": "stream",
          "name": "stdout",
          "text": [
            "Accuracy of Bagging Classifier with SVM as base estimator: 1.0\n"
          ]
        }
      ]
    },
    {
      "cell_type": "code",
      "source": [
        "# 27 Train a Random Forest Classifier with different numbers of trees and compare accuracy2\n",
        "# Importing necessary libraries\n",
        "from sklearn.datasets import load_iris\n",
        "from sklearn.model_selection import train_test_split\n",
        "from sklearn.ensemble import RandomForestClassifier\n",
        "from sklearn.metrics import accuracy_score\n",
        "import matplotlib.pyplot as plt\n",
        "\n",
        "# Load the Iris dataset\n",
        "data = load_iris()\n",
        "X = data.data\n",
        "y = data.target\n",
        "\n",
        "# Split the dataset into training and testing sets\n",
        "X_train, X_test, y_train, y_test = train_test_split(X, y, test_size=0.3, random_state=42)\n",
        "\n",
        "# List of different numbers of trees to try\n",
        "tree_counts = [10, 50, 100, 200, 500]\n",
        "accuracies = []\n",
        "\n",
        "# Train and evaluate the Random Forest with different numbers of trees\n",
        "for n_trees in tree_counts:\n",
        "    rf_model = RandomForestClassifier(n_estimators=n_trees, random_state=42)\n",
        "    rf_model.fit(X_train, y_train)\n",
        "    y_pred = rf_model.predict(X_test)\n",
        "    accuracy = accuracy_score(y_test, y_pred)\n",
        "    accuracies.append(accuracy)\n",
        "\n",
        "# Plot the results\n",
        "plt.plot(tree_counts, accuracies, marker='o', color='b')\n",
        "plt.title('Random Forest Classifier Accuracy with Different Numbers of Trees')\n",
        "plt.xlabel('Number of Trees (n_estimators)')\n",
        "plt.ylabel('Accuracy')\n",
        "plt.grid(True)\n",
        "plt.show()\n",
        "\n",
        "# Print the accuracies\n",
        "for n_trees, accuracy in zip(tree_counts, accuracies):\n",
        "    print(f\"Accuracy with {n_trees} trees: {accuracy:.4f}\")"
      ],
      "metadata": {
        "colab": {
          "base_uri": "https://localhost:8080/",
          "height": 562
        },
        "id": "qwp6wWA0x8ie",
        "outputId": "a91b365a-adec-4dc3-f180-a178c413c9d4"
      },
      "execution_count": 10,
      "outputs": [
        {
          "output_type": "display_data",
          "data": {
            "text/plain": [
              "<Figure size 640x480 with 1 Axes>"
            ],
            "image/png": "[encoded data removed]"
          },
          "metadata": {}
        },
        {
          "output_type": "stream",
          "name": "stdout",
          "text": [
            "Accuracy with 10 trees: 1.0000\n",
            "Accuracy with 50 trees: 1.0000\n",
            "Accuracy with 100 trees: 1.0000\n",
            "Accuracy with 200 trees: 1.0000\n",
            "Accuracy with 500 trees: 1.0000\n"
          ]
        }
      ]
    },
    {
      "cell_type": "code",
      "source": [
        "# 28  Train a Bagging Classifier using Logistic Regression as a base estimator and print AUC score\n",
        "# Importing necessary libraries\n",
        "from sklearn.datasets import load_iris\n",
        "from sklearn.model_selection import train_test_split\n",
        "from sklearn.ensemble import BaggingClassifier\n",
        "from sklearn.linear_model import LogisticRegression\n",
        "from sklearn.metrics import roc_auc_score\n",
        "from sklearn.preprocessing import label_binarize\n",
        "\n",
        "# Load the Iris dataset\n",
        "data = load_iris()\n",
        "X = data.data\n",
        "y = data.target\n",
        "\n",
        "# Convert the target labels to binary (since AUC is for binary classification, we'll take class '0' vs others)\n",
        "y_binary = label_binarize(y, classes=[0, 1, 2])[:, 0]  # Create a binary classification task (class 0 vs others)\n",
        "\n",
        "# Split the dataset into training and testing sets\n",
        "X_train, X_test, y_train, y_test = train_test_split(X, y_binary, test_size=0.3, random_state=42)\n",
        "\n",
        "# Create a Bagging Classifier using Logistic Regression as the base estimator\n",
        "logreg_base_estimator = LogisticRegression(random_state=42)\n",
        "# Changed 'base_estimator' to 'estimator' to match the current scikit-learn API\n",
        "bagging_model = BaggingClassifier(estimator=logreg_base_estimator, n_estimators=50, random_state=42)\n",
        "\n",
        "# Train the model\n",
        "bagging_model.fit(X_train, y_train)\n",
        "\n",
        "# Predict probabilities for the test set\n",
        "y_pred_prob = bagging_model.predict_proba(X_test)[:, 1]  # Get the probability for the positive class (class 1)\n",
        "\n",
        "# Calculate the AUC score\n",
        "auc_score = roc_auc_score(y_test, y_pred_prob)\n",
        "\n",
        "# Print the AUC score\n",
        "print(f\"AUC Score: {auc_score:.4f}\")"
      ],
      "metadata": {
        "colab": {
          "base_uri": "https://localhost:8080/"
        },
        "id": "Vt-a7buryVpl",
        "outputId": "d432e814-7f13-4d58-b19a-e2dd78a23e03"
      },
      "execution_count": 12,
      "outputs": [
        {
          "output_type": "stream",
          "name": "stdout",
          "text": [
            "AUC Score: 1.0000\n"
          ]
        }
      ]
    },
    {
      "cell_type": "code",
      "source": [
        "# 29 Train a Random Forest Regressor and analyze feature importance scores\n",
        "# Importing necessary libraries\n",
        "from sklearn.datasets import fetch_california_housing\n",
        "from sklearn.model_selection import train_test_split\n",
        "from sklearn.ensemble import RandomForestRegressor\n",
        "import matplotlib.pyplot as plt\n",
        "\n",
        "# Load the California Housing dataset\n",
        "data = fetch_california_housing()\n",
        "X = data.data\n",
        "y = data.target\n",
        "\n",
        "# Split the dataset into training and testing sets\n",
        "X_train, X_test, y_train, y_test = train_test_split(X, y, test_size=0.3, random_state=42)\n",
        "\n",
        "# Create a Random Forest Regressor model\n",
        "rf_model = RandomForestRegressor(n_estimators=100, random_state=42)\n",
        "\n",
        "# Train the model\n",
        "rf_model.fit(X_train, y_train)\n",
        "\n",
        "# Get the feature importance scores\n",
        "feature_importances = rf_model.feature_importances_\n",
        "\n",
        "# Print the feature importance scores\n",
        "for feature, importance in zip(data.feature_names, feature_importances):\n",
        "    print(f\"{feature}: {importance:.4f}\")\n",
        "\n",
        "# Plot the feature importance scores\n",
        "plt.figure(figsize=(10, 6))\n",
        "plt.barh(data.feature_names, feature_importances, color='skyblue')\n",
        "plt.xlabel('Feature Importance')\n",
        "plt.title('Feature Importance Scores for Random Forest Regressor')\n",
        "plt.show()"
      ],
      "metadata": {
        "colab": {
          "base_uri": "https://localhost:8080/",
          "height": 708
        },
        "id": "kTkIbE-oybOF",
        "outputId": "1973e337-ad58-4d5f-b352-7b101b550226"
      },
      "execution_count": 13,
      "outputs": [
        {
          "output_type": "stream",
          "name": "stdout",
          "text": [
            "MedInc: 0.5260\n",
            "HouseAge: 0.0547\n",
            "AveRooms: 0.0472\n",
            "AveBedrms: 0.0300\n",
            "Population: 0.0317\n",
            "AveOccup: 0.1382\n",
            "Latitude: 0.0861\n",
            "Longitude: 0.0861\n"
          ]
        },
        {
          "output_type": "display_data",
          "data": {
            "text/plain": [
              "<Figure size 1000x600 with 1 Axes>"
            ],
            "image/png": "[encoded data removed]"
          },
          "metadata": {}
        }
      ]
    },
    {
      "cell_type": "code",
      "source": [
        "# 30 Train an ensemble model using both Bagging and Random Forest and compare accuracy.\n",
        "# Importing necessary libraries\n",
        "from sklearn.datasets import load_iris\n",
        "from sklearn.model_selection import train_test_split\n",
        "from sklearn.ensemble import BaggingClassifier, RandomForestClassifier\n",
        "from sklearn.tree import DecisionTreeClassifier\n",
        "from sklearn.metrics import accuracy_score\n",
        "\n",
        "# Load the Iris dataset\n",
        "data = load_iris()\n",
        "X = data.data\n",
        "y = data.target\n",
        "\n",
        "# Split the dataset into training and testing sets\n",
        "X_train, X_test, y_train, y_test = train_test_split(X, y, test_size=0.3, random_state=42)\n",
        "\n",
        "# Create a Bagging Classifier with Decision Tree as the base estimator\n",
        "# Changed 'base_estimator' to 'estimator' to match the current scikit-learn API\n",
        "bagging_model = BaggingClassifier(estimator=DecisionTreeClassifier(), n_estimators=50, random_state=42)\n",
        "\n",
        "# Create a Random Forest Classifier\n",
        "random_forest_model = RandomForestClassifier(n_estimators=50, random_state=42)\n",
        "\n",
        "# Train both models\n",
        "bagging_model.fit(X_train, y_train)\n",
        "random_forest_model.fit(X_train, y_train)\n",
        "\n",
        "# Predict the test set results\n",
        "y_pred_bagging = bagging_model.predict(X_test)\n",
        "y_pred_rf = random_forest_model.predict(X_test)\n",
        "\n",
        "# Calculate accuracy for both models\n",
        "accuracy_bagging = accuracy_score(y_test, y_pred_bagging)\n",
        "accuracy_rf = accuracy_score(y_test, y_pred_rf)\n",
        "\n",
        "# Print the accuracy for both models\n",
        "print(f\"Accuracy of Bagging Classifier: {accuracy_bagging:.4f}\")\n",
        "print(f\"Accuracy of Random Forest Classifier: {accuracy_rf:.4f}\")"
      ],
      "metadata": {
        "colab": {
          "base_uri": "https://localhost:8080/"
        },
        "id": "3AzgHc-LyvGm",
        "outputId": "860630ce-3164-4e1c-edb0-ca5cefd6df84"
      },
      "execution_count": 15,
      "outputs": [
        {
          "output_type": "stream",
          "name": "stdout",
          "text": [
            "Accuracy of Bagging Classifier: 1.0000\n",
            "Accuracy of Random Forest Classifier: 1.0000\n"
          ]
        }
      ]
    },
    {
      "cell_type": "code",
      "source": [
        "# 31 Train a Random Forest Classifier and tune hyperparameters using GridSearchCV=\n",
        "# Importing necessary libraries\n",
        "from sklearn.datasets import load_iris\n",
        "from sklearn.model_selection import train_test_split, GridSearchCV\n",
        "from sklearn.ensemble import RandomForestClassifier\n",
        "from sklearn.metrics import accuracy_score\n",
        "\n",
        "# Load the Iris dataset\n",
        "data = load_iris()\n",
        "X = data.data\n",
        "y = data.target\n",
        "\n",
        "# Split the dataset into training and testing sets\n",
        "X_train, X_test, y_train, y_test = train_test_split(X, y, test_size=0.3, random_state=42)\n",
        "\n",
        "# Create a Random Forest Classifier model\n",
        "rf_model = RandomForestClassifier(random_state=42)\n",
        "\n",
        "# Define the parameter grid for hyperparameter tuning\n",
        "param_grid = {\n",
        "    'n_estimators': [50, 100, 150],  # Number of trees in the forest\n",
        "    'max_depth': [None, 10, 20, 30],  # Maximum depth of the trees\n",
        "    'min_samples_split': [2, 5, 10],  # Minimum number of samples required to split an internal node\n",
        "    'min_samples_leaf': [1, 2, 4],  # Minimum number of samples required to be at a leaf node\n",
        "    'max_features': ['auto', 'sqrt', 'log2'],  # Number of features to consider when looking for the best split\n",
        "}\n",
        "\n",
        "# Set up the GridSearchCV with cross-validation\n",
        "grid_search = GridSearchCV(estimator=rf_model, param_grid=param_grid, cv=5, scoring='accuracy', n_jobs=-1, verbose=2)\n",
        "\n",
        "# Train the model using GridSearchCV\n",
        "grid_search.fit(X_train, y_train)\n",
        "\n",
        "# Get the best hyperparameters from the grid search\n",
        "best_params = grid_search.best_params_\n",
        "print(\"Best hyperparameters:\", best_params)\n",
        "\n",
        "# Get the best model from the grid search\n",
        "best_rf_model = grid_search.best_estimator_\n",
        "\n",
        "# Predict using the best model\n",
        "y_pred = best_rf_model.predict(X_test)\n",
        "\n",
        "# Calculate accuracy of the best model\n",
        "accuracy = accuracy_score(y_test, y_pred)\n",
        "print(f\"Accuracy of the best Random Forest model: {accuracy:.4f}\")"
      ],
      "metadata": {
        "colab": {
          "base_uri": "https://localhost:8080/"
        },
        "id": "CsZeJ3Khy3A4",
        "outputId": "2f6d974c-bd20-4cef-9342-43daa0009090"
      },
      "execution_count": 16,
      "outputs": [
        {
          "output_type": "stream",
          "name": "stdout",
          "text": [
            "Fitting 5 folds for each of 324 candidates, totalling 1620 fits\n",
            "Best hyperparameters: {'max_depth': None, 'max_features': 'sqrt', 'min_samples_leaf': 1, 'min_samples_split': 2, 'n_estimators': 100}\n",
            "Accuracy of the best Random Forest model: 1.0000\n"
          ]
        },
        {
          "output_type": "stream",
          "name": "stderr",
          "text": [
            "/usr/local/lib/python3.11/dist-packages/sklearn/model_selection/_validation.py:528: FitFailedWarning: \n",
            "540 fits failed out of a total of 1620.\n",
            "The score on these train-test partitions for these parameters will be set to nan.\n",
            "If these failures are not expected, you can try to debug them by setting error_score='raise'.\n",
            "\n",
            "Below are more details about the failures:\n",
            "--------------------------------------------------------------------------------\n",
            "196 fits failed with the following error:\n",
            "Traceback (most recent call last):\n",
            "  File \"/usr/local/lib/python3.11/dist-packages/sklearn/model_selection/_validation.py\", line 866, in _fit_and_score\n",
            "    estimator.fit(X_train, y_train, **fit_params)\n",
            "  File \"/usr/local/lib/python3.11/dist-packages/sklearn/base.py\", line 1382, in wrapper\n",
            "    estimator._validate_params()\n",
            "  File \"/usr/local/lib/python3.11/dist-packages/sklearn/base.py\", line 436, in _validate_params\n",
            "    validate_parameter_constraints(\n",
            "  File \"/usr/local/lib/python3.11/dist-packages/sklearn/utils/_param_validation.py\", line 98, in validate_parameter_constraints\n",
            "    raise InvalidParameterError(\n",
            "sklearn.utils._param_validation.InvalidParameterError: The 'max_features' parameter of RandomForestClassifier must be an int in the range [1, inf), a float in the range (0.0, 1.0], a str among {'log2', 'sqrt'} or None. Got 'auto' instead.\n",
            "\n",
            "--------------------------------------------------------------------------------\n",
            "344 fits failed with the following error:\n",
            "Traceback (most recent call last):\n",
            "  File \"/usr/local/lib/python3.11/dist-packages/sklearn/model_selection/_validation.py\", line 866, in _fit_and_score\n",
            "    estimator.fit(X_train, y_train, **fit_params)\n",
            "  File \"/usr/local/lib/python3.11/dist-packages/sklearn/base.py\", line 1382, in wrapper\n",
            "    estimator._validate_params()\n",
            "  File \"/usr/local/lib/python3.11/dist-packages/sklearn/base.py\", line 436, in _validate_params\n",
            "    validate_parameter_constraints(\n",
            "  File \"/usr/local/lib/python3.11/dist-packages/sklearn/utils/_param_validation.py\", line 98, in validate_parameter_constraints\n",
            "    raise InvalidParameterError(\n",
            "sklearn.utils._param_validation.InvalidParameterError: The 'max_features' parameter of RandomForestClassifier must be an int in the range [1, inf), a float in the range (0.0, 1.0], a str among {'sqrt', 'log2'} or None. Got 'auto' instead.\n",
            "\n",
            "  warnings.warn(some_fits_failed_message, FitFailedWarning)\n",
            "/usr/local/lib/python3.11/dist-packages/sklearn/model_selection/_search.py:1108: UserWarning: One or more of the test scores are non-finite: [       nan        nan        nan        nan        nan        nan\n",
            "        nan        nan        nan        nan        nan        nan\n",
            "        nan        nan        nan        nan        nan        nan\n",
            "        nan        nan        nan        nan        nan        nan\n",
            "        nan        nan        nan 0.93333333 0.94285714 0.94285714\n",
            " 0.93333333 0.94285714 0.94285714 0.93333333 0.94285714 0.94285714\n",
            " 0.94285714 0.93333333 0.93333333 0.93333333 0.93333333 0.93333333\n",
            " 0.93333333 0.93333333 0.93333333 0.94285714 0.93333333 0.93333333\n",
            " 0.94285714 0.93333333 0.93333333 0.93333333 0.93333333 0.93333333\n",
            " 0.93333333 0.94285714 0.94285714 0.93333333 0.94285714 0.94285714\n",
            " 0.93333333 0.94285714 0.94285714 0.94285714 0.93333333 0.93333333\n",
            " 0.93333333 0.93333333 0.93333333 0.93333333 0.93333333 0.93333333\n",
            " 0.94285714 0.93333333 0.93333333 0.94285714 0.93333333 0.93333333\n",
            " 0.93333333 0.93333333 0.93333333        nan        nan        nan\n",
            "        nan        nan        nan        nan        nan        nan\n",
            "        nan        nan        nan        nan        nan        nan\n",
            "        nan        nan        nan        nan        nan        nan\n",
            "        nan        nan        nan        nan        nan        nan\n",
            " 0.93333333 0.94285714 0.94285714 0.93333333 0.94285714 0.94285714\n",
            " 0.93333333 0.94285714 0.94285714 0.94285714 0.93333333 0.93333333\n",
            " 0.93333333 0.93333333 0.93333333 0.93333333 0.93333333 0.93333333\n",
            " 0.94285714 0.93333333 0.93333333 0.94285714 0.93333333 0.93333333\n",
            " 0.93333333 0.93333333 0.93333333 0.93333333 0.94285714 0.94285714\n",
            " 0.93333333 0.94285714 0.94285714 0.93333333 0.94285714 0.94285714\n",
            " 0.94285714 0.93333333 0.93333333 0.93333333 0.93333333 0.93333333\n",
            " 0.93333333 0.93333333 0.93333333 0.94285714 0.93333333 0.93333333\n",
            " 0.94285714 0.93333333 0.93333333 0.93333333 0.93333333 0.93333333\n",
            "        nan        nan        nan        nan        nan        nan\n",
            "        nan        nan        nan        nan        nan        nan\n",
            "        nan        nan        nan        nan        nan        nan\n",
            "        nan        nan        nan        nan        nan        nan\n",
            "        nan        nan        nan 0.93333333 0.94285714 0.94285714\n",
            " 0.93333333 0.94285714 0.94285714 0.93333333 0.94285714 0.94285714\n",
            " 0.94285714 0.93333333 0.93333333 0.93333333 0.93333333 0.93333333\n",
            " 0.93333333 0.93333333 0.93333333 0.94285714 0.93333333 0.93333333\n",
            " 0.94285714 0.93333333 0.93333333 0.93333333 0.93333333 0.93333333\n",
            " 0.93333333 0.94285714 0.94285714 0.93333333 0.94285714 0.94285714\n",
            " 0.93333333 0.94285714 0.94285714 0.94285714 0.93333333 0.93333333\n",
            " 0.93333333 0.93333333 0.93333333 0.93333333 0.93333333 0.93333333\n",
            " 0.94285714 0.93333333 0.93333333 0.94285714 0.93333333 0.93333333\n",
            " 0.93333333 0.93333333 0.93333333        nan        nan        nan\n",
            "        nan        nan        nan        nan        nan        nan\n",
            "        nan        nan        nan        nan        nan        nan\n",
            "        nan        nan        nan        nan        nan        nan\n",
            "        nan        nan        nan        nan        nan        nan\n",
            " 0.93333333 0.94285714 0.94285714 0.93333333 0.94285714 0.94285714\n",
            " 0.93333333 0.94285714 0.94285714 0.94285714 0.93333333 0.93333333\n",
            " 0.93333333 0.93333333 0.93333333 0.93333333 0.93333333 0.93333333\n",
            " 0.94285714 0.93333333 0.93333333 0.94285714 0.93333333 0.93333333\n",
            " 0.93333333 0.93333333 0.93333333 0.93333333 0.94285714 0.94285714\n",
            " 0.93333333 0.94285714 0.94285714 0.93333333 0.94285714 0.94285714\n",
            " 0.94285714 0.93333333 0.93333333 0.93333333 0.93333333 0.93333333\n",
            " 0.93333333 0.93333333 0.93333333 0.94285714 0.93333333 0.93333333\n",
            " 0.94285714 0.93333333 0.93333333 0.93333333 0.93333333 0.93333333]\n",
            "  warnings.warn(\n"
          ]
        }
      ]
    },
    {
      "cell_type": "code",
      "source": [
        "# 32  Train a Bagging Regressor with different numbers of base estimators and compare performance\n",
        "# Importing necessary libraries\n",
        "from sklearn.datasets import fetch_california_housing\n",
        "from sklearn.model_selection import train_test_split\n",
        "from sklearn.ensemble import BaggingRegressor\n",
        "from sklearn.tree import DecisionTreeRegressor\n",
        "from sklearn.metrics import mean_squared_error\n",
        "import matplotlib.pyplot as plt\n",
        "\n",
        "# Load the California Housing dataset\n",
        "data = fetch_california_housing()\n",
        "X = data.data\n",
        "y = data.target\n",
        "\n",
        "# Split the dataset into training and testing sets\n",
        "X_train, X_test, y_train, y_test = train_test_split(X, y, test_size=0.3, random_state=42)\n",
        "\n",
        "# List of different numbers of base estimators (trees) to try\n",
        "n_estimators_list = [10, 50, 100, 200, 500]\n",
        "mse_scores = []\n",
        "\n",
        "# Train and evaluate the Bagging Regressor with different numbers of estimators\n",
        "for n_estimators in n_estimators_list:\n",
        "    # Create a Bagging Regressor model with Decision Tree as the base estimator\n",
        "    # Changed 'base_estimator' to 'estimator' to match the current scikit-learn API\n",
        "    bagging_model = BaggingRegressor(estimator=DecisionTreeRegressor(), n_estimators=n_estimators, random_state=42)\n",
        "\n",
        "    # Train the model\n",
        "    bagging_model.fit(X_train, y_train)\n",
        "\n",
        "    # Predict the test set results\n",
        "    y_pred = bagging_model.predict(X_test)\n",
        "\n",
        "    # Calculate Mean Squared Error (MSE)\n",
        "    mse = mean_squared_error(y_test, y_pred)\n",
        "    mse_scores.append(mse)\n",
        "\n",
        "# Plot the MSE for different numbers of estimators\n",
        "plt.figure(figsize=(10, 6))\n",
        "plt.plot(n_estimators_list, mse_scores, marker='o', color='b')\n",
        "plt.title('Bagging Regressor Performance with Different Numbers of Estimators')\n",
        "plt.xlabel('Number of Base Estimators (n_estimators)')\n",
        "plt.ylabel('Mean Squared Error (MSE)')\n",
        "plt.grid(True)\n",
        "plt.show()\n",
        "\n",
        "# Print the MSE for each number of base estimators\n",
        "for n_estimators, mse in zip(n_estimators_list, mse_scores):\n",
        "    print(f\"MSE with {n_estimators} estimators: {mse:.4f}\")"
      ],
      "metadata": {
        "colab": {
          "base_uri": "https://localhost:8080/",
          "height": 654
        },
        "id": "vKWhuOTIzJuU",
        "outputId": "df04b09f-fc42-4ad4-820b-e13b937ba8ad"
      },
      "execution_count": 18,
      "outputs": [
        {
          "output_type": "display_data",
          "data": {
            "text/plain": [
              "<Figure size 1000x600 with 1 Axes>"
            ],
            "image/png": "[encoded data removed]"
          },
          "metadata": {}
        },
        {
          "output_type": "stream",
          "name": "stdout",
          "text": [
            "MSE with 10 estimators: 0.2862\n",
            "MSE with 50 estimators: 0.2579\n",
            "MSE with 100 estimators: 0.2568\n",
            "MSE with 200 estimators: 0.2542\n",
            "MSE with 500 estimators: 0.2527\n"
          ]
        }
      ]
    },
    {
      "cell_type": "code",
      "source": [
        "# 33 Train a Random Forest Classifier and analyze misclassified samples=\n",
        "# Importing necessary libraries\n",
        "from sklearn.datasets import load_iris\n",
        "from sklearn.model_selection import train_test_split\n",
        "from sklearn.ensemble import RandomForestClassifier\n",
        "from sklearn.metrics import accuracy_score\n",
        "import pandas as pd\n",
        "\n",
        "# Load the Iris dataset\n",
        "data = load_iris()\n",
        "X = data.data\n",
        "y = data.target\n",
        "\n",
        "# Split the dataset into training and testing sets\n",
        "X_train, X_test, y_train, y_test = train_test_split(X, y, test_size=0.3, random_state=42)\n",
        "\n",
        "# Create and train a Random Forest Classifier model\n",
        "rf_model = RandomForestClassifier(n_estimators=100, random_state=42)\n",
        "rf_model.fit(X_train, y_train)\n",
        "\n",
        "# Predict the test set results\n",
        "y_pred = rf_model.predict(X_test)\n",
        "\n",
        "# Calculate accuracy\n",
        "accuracy = accuracy_score(y_test, y_pred)\n",
        "print(f\"Accuracy: {accuracy:.4f}\")\n",
        "\n",
        "# Identify misclassified samples\n",
        "misclassified_samples = X_test[y_pred != y_test]\n",
        "misclassified_labels = y_test[y_pred != y_test]\n",
        "misclassified_pred = y_pred[y_pred != y_test]\n",
        "\n",
        "# Create a DataFrame to display the misclassified samples with their true and predicted labels\n",
        "misclassified_df = pd.DataFrame(misclassified_samples, columns=data.feature_names)\n",
        "misclassified_df['True Label'] = misclassified_labels\n",
        "misclassified_df['Predicted Label'] = misclassified_pred\n",
        "\n",
        "# Display misclassified samples\n",
        "print(\"\\nMisclassified samples:\")\n",
        "print(misclassified_df)"
      ],
      "metadata": {
        "colab": {
          "base_uri": "https://localhost:8080/"
        },
        "id": "_Iwm9V-o0Nf8",
        "outputId": "5af915c1-e5a0-4a20-f16b-6a1ad2881543"
      },
      "execution_count": 19,
      "outputs": [
        {
          "output_type": "stream",
          "name": "stdout",
          "text": [
            "Accuracy: 1.0000\n",
            "\n",
            "Misclassified samples:\n",
            "Empty DataFrame\n",
            "Columns: [sepal length (cm), sepal width (cm), petal length (cm), petal width (cm), True Label, Predicted Label]\n",
            "Index: []\n"
          ]
        }
      ]
    },
    {
      "cell_type": "code",
      "source": [
        "# 34  Train a Bagging Classifier and compare its performance with a single Decision Tree Classifier=\n",
        "# Importing necessary libraries\n",
        "from sklearn.datasets import load_iris\n",
        "from sklearn.model_selection import train_test_split\n",
        "from sklearn.tree import DecisionTreeClassifier\n",
        "from sklearn.ensemble import BaggingClassifier\n",
        "from sklearn.metrics import accuracy_score\n",
        "\n",
        "# Load the Iris dataset\n",
        "data = load_iris()\n",
        "X = data.data\n",
        "y = data.target\n",
        "\n",
        "# Split the dataset into training and testing sets\n",
        "X_train, X_test, y_train, y_test = train_test_split(X, y, test_size=0.3, random_state=42)\n",
        "\n",
        "# Create a single Decision Tree Classifier\n",
        "dt_model = DecisionTreeClassifier(random_state=42)\n",
        "\n",
        "# Create a Bagging Classifier using Decision Tree as base estimator\n",
        "# Changed 'base_estimator' to 'estimator' to match the current scikit-learn API\n",
        "bagging_model = BaggingClassifier(estimator=DecisionTreeClassifier(), n_estimators=50, random_state=42)\n",
        "\n",
        "# Train the Decision Tree Classifier\n",
        "dt_model.fit(X_train, y_train)\n",
        "\n",
        "# Train the Bagging Classifier\n",
        "bagging_model.fit(X_train, y_train)\n",
        "\n",
        "# Predict the test set results for both models\n",
        "y_pred_dt = dt_model.predict(X_test)\n",
        "y_pred_bagging = bagging_model.predict(X_test)\n",
        "\n",
        "# Calculate accuracy for both models\n",
        "accuracy_dt = accuracy_score(y_test, y_pred_dt)\n",
        "accuracy_bagging = accuracy_score(y_test, y_pred_bagging)\n",
        "\n",
        "# Print the accuracy for both models\n",
        "print(f\"Accuracy of Decision Tree Classifier: {accuracy_dt:.4f}\")\n",
        "print(f\"Accuracy of Bagging Classifier: {accuracy_bagging:.4f}\")"
      ],
      "metadata": {
        "colab": {
          "base_uri": "https://localhost:8080/"
        },
        "id": "ANroFzub1JZc",
        "outputId": "9bc75102-6cc4-4da9-d82d-1eb3709b4946"
      },
      "execution_count": 21,
      "outputs": [
        {
          "output_type": "stream",
          "name": "stdout",
          "text": [
            "Accuracy of Decision Tree Classifier: 1.0000\n",
            "Accuracy of Bagging Classifier: 1.0000\n"
          ]
        }
      ]
    },
    {
      "cell_type": "code",
      "source": [
        "# 35 Train a Random Forest Classifier and visualize the confusion matrix=\n",
        "# Importing necessary libraries\n",
        "import matplotlib.pyplot as plt\n",
        "import seaborn as sns\n",
        "from sklearn.datasets import load_iris\n",
        "from sklearn.model_selection import train_test_split\n",
        "from sklearn.ensemble import RandomForestClassifier\n",
        "from sklearn.metrics import confusion_matrix\n",
        "import numpy as np\n",
        "\n",
        "# Load the Iris dataset\n",
        "data = load_iris()\n",
        "X = data.data\n",
        "y = data.target\n",
        "\n",
        "# Split the dataset into training and testing sets\n",
        "X_train, X_test, y_train, y_test = train_test_split(X, y, test_size=0.3, random_state=42)\n",
        "\n",
        "# Create and train a Random Forest Classifier model\n",
        "rf_model = RandomForestClassifier(n_estimators=100, random_state=42)\n",
        "rf_model.fit(X_train, y_train)\n",
        "\n",
        "# Predict the test set results\n",
        "y_pred = rf_model.predict(X_test)\n",
        "\n",
        "# Compute the confusion matrix\n",
        "cm = confusion_matrix(y_test, y_pred)\n",
        "\n",
        "# Plot the confusion matrix using a heatmap\n",
        "plt.figure(figsize=(8, 6))\n",
        "sns.heatmap(cm, annot=True, fmt='d', cmap='Blues', xticklabels=data.target_names, yticklabels=data.target_names)\n",
        "plt.title('Confusion Matrix for Random Forest Classifier')\n",
        "plt.xlabel('Predicted Labels')\n",
        "plt.ylabel('True Labels')\n",
        "plt.show()"
      ],
      "metadata": {
        "colab": {
          "base_uri": "https://localhost:8080/",
          "height": 564
        },
        "id": "8_GFaDiD1K_W",
        "outputId": "1d47a137-1881-4e84-bc94-5f777c5e0e2f"
      },
      "execution_count": 22,
      "outputs": [
        {
          "output_type": "display_data",
          "data": {
            "text/plain": [
              "<Figure size 800x600 with 2 Axes>"
            ],
            "image/png": "[encoded data removed]"
          },
          "metadata": {}
        }
      ]
    },
    {
      "cell_type": "code",
      "source": [
        "# 36 Train a Stacking Classifier using Decision Trees, SVM, and Logistic Regression, and compare accuracy=\n",
        "# Import necessary libraries\n",
        "from sklearn.datasets import load_iris\n",
        "from sklearn.model_selection import train_test_split\n",
        "from sklearn.tree import DecisionTreeClassifier\n",
        "from sklearn.svm import SVC\n",
        "from sklearn.linear_model import LogisticRegression\n",
        "from sklearn.ensemble import StackingClassifier\n",
        "from sklearn.metrics import accuracy_score\n",
        "\n",
        "# Load the Iris dataset\n",
        "data = load_iris()\n",
        "X = data.data\n",
        "y = data.target\n",
        "\n",
        "# Split the dataset into training and testing sets\n",
        "X_train, X_test, y_train, y_test = train_test_split(X, y, test_size=0.3, random_state=42)\n",
        "\n",
        "# Define the base models for the Stacking Classifier\n",
        "base_learners = [\n",
        "    ('dt', DecisionTreeClassifier(random_state=42)),\n",
        "    ('svm', SVC(probability=True, random_state=42)),\n",
        "    ('logreg', LogisticRegression(random_state=42))\n",
        "]\n",
        "\n",
        "# Define the meta-model (Logistic Regression in this case)\n",
        "meta_model = LogisticRegression(random_state=42)\n",
        "\n",
        "# Create a Stacking Classifier\n",
        "stacking_model = StackingClassifier(estimators=base_learners, final_estimator=meta_model)\n",
        "\n",
        "# Train the Stacking Classifier\n",
        "stacking_model.fit(X_train, y_train)\n",
        "\n",
        "# Predict using the Stacking Classifier\n",
        "y_pred_stacking = stacking_model.predict(X_test)\n",
        "\n",
        "# Accuracy of Stacking Classifier\n",
        "accuracy_stacking = accuracy_score(y_test, y_pred_stacking)\n",
        "print(f\"Accuracy of Stacking Classifier: {accuracy_stacking:.4f}\")\n",
        "\n",
        "# Train individual models for comparison\n",
        "dt_model = DecisionTreeClassifier(random_state=42)\n",
        "svm_model = SVC(probability=True, random_state=42)\n",
        "logreg_model = LogisticRegression(random_state=42)\n",
        "\n",
        "# Fit individual models\n",
        "dt_model.fit(X_train, y_train)\n",
        "svm_model.fit(X_train, y_train)\n",
        "logreg_model.fit(X_train, y_train)\n",
        "\n",
        "# Predict using individual models\n",
        "y_pred_dt = dt_model.predict(X_test)\n",
        "y_pred_svm = svm_model.predict(X_test)\n",
        "y_pred_logreg = logreg_model.predict(X_test)\n",
        "\n",
        "# Accuracy of individual models\n",
        "accuracy_dt = accuracy_score(y_test, y_pred_dt)\n",
        "accuracy_svm = accuracy_score(y_test, y_pred_svm)\n",
        "accuracy_logreg = accuracy_score(y_test, y_pred_logreg)\n",
        "\n",
        "# Print the accuracy of individual models\n",
        "print(f\"Accuracy of Decision Tree: {accuracy_dt:.4f}\")\n",
        "print(f\"Accuracy of SVM: {accuracy_svm:.4f}\")\n",
        "print(f\"Accuracy of Logistic Regression: {accuracy_logreg:.4f}\")"
      ],
      "metadata": {
        "colab": {
          "base_uri": "https://localhost:8080/"
        },
        "id": "wp28jAdI1PQv",
        "outputId": "8f930145-3026-4831-d8ca-86e0195d7126"
      },
      "execution_count": 23,
      "outputs": [
        {
          "output_type": "stream",
          "name": "stdout",
          "text": [
            "Accuracy of Stacking Classifier: 1.0000\n",
            "Accuracy of Decision Tree: 1.0000\n",
            "Accuracy of SVM: 1.0000\n",
            "Accuracy of Logistic Regression: 1.0000\n"
          ]
        }
      ]
    },
    {
      "cell_type": "code",
      "source": [
        "# 37  Train a Random Forest Classifier and print the top 5 most important features=\n",
        "# Importing necessary libraries\n",
        "import pandas as pd\n",
        "from sklearn.datasets import load_iris\n",
        "from sklearn.ensemble import RandomForestClassifier\n",
        "import numpy as np\n",
        "\n",
        "# Load the Iris dataset\n",
        "data = load_iris()\n",
        "X = data.data\n",
        "y = data.target\n",
        "feature_names = data.feature_names\n",
        "\n",
        "# Train the Random Forest Classifier\n",
        "rf_model = RandomForestClassifier(n_estimators=100, random_state=42)\n",
        "rf_model.fit(X, y)\n",
        "\n",
        "# Get feature importances\n",
        "importances = rf_model.feature_importances_\n",
        "\n",
        "# Create a DataFrame for feature importances and feature names\n",
        "feature_importances_df = pd.DataFrame({\n",
        "    'Feature': feature_names,\n",
        "    'Importance': importances\n",
        "})\n",
        "\n",
        "# Sort the features by importance in descending order\n",
        "feature_importances_df = feature_importances_df.sort_values(by='Importance', ascending=False)\n",
        "\n",
        "# Print the top 5 most important features\n",
        "print(\"Top 5 most important features:\")\n",
        "print(feature_importances_df.head(5))"
      ],
      "metadata": {
        "colab": {
          "base_uri": "https://localhost:8080/"
        },
        "id": "nrlqVj181Y6f",
        "outputId": "188ea420-6893-4acc-c6d5-513ea72c6df7"
      },
      "execution_count": 24,
      "outputs": [
        {
          "output_type": "stream",
          "name": "stdout",
          "text": [
            "Top 5 most important features:\n",
            "             Feature  Importance\n",
            "2  petal length (cm)    0.436130\n",
            "3   petal width (cm)    0.436065\n",
            "0  sepal length (cm)    0.106128\n",
            "1   sepal width (cm)    0.021678\n"
          ]
        }
      ]
    },
    {
      "cell_type": "code",
      "source": [
        "# 38 Train a Bagging Classifier and evaluate performance using Precision, Recall, and F1-score\n",
        "# Importing necessary libraries\n",
        "from sklearn.datasets import load_iris\n",
        "from sklearn.model_selection import train_test_split\n",
        "from sklearn.tree import DecisionTreeClassifier\n",
        "from sklearn.ensemble import BaggingClassifier\n",
        "from sklearn.metrics import precision_score, recall_score, f1_score\n",
        "\n",
        "# Load the Iris dataset\n",
        "data = load_iris()\n",
        "X = data.data\n",
        "y = data.target\n",
        "\n",
        "# Split the dataset into training and testing sets\n",
        "X_train, X_test, y_train, y_test = train_test_split(X, y, test_size=0.3, random_state=42)\n",
        "\n",
        "# Create a Bagging Classifier with Decision Tree as the base estimator\n",
        "# Changed 'base_estimator' to 'estimator' to match the current scikit-learn API\n",
        "bagging_model = BaggingClassifier(estimator=DecisionTreeClassifier(), n_estimators=50, random_state=42)\n",
        "\n",
        "# Train the Bagging Classifier\n",
        "bagging_model.fit(X_train, y_train)\n",
        "\n",
        "# Predict the test set results\n",
        "y_pred = bagging_model.predict(X_test)\n",
        "\n",
        "# Evaluate performance using Precision, Recall, and F1-score for each class\n",
        "precision = precision_score(y_test, y_pred, average=None, labels=[0, 1, 2])\n",
        "recall = recall_score(y_test, y_pred, average=None, labels=[0, 1, 2])\n",
        "f1 = f1_score(y_test, y_pred, average=None, labels=[0, 1, 2])\n",
        "\n",
        "# Print the results\n",
        "print(\"Precision for each class:\", precision)\n",
        "print(\"Recall for each class:\", recall)\n",
        "print(\"F1-Score for each class:\", f1)\n",
        "\n",
        "# Calculate and print the average Precision, Recall, and F1-score (macro average)\n",
        "print(\"\\nMacro Average Precision:\", precision_score(y_test, y_pred, average='macro'))\n",
        "print(\"Macro Average Recall:\", recall_score(y_test, y_pred, average='macro'))\n",
        "print(\"Macro Average F1-Score:\", f1_score(y_test, y_pred, average='macro'))"
      ],
      "metadata": {
        "colab": {
          "base_uri": "https://localhost:8080/"
        },
        "id": "Namdyw5e1cmU",
        "outputId": "ebb20932-cf7e-4146-b179-483c66babbe4"
      },
      "execution_count": 26,
      "outputs": [
        {
          "output_type": "stream",
          "name": "stdout",
          "text": [
            "Precision for each class: [1. 1. 1.]\n",
            "Recall for each class: [1. 1. 1.]\n",
            "F1-Score for each class: [1. 1. 1.]\n",
            "\n",
            "Macro Average Precision: 1.0\n",
            "Macro Average Recall: 1.0\n",
            "Macro Average F1-Score: 1.0\n"
          ]
        }
      ]
    },
    {
      "cell_type": "code",
      "source": [
        "# 39  Train a Random Forest Classifier and analyze the effect of max_depth on accuracy=\n",
        "# Import necessary libraries\n",
        "import matplotlib.pyplot as plt\n",
        "from sklearn.datasets import load_iris\n",
        "from sklearn.model_selection import train_test_split\n",
        "from sklearn.ensemble import RandomForestClassifier\n",
        "from sklearn.metrics import accuracy_score\n",
        "\n",
        "# Load the Iris dataset\n",
        "data = load_iris()\n",
        "X = data.data\n",
        "y = data.target\n",
        "\n",
        "# Split the dataset into training and testing sets\n",
        "X_train, X_test, y_train, y_test = train_test_split(X, y, test_size=0.3, random_state=42)\n",
        "\n",
        "# List of different max_depth values to test\n",
        "max_depth_values = [None, 5, 10, 15, 20, 25, 30]\n",
        "\n",
        "# Store accuracy for each max_depth value\n",
        "accuracies = []\n",
        "\n",
        "# Train Random Forest with different max_depth values and evaluate accuracy\n",
        "for max_depth in max_depth_values:\n",
        "    # Create Random Forest Classifier with the current max_depth\n",
        "    rf_model = RandomForestClassifier(n_estimators=100, max_depth=max_depth, random_state=42)\n",
        "\n",
        "    # Train the model\n",
        "    rf_model.fit(X_train, y_train)\n",
        "\n",
        "    # Predict on the test set\n",
        "    y_pred = rf_model.predict(X_test)\n",
        "\n",
        "    # Calculate the accuracy\n",
        "    accuracy = accuracy_score(y_test, y_pred)\n",
        "\n",
        "    # Append the accuracy to the list\n",
        "    accuracies.append(accuracy)\n",
        "\n",
        "# Plot the accuracy vs max_depth\n",
        "plt.figure(figsize=(10, 6))\n",
        "plt.plot(max_depth_values, accuracies, marker='o', color='b')\n",
        "plt.title('Effect of max_depth on Random Forest Accuracy')\n",
        "plt.xlabel('max_depth')\n",
        "plt.ylabel('Accuracy')\n",
        "plt.grid(True)\n",
        "plt.show()\n",
        "\n",
        "# Print accuracies for each max_depth value\n",
        "for max_depth, accuracy in zip(max_depth_values, accuracies):\n",
        "    print(f\"max_depth = {max_depth}: Accuracy = {accuracy:.4f}\")"
      ],
      "metadata": {
        "colab": {
          "base_uri": "https://localhost:8080/",
          "height": 690
        },
        "id": "7_MMslb21g-v",
        "outputId": "b4a3cfe0-e44d-4533-a23c-c1168e10fde0"
      },
      "execution_count": 27,
      "outputs": [
        {
          "output_type": "display_data",
          "data": {
            "text/plain": [
              "<Figure size 1000x600 with 1 Axes>"
            ],
            "image/png": "[encoded data removed]"
          },
          "metadata": {}
        },
        {
          "output_type": "stream",
          "name": "stdout",
          "text": [
            "max_depth = None: Accuracy = 1.0000\n",
            "max_depth = 5: Accuracy = 1.0000\n",
            "max_depth = 10: Accuracy = 1.0000\n",
            "max_depth = 15: Accuracy = 1.0000\n",
            "max_depth = 20: Accuracy = 1.0000\n",
            "max_depth = 25: Accuracy = 1.0000\n",
            "max_depth = 30: Accuracy = 1.0000\n"
          ]
        }
      ]
    },
    {
      "cell_type": "code",
      "source": [
        "# 40 Train a Bagging Regressor using different base estimators (DecisionTree and KNeighbors) and compare\n",
        "# performance\n",
        "# Import necessary libraries\n",
        "import numpy as np\n",
        "# Instead of load_boston, use fetch_california_housing\n",
        "from sklearn.datasets import fetch_california_housing\n",
        "from sklearn.model_selection import train_test_split\n",
        "from sklearn.ensemble import BaggingRegressor\n",
        "from sklearn.tree import DecisionTreeRegressor\n",
        "from sklearn.neighbors import KNeighborsRegressor\n",
        "from sklearn.metrics import mean_squared_error, r2_score\n",
        "\n",
        "# Load the California housing dataset instead of Boston\n",
        "data = fetch_california_housing()\n",
        "X = data.data\n",
        "y = data.target\n",
        "\n",
        "# Split the dataset into training and testing sets\n",
        "X_train, X_test, y_train, y_test = train_test_split(X, y, test_size=0.3, random_state=42)\n",
        "\n",
        "# Bagging Regressor with Decision Tree as the base estimator\n",
        "# Changed 'base_estimator' to 'estimator'\n",
        "dt_bagging_model = BaggingRegressor(estimator=DecisionTreeRegressor(), n_estimators=50, random_state=42)\n",
        "dt_bagging_model.fit(X_train, y_train)\n",
        "\n",
        "# Bagging Regressor with K-Neighbors as the base estimator\n",
        "# Changed 'base_estimator' to 'estimator'\n",
        "knn_bagging_model = BaggingRegressor(estimator=KNeighborsRegressor(), n_estimators=50, random_state=42)\n",
        "knn_bagging_model.fit(X_train, y_train)\n",
        "\n",
        "# Predict with both models\n",
        "y_pred_dt = dt_bagging_model.predict(X_test)\n",
        "y_pred_knn = knn_bagging_model.predict(X_test)\n",
        "\n",
        "# Evaluate the performance using Mean Squared Error (MSE) and R²\n",
        "mse_dt = mean_squared_error(y_test, y_pred_dt)\n",
        "r2_dt = r2_score(y_test, y_pred_dt)\n",
        "\n",
        "mse_knn = mean_squared_error(y_test, y_pred_knn)\n",
        "r2_knn = r2_score(y_test, y_pred_knn)\n",
        "\n",
        "# Print the results\n",
        "print(\"Performance of Bagging Regressor with Decision Tree base estimator:\")\n",
        "print(f\"Mean Squared Error: {mse_dt:.4f}\")\n",
        "print(f\"R²: {r2_dt:.4f}\\n\")\n",
        "\n",
        "print(\"Performance of Bagging Regressor with K-Neighbors base estimator:\")\n",
        "print(f\"Mean Squared Error: {mse_knn:.4f}\")\n",
        "print(f\"R²: {r2_knn:.4f}\")"
      ],
      "metadata": {
        "colab": {
          "base_uri": "https://localhost:8080/"
        },
        "id": "xdnKNjsa2LX1",
        "outputId": "eedc4dd9-e4f6-4d80-c4e5-adb0a1ec8c95"
      },
      "execution_count": 33,
      "outputs": [
        {
          "output_type": "stream",
          "name": "stdout",
          "text": [
            "Performance of Bagging Regressor with Decision Tree base estimator:\n",
            "Mean Squared Error: 0.2579\n",
            "R²: 0.8035\n",
            "\n",
            "Performance of Bagging Regressor with K-Neighbors base estimator:\n",
            "Mean Squared Error: 1.1021\n",
            "R²: 0.1603\n"
          ]
        }
      ]
    },
    {
      "cell_type": "code",
      "source": [
        "# 41 Train a Random Forest Classifier and evaluate its performance using ROC-AUC Score=\n",
        "# Import necessary libraries\n",
        "import numpy as np\n",
        "import matplotlib.pyplot as plt\n",
        "from sklearn.datasets import load_breast_cancer\n",
        "from sklearn.model_selection import train_test_split\n",
        "from sklearn.ensemble import RandomForestClassifier\n",
        "from sklearn.metrics import roc_auc_score, roc_curve\n",
        "\n",
        "# Load the Breast Cancer dataset\n",
        "data = load_breast_cancer()\n",
        "X = data.data\n",
        "y = data.target\n",
        "\n",
        "# Split the dataset into training and testing sets\n",
        "X_train, X_test, y_train, y_test = train_test_split(X, y, test_size=0.3, random_state=42)\n",
        "\n",
        "# Create and train the Random Forest Classifier\n",
        "rf_model = RandomForestClassifier(n_estimators=100, random_state=42)\n",
        "rf_model.fit(X_train, y_train)\n",
        "\n",
        "# Predict probabilities for the test set\n",
        "y_prob = rf_model.predict_proba(X_test)[:, 1]  # Get probabilities for the positive class\n",
        "\n",
        "# Calculate the ROC-AUC score\n",
        "roc_auc = roc_auc_score(y_test, y_prob)\n",
        "print(f\"ROC-AUC Score: {roc_auc:.4f}\")\n",
        "\n",
        "# Compute ROC curve\n",
        "fpr, tpr, thresholds = roc_curve(y_test, y_prob)\n",
        "\n",
        "# Plot the ROC curve\n",
        "plt.figure(figsize=(8, 6))\n",
        "plt.plot(fpr, tpr, color='blue', label=f'Random Forest (AUC = {roc_auc:.4f})')\n",
        "plt.plot([0, 1], [0, 1], color='gray', linestyle='--')  # Diagonal line for random guessing\n",
        "plt.title('Receiver Operating Characteristic (ROC) Curve')\n",
        "plt.xlabel('False Positive Rate')\n",
        "plt.ylabel('True Positive Rate')\n",
        "plt.legend(loc='lower right')\n",
        "plt.grid(True)\n",
        "plt.show()"
      ],
      "metadata": {
        "colab": {
          "base_uri": "https://localhost:8080/",
          "height": 582
        },
        "id": "0AX37ehS2RNv",
        "outputId": "d5a2d195-aeb2-48b7-b938-09f0298b4af3"
      },
      "execution_count": 29,
      "outputs": [
        {
          "output_type": "stream",
          "name": "stdout",
          "text": [
            "ROC-AUC Score: 0.9968\n"
          ]
        },
        {
          "output_type": "display_data",
          "data": {
            "text/plain": [
              "<Figure size 800x600 with 1 Axes>"
            ],
            "image/png": "[encoded data removed]"
          },
          "metadata": {}
        }
      ]
    },
    {
      "cell_type": "code",
      "source": [
        "# 42 Train a Bagging Classifier and evaluate its performance using cross-validatio.\n",
        "# Import necessary libraries\n",
        "import numpy as np\n",
        "from sklearn.datasets import load_breast_cancer\n",
        "from sklearn.model_selection import cross_val_score\n",
        "from sklearn.ensemble import BaggingClassifier\n",
        "from sklearn.tree import DecisionTreeClassifier\n",
        "from sklearn.metrics import make_scorer\n",
        "\n",
        "# Load the Breast Cancer dataset\n",
        "data = load_breast_cancer()\n",
        "X = data.data\n",
        "y = data.target\n",
        "\n",
        "# Create a Bagging Classifier using Decision Tree as the base estimator\n",
        "# Changed 'base_estimator' to 'estimator'\n",
        "bagging_model = BaggingClassifier(estimator=DecisionTreeClassifier(), n_estimators=100, random_state=42)\n",
        "\n",
        "# Perform cross-validation and calculate accuracy scores\n",
        "cv_scores = cross_val_score(bagging_model, X, y, cv=5, scoring='accuracy')  # 5-fold cross-validation\n",
        "\n",
        "# Print the cross-validation results\n",
        "print(f\"Cross-validation Accuracy Scores: {cv_scores}\")\n",
        "print(f\"Mean Accuracy: {np.mean(cv_scores):.4f}\")\n",
        "print(f\"Standard Deviation: {np.std(cv_scores):.4f}\")"
      ],
      "metadata": {
        "colab": {
          "base_uri": "https://localhost:8080/"
        },
        "id": "XgP-_OWs2aUx",
        "outputId": "762f43b4-83f4-47ac-dbc8-9af1df5dc4c9"
      },
      "execution_count": 32,
      "outputs": [
        {
          "output_type": "stream",
          "name": "stdout",
          "text": [
            "Cross-validation Accuracy Scores: [0.89473684 0.93859649 0.99122807 0.96491228 1.        ]\n",
            "Mean Accuracy: 0.9579\n",
            "Standard Deviation: 0.0382\n"
          ]
        }
      ]
    },
    {
      "cell_type": "code",
      "source": [
        "# 43 Train a Random Forest Classifier and plot the Precision-Recall curv\n",
        "# Import necessary libraries\n",
        "import numpy as np\n",
        "import matplotlib.pyplot as plt\n",
        "from sklearn.datasets import load_breast_cancer\n",
        "from sklearn.model_selection import train_test_split\n",
        "from sklearn.ensemble import RandomForestClassifier\n",
        "from sklearn.metrics import precision_recall_curve, auc\n",
        "\n",
        "# Load the Breast Cancer dataset\n",
        "data = load_breast_cancer()\n",
        "X = data.data\n",
        "y = data.target\n",
        "\n",
        "# Split the dataset into training and testing sets\n",
        "X_train, X_test, y_train, y_test = train_test_split(X, y, test_size=0.3, random_state=42)\n",
        "\n",
        "# Create and train the Random Forest Classifier\n",
        "rf_model = RandomForestClassifier(n_estimators=100, random_state=42)\n",
        "rf_model.fit(X_train, y_train)\n",
        "\n",
        "# Predict probabilities for the test set\n",
        "y_prob = rf_model.predict_proba(X_test)[:, 1]  # Get probabilities for the positive class\n",
        "\n",
        "# Compute Precision-Recall curve\n",
        "precision, recall, _ = precision_recall_curve(y_test, y_prob)\n",
        "\n",
        "# Calculate the AUC (Area Under the Curve) for Precision-Recall\n",
        "pr_auc = auc(recall, precision)\n",
        "print(f\"Precision-Recall AUC: {pr_auc:.4f}\")\n",
        "\n",
        "# Plot the Precision-Recall curve\n",
        "plt.figure(figsize=(8, 6))\n",
        "plt.plot(recall, precision, color='b', label=f'Random Forest (AUC = {pr_auc:.4f})')\n",
        "plt.xlabel('Recall')\n",
        "plt.ylabel('Precision')\n",
        "plt.title('Precision-Recall Curve')\n",
        "plt.legend(loc='lower left')\n",
        "plt.grid(True)\n",
        "plt.show()"
      ],
      "metadata": {
        "colab": {
          "base_uri": "https://localhost:8080/",
          "height": 582
        },
        "id": "hGd7p0bL2m-R",
        "outputId": "4420a775-13bd-4a15-a189-6808f4f6af44"
      },
      "execution_count": 34,
      "outputs": [
        {
          "output_type": "stream",
          "name": "stdout",
          "text": [
            "Precision-Recall AUC: 0.9982\n"
          ]
        },
        {
          "output_type": "display_data",
          "data": {
            "text/plain": [
              "<Figure size 800x600 with 1 Axes>"
            ],
            "image/png": "[encoded data removed]"
          },
          "metadata": {}
        }
      ]
    },
    {
      "cell_type": "code",
      "source": [
        "# 44 Train a Stacking Classifier with Random Forest and Logistic Regression and compare accuracy=\n",
        "# Import necessary libraries\n",
        "import numpy as np\n",
        "from sklearn.datasets import load_breast_cancer\n",
        "from sklearn.model_selection import train_test_split\n",
        "from sklearn.ensemble import RandomForestClassifier, StackingClassifier\n",
        "from sklearn.linear_model import LogisticRegression\n",
        "from sklearn.metrics import accuracy_score\n",
        "\n",
        "# Load the Breast Cancer dataset\n",
        "data = load_breast_cancer()\n",
        "X = data.data\n",
        "y = data.target\n",
        "\n",
        "# Split the dataset into training and testing sets\n",
        "X_train, X_test, y_train, y_test = train_test_split(X, y, test_size=0.3, random_state=42)\n",
        "\n",
        "# Define base models (Random Forest and Logistic Regression)\n",
        "base_models = [\n",
        "    ('rf', RandomForestClassifier(n_estimators=100, random_state=42)),\n",
        "    ('lr', LogisticRegression(max_iter=1000, random_state=42))\n",
        "]\n",
        "\n",
        "# Create a Stacking Classifier\n",
        "stacking_model = StackingClassifier(estimators=base_models, final_estimator=LogisticRegression())\n",
        "\n",
        "# Train the Stacking Classifier\n",
        "stacking_model.fit(X_train, y_train)\n",
        "\n",
        "# Predict using the Stacking Classifier\n",
        "y_pred_stacking = stacking_model.predict(X_test)\n",
        "\n",
        "# Evaluate performance (accuracy)\n",
        "accuracy_stacking = accuracy_score(y_test, y_pred_stacking)\n",
        "\n",
        "# Train and predict using Random Forest\n",
        "rf_model = RandomForestClassifier(n_estimators=100, random_state=42)\n",
        "rf_model.fit(X_train, y_train)\n",
        "y_pred_rf = rf_model.predict(X_test)\n",
        "accuracy_rf = accuracy_score(y_test, y_pred_rf)\n",
        "\n",
        "# Train and predict using Logistic Regression\n",
        "lr_model = LogisticRegression(max_iter=1000, random_state=42)\n",
        "lr_model.fit(X_train, y_train)\n",
        "y_pred_lr = lr_model.predict(X_test)\n",
        "accuracy_lr = accuracy_score(y_test, y_pred_lr)\n",
        "\n",
        "# Print the accuracy of each model\n",
        "print(f\"Accuracy of Stacking Classifier: {accuracy_stacking:.4f}\")\n",
        "print(f\"Accuracy of Random Forest Classifier: {accuracy_rf:.4f}\")\n",
        "print(f\"Accuracy of Logistic Regression Classifier: {accuracy_lr:.4f}\")"
      ],
      "metadata": {
        "colab": {
          "base_uri": "https://localhost:8080/"
        },
        "id": "olG2e3I43EHM",
        "outputId": "cea5ff01-34d0-4f3d-a52d-a23e97f9513b"
      },
      "execution_count": 35,
      "outputs": [
        {
          "output_type": "stream",
          "name": "stderr",
          "text": [
            "/usr/local/lib/python3.11/dist-packages/sklearn/linear_model/_logistic.py:465: ConvergenceWarning: lbfgs failed to converge (status=1):\n",
            "STOP: TOTAL NO. of ITERATIONS REACHED LIMIT.\n",
            "\n",
            "Increase the number of iterations (max_iter) or scale the data as shown in:\n",
            "    https://scikit-learn.org/stable/modules/preprocessing.html\n",
            "Please also refer to the documentation for alternative solver options:\n",
            "    https://scikit-learn.org/stable/modules/linear_model.html#logistic-regression\n",
            "  n_iter_i = _check_optimize_result(\n",
            "/usr/local/lib/python3.11/dist-packages/sklearn/linear_model/_logistic.py:465: ConvergenceWarning: lbfgs failed to converge (status=1):\n",
            "STOP: TOTAL NO. of ITERATIONS REACHED LIMIT.\n",
            "\n",
            "Increase the number of iterations (max_iter) or scale the data as shown in:\n",
            "    https://scikit-learn.org/stable/modules/preprocessing.html\n",
            "Please also refer to the documentation for alternative solver options:\n",
            "    https://scikit-learn.org/stable/modules/linear_model.html#logistic-regression\n",
            "  n_iter_i = _check_optimize_result(\n",
            "/usr/local/lib/python3.11/dist-packages/sklearn/linear_model/_logistic.py:465: ConvergenceWarning: lbfgs failed to converge (status=1):\n",
            "STOP: TOTAL NO. of ITERATIONS REACHED LIMIT.\n",
            "\n",
            "Increase the number of iterations (max_iter) or scale the data as shown in:\n",
            "    https://scikit-learn.org/stable/modules/preprocessing.html\n",
            "Please also refer to the documentation for alternative solver options:\n",
            "    https://scikit-learn.org/stable/modules/linear_model.html#logistic-regression\n",
            "  n_iter_i = _check_optimize_result(\n",
            "/usr/local/lib/python3.11/dist-packages/sklearn/linear_model/_logistic.py:465: ConvergenceWarning: lbfgs failed to converge (status=1):\n",
            "STOP: TOTAL NO. of ITERATIONS REACHED LIMIT.\n",
            "\n",
            "Increase the number of iterations (max_iter) or scale the data as shown in:\n",
            "    https://scikit-learn.org/stable/modules/preprocessing.html\n",
            "Please also refer to the documentation for alternative solver options:\n",
            "    https://scikit-learn.org/stable/modules/linear_model.html#logistic-regression\n",
            "  n_iter_i = _check_optimize_result(\n",
            "/usr/local/lib/python3.11/dist-packages/sklearn/linear_model/_logistic.py:465: ConvergenceWarning: lbfgs failed to converge (status=1):\n",
            "STOP: TOTAL NO. of ITERATIONS REACHED LIMIT.\n",
            "\n",
            "Increase the number of iterations (max_iter) or scale the data as shown in:\n",
            "    https://scikit-learn.org/stable/modules/preprocessing.html\n",
            "Please also refer to the documentation for alternative solver options:\n",
            "    https://scikit-learn.org/stable/modules/linear_model.html#logistic-regression\n",
            "  n_iter_i = _check_optimize_result(\n",
            "/usr/local/lib/python3.11/dist-packages/sklearn/linear_model/_logistic.py:465: ConvergenceWarning: lbfgs failed to converge (status=1):\n",
            "STOP: TOTAL NO. of ITERATIONS REACHED LIMIT.\n",
            "\n",
            "Increase the number of iterations (max_iter) or scale the data as shown in:\n",
            "    https://scikit-learn.org/stable/modules/preprocessing.html\n",
            "Please also refer to the documentation for alternative solver options:\n",
            "    https://scikit-learn.org/stable/modules/linear_model.html#logistic-regression\n",
            "  n_iter_i = _check_optimize_result(\n"
          ]
        },
        {
          "output_type": "stream",
          "name": "stdout",
          "text": [
            "Accuracy of Stacking Classifier: 0.9708\n",
            "Accuracy of Random Forest Classifier: 0.9708\n",
            "Accuracy of Logistic Regression Classifier: 0.9708\n"
          ]
        },
        {
          "output_type": "stream",
          "name": "stderr",
          "text": [
            "/usr/local/lib/python3.11/dist-packages/sklearn/linear_model/_logistic.py:465: ConvergenceWarning: lbfgs failed to converge (status=1):\n",
            "STOP: TOTAL NO. of ITERATIONS REACHED LIMIT.\n",
            "\n",
            "Increase the number of iterations (max_iter) or scale the data as shown in:\n",
            "    https://scikit-learn.org/stable/modules/preprocessing.html\n",
            "Please also refer to the documentation for alternative solver options:\n",
            "    https://scikit-learn.org/stable/modules/linear_model.html#logistic-regression\n",
            "  n_iter_i = _check_optimize_result(\n"
          ]
        }
      ]
    },
    {
      "cell_type": "code",
      "source": [
        "# 45 = Train a Bagging Regressor with different levels of bootstrap samples and compare performance.\n",
        "# Import necessary libraries\n",
        "import numpy as np\n",
        "import matplotlib.pyplot as plt\n",
        "from sklearn.datasets import make_regression\n",
        "from sklearn.model_selection import train_test_split\n",
        "from sklearn.ensemble import BaggingRegressor\n",
        "from sklearn.tree import DecisionTreeRegressor\n",
        "from sklearn.metrics import mean_squared_error, r2_score\n",
        "\n",
        "# Generate a synthetic regression dataset\n",
        "X, y = make_regression(n_samples=1000, n_features=20, noise=0.1, random_state=42)\n",
        "\n",
        "# Split the dataset into training and testing sets\n",
        "X_train, X_test, y_train, y_test = train_test_split(X, y, test_size=0.3, random_state=42)\n",
        "\n",
        "# Define the base model (Decision Tree Regressor)\n",
        "base_model = DecisionTreeRegressor(random_state=42)\n",
        "\n",
        "# Create a function to train the Bagging Regressor and compare performance with different bootstrap settings\n",
        "def train_bagging_with_bootstrap(bootstrap_value):\n",
        "    # Create a Bagging Regressor with the specified bootstrap value\n",
        "    # Changed 'base_estimator' to 'estimator'\n",
        "    bagging_model = BaggingRegressor(estimator=base_model, n_estimators=100, bootstrap=bootstrap_value, random_state=42)\n",
        "\n",
        "    # Train the model\n",
        "    bagging_model.fit(X_train, y_train)\n",
        "\n",
        "    # Predict on the test set\n",
        "    y_pred = bagging_model.predict(X_test)\n",
        "\n",
        "    # Evaluate the performance using Mean Squared Error (MSE) and R² score\n",
        "    mse = mean_squared_error(y_test, y_pred)\n",
        "    r2 = r2_score(y_test, y_pred)\n",
        "\n",
        "    return mse, r2\n",
        "\n",
        "# Test with different bootstrap values: True (with replacement) and False (without replacement)\n",
        "bootstrap_values = [True, False]\n",
        "results = {}\n",
        "\n",
        "# Train the Bagging Regressor for each bootstrap setting and store the results\n",
        "for bootstrap_value in bootstrap_values:\n",
        "    mse, r2 = train_bagging_with_bootstrap(bootstrap_value)\n",
        "    results[bootstrap_value] = {'MSE': mse, 'R²': r2}\n",
        "\n",
        "# Print the results\n",
        "for bootstrap_value, metrics in results.items():\n",
        "    print(f\"Bootstrap={bootstrap_value}: MSE={metrics['MSE']:.4f}, R²={metrics['R²']:.4f}\")\n",
        "\n",
        "# Plot the comparison of MSE and R² scores\n",
        "labels = ['Bootstrap=True', 'Bootstrap=False']\n",
        "mse_scores = [results[True]['MSE'], results[False]['MSE']]\n",
        "r2_scores = [results[True]['R²'], results[False]['R²']]\n",
        "\n",
        "fig, axes = plt.subplots(1, 2, figsize=(12, 6))\n",
        "\n",
        "# MSE comparison\n",
        "axes[0].bar(labels, mse_scores, color=['blue', 'orange'])\n",
        "axes[0].set_title('Mean Squared Error (MSE)')\n",
        "axes[0].set_ylabel('MSE')\n",
        "\n",
        "# R² comparison\n",
        "axes[1].bar(labels, r2_scores, color=['blue', 'orange'])\n",
        "axes[1].set_title('R² Score')\n",
        "axes[1].set_ylabel('R²')\n",
        "\n",
        "plt.tight_layout()\n",
        "plt.show()"
      ],
      "metadata": {
        "colab": {
          "base_uri": "https://localhost:8080/",
          "height": 643
        },
        "id": "Nhpm4-yT3LnT",
        "outputId": "070dc8d7-0bbf-4891-bfa8-0a2f1f56d974"
      },
      "execution_count": 37,
      "outputs": [
        {
          "output_type": "stream",
          "name": "stdout",
          "text": [
            "Bootstrap=True: MSE=7353.9022, R²=0.8073\n",
            "Bootstrap=False: MSE=22150.3594, R²=0.4196\n"
          ]
        },
        {
          "output_type": "display_data",
          "data": {
            "text/plain": [
              "<Figure size 1200x600 with 2 Axes>"
            ],
            "image/png": "[encoded data removed]"
          },
          "metadata": {}
        }
      ]
    },
    {
      "cell_type": "code",
      "source": [],
      "metadata": {
        "id": "HbTjfGWD3SZr"
      },
      "execution_count": null,
      "outputs": []
    }
  ]
}