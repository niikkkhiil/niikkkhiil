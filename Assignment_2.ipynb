{
  "nbformat": 4,
  "nbformat_minor": 0,
  "metadata": {
    "colab": {
      "provenance": [],
      "authorship_tag": "ABX9TyOvPjtJyOcnjb7wFYof3zTR",
      "include_colab_link": true
    },
    "kernelspec": {
      "name": "python3",
      "display_name": "Python 3"
    },
    "language_info": {
      "name": "python"
    }
  },
  "cells": [
    {
      "cell_type": "markdown",
      "metadata": {
        "id": "view-in-github",
        "colab_type": "text"
      },
      "source": [
        "<a href=\"https://colab.research.google.com/github/niikkkhiil/niikkkhiil/blob/main/Assignment_2.ipynb\" target=\"_parent\"><img src=\"https://colab.research.google.com/assets/colab-badge.svg\" alt=\"Open In Colab\"/></a>"
      ]
    },
    {
      "cell_type": "markdown",
      "source": [
        "1. String slicing is use to extract a subset of characters from a string. In Python, this is done using the slice notation, which has the following syntax:\n",
        "string [start:stop:step]\n"
      ],
      "metadata": {
        "id": "Rgwskq0CEUrj"
      }
    },
    {
      "cell_type": "code",
      "execution_count": null,
      "metadata": {
        "colab": {
          "base_uri": "https://localhost:8080/"
        },
        "id": "2Ia-yDlPs8CN",
        "outputId": "be3fdfec-7451-4198-b65b-5d1b40a250a6"
      },
      "outputs": [
        {
          "output_type": "stream",
          "name": "stdout",
          "text": [
            "Hello\n",
            "World\n"
          ]
        }
      ],
      "source": [
        "text = \"Hello, World!\"\n",
        "slice1 = text[0:5]\n",
        "print(slice1)\n",
        "slice2 = text[7:12]\n",
        "print(slice2)\n"
      ]
    },
    {
      "cell_type": "code",
      "source": [
        "slice3 = text[:5]\n",
        "print(slice3)  # 'Hello' (start is omitted, so it starts from 0)\n",
        "slice4 = text[7:]\n",
        "print(slice4)   # 'World!' (stop is omitted, so it goes to the end)\n",
        "slice5 = text[:]\n",
        "print(slice5)   # 'Hello, World!' (both start and stop are omitted, so it includes the entire string)\n"
      ],
      "metadata": {
        "colab": {
          "base_uri": "https://localhost:8080/"
        },
        "id": "QI8T8izXFpA2",
        "outputId": "2a5c8eff-d58a-4aa4-f8fb-1a7ead15e133"
      },
      "execution_count": null,
      "outputs": [
        {
          "output_type": "stream",
          "name": "stdout",
          "text": [
            "Hello\n",
            "World!\n",
            "Hello, World!\n"
          ]
        }
      ]
    },
    {
      "cell_type": "code",
      "source": [
        "slice6 = text[::2]   # 'Hlo ol!' (every second character)\n",
        "print(slice6)\n",
        "slice7 = text[1::2]  # 'el,Wrd' (every second character, starting from index 1)\n",
        "print(slice7)\n",
        "slice8 = text[::-1]  # '!dlroW ,olleH' (reverse the string)\n",
        "print(slice8)\n"
      ],
      "metadata": {
        "colab": {
          "base_uri": "https://localhost:8080/"
        },
        "id": "QdY5SIKyG1hP",
        "outputId": "eb89904b-30e5-47c9-92c4-2e29ecc334d3"
      },
      "execution_count": null,
      "outputs": [
        {
          "output_type": "stream",
          "name": "stdout",
          "text": [
            "Hlo ol!\n",
            "el,Wrd\n",
            "!dlroW ,olleH\n"
          ]
        }
      ]
    },
    {
      "cell_type": "markdown",
      "source": [
        "2.                      Lists are one of the most versatile and commonly used data structures in Python. They allow you to store an ordered collection of items, which can be of different types. Here are the key features of lists in Python:"
      ],
      "metadata": {
        "id": "QaQhH-iTHYBC"
      }
    },
    {
      "cell_type": "markdown",
      "source": [
        " **Ordered**\n",
        "Lists maintain the order of the elements as they were added. This means that the elements can be accessed based on their position (index) in the list."
      ],
      "metadata": {
        "id": "5yy_qxKcKEl3"
      }
    },
    {
      "cell_type": "code",
      "source": [
        "fruits = ['apple', 'banana', 'cherry']\n",
        "print(fruits[0])\n",
        "print(fruits[1])\n",
        "print(fruits[2])\n"
      ],
      "metadata": {
        "colab": {
          "base_uri": "https://localhost:8080/"
        },
        "id": "-Sb5HLWDKK0U",
        "outputId": "cfcfce77-112d-4f12-ef7f-6cea410fa0a8"
      },
      "execution_count": null,
      "outputs": [
        {
          "output_type": "stream",
          "name": "stdout",
          "text": [
            "apple\n",
            "banana\n",
            "cherry\n"
          ]
        }
      ]
    },
    {
      "cell_type": "markdown",
      "source": [
        "**Mutable**\n",
        "Lists are mutable, meaning that the elements within a list can be changed after the list has been created. You can add, remove, or modify elements."
      ],
      "metadata": {
        "id": "MoVMWpiYKQG-"
      }
    },
    {
      "cell_type": "code",
      "source": [
        "fruits[1] = 'blueberry'\n",
        "print(fruits)\n"
      ],
      "metadata": {
        "colab": {
          "base_uri": "https://localhost:8080/"
        },
        "id": "R91i9LyzKVwg",
        "outputId": "070bd3f0-d4d1-4509-ea54-c86651e96e33"
      },
      "execution_count": null,
      "outputs": [
        {
          "output_type": "stream",
          "name": "stdout",
          "text": [
            "['apple', 'blueberry', 'cherry']\n"
          ]
        }
      ]
    },
    {
      "cell_type": "markdown",
      "source": [
        "**Dynamic**\n",
        "Lists can grow and shrink in size as needed. You can add or remove elements using methods append(), extend(), insert(), remove(), and pop()."
      ],
      "metadata": {
        "id": "owetcIB4KfB_"
      }
    },
    {
      "cell_type": "code",
      "source": [
        "fruits.append('date')\n",
        "print(fruits)\n",
        "\n",
        "fruits.pop(1)\n",
        "print(fruits)\n"
      ],
      "metadata": {
        "colab": {
          "base_uri": "https://localhost:8080/"
        },
        "id": "oWkk76ijKugi",
        "outputId": "36aa8e3d-46cb-4e06-fd78-e8fda30cde32"
      },
      "execution_count": null,
      "outputs": [
        {
          "output_type": "stream",
          "name": "stdout",
          "text": [
            "['apple', 'banana', 'cherry', 'date']\n",
            "['apple', 'cherry', 'date']\n"
          ]
        }
      ]
    },
    {
      "cell_type": "markdown",
      "source": [
        "**Heterogeneous**\n",
        " list can contain elements of different data types, including other lists."
      ],
      "metadata": {
        "id": "yrHJZ-SwK2-a"
      }
    },
    {
      "cell_type": "code",
      "source": [
        "mixed_list = [1, 'apple', 3.14, [2, 4, 6]]\n",
        "print(mixed_list)\n"
      ],
      "metadata": {
        "colab": {
          "base_uri": "https://localhost:8080/"
        },
        "id": "-Fj7uGw6K_3k",
        "outputId": "e9e1ff86-9e33-44c0-fc83-e71b92a94b75"
      },
      "execution_count": null,
      "outputs": [
        {
          "output_type": "stream",
          "name": "stdout",
          "text": [
            "[1, 'apple', 3.14, [2, 4, 6]]\n"
          ]
        }
      ]
    },
    {
      "cell_type": "markdown",
      "source": [
        "**Iteration**\n",
        "can easily done over the elements of a list using loops."
      ],
      "metadata": {
        "id": "M_-jEzDILcDK"
      }
    },
    {
      "cell_type": "code",
      "source": [
        "for fruit in fruits:\n",
        "    print(fruit)\n"
      ],
      "metadata": {
        "colab": {
          "base_uri": "https://localhost:8080/"
        },
        "id": "1xWJVOCyLjgT",
        "outputId": "bdab5e55-a9c1-479c-9375-c5149ec79c52"
      },
      "execution_count": null,
      "outputs": [
        {
          "output_type": "stream",
          "name": "stdout",
          "text": [
            "apple\n",
            "cherry\n",
            "date\n"
          ]
        }
      ]
    },
    {
      "cell_type": "markdown",
      "source": [
        "**Nested Lists**\n",
        "can contain other lists, which allows the creation of multi-dimensional arrays or matrices."
      ],
      "metadata": {
        "id": "-200EQquLo-v"
      }
    },
    {
      "cell_type": "code",
      "source": [
        "matrix = [[1, 2, 3], [4, 5, 6], [7, 8, 9]]\n",
        "print(matrix[1][2])\n"
      ],
      "metadata": {
        "colab": {
          "base_uri": "https://localhost:8080/"
        },
        "id": "dgyvF15aLxSl",
        "outputId": "9583c13a-c0ec-4d59-b5ee-6bc9060a4416"
      },
      "execution_count": null,
      "outputs": [
        {
          "output_type": "stream",
          "name": "stdout",
          "text": [
            "6\n"
          ]
        }
      ]
    },
    {
      "cell_type": "markdown",
      "source": [
        "3. Accessing, modifying, and deleting elements in a list are fundamental operations in Python. Here's how you can perform these actions:\n",
        "**Accessing Elements**\n",
        "\n",
        "**By Index:**\n",
        "You can access elements in a list using their index. Indexing starts at 0."
      ],
      "metadata": {
        "id": "hYbFqHkHL1vO"
      }
    },
    {
      "cell_type": "code",
      "source": [
        "fruits = ['apple', 'banana', 'cherry']\n",
        "print(fruits[0])\n",
        "print(fruits[2])\n",
        "\n",
        "print(fruits[-1])\n",
        "print(fruits[-2])\n",
        "\n",
        "print(fruits[1:3])\n",
        "print(fruits[:2])\n",
        "print(fruits[1:])\n",
        "print(fruits[:])\n",
        "\n",
        "\n"
      ],
      "metadata": {
        "colab": {
          "base_uri": "https://localhost:8080/"
        },
        "id": "tzWOvtnb15wq",
        "outputId": "7ce73503-2108-4aa7-d0e3-8d3afb0c95a5"
      },
      "execution_count": null,
      "outputs": [
        {
          "output_type": "stream",
          "name": "stdout",
          "text": [
            "apple\n",
            "cherry\n",
            "cherry\n",
            "banana\n"
          ]
        }
      ]
    },
    {
      "cell_type": "markdown",
      "source": [
        "**Modifying Elements**\n",
        "\n",
        "You can modify elements by accessing them via their index and assigning a new value."
      ],
      "metadata": {
        "id": "zoivVeeq2HCU"
      }
    },
    {
      "cell_type": "code",
      "source": [
        "fruits[1] = 'blueberry'\n",
        "print(fruits)\n",
        "\n",
        "fruits[1:3] = ['blackberry', 'date']\n",
        "print(fruits)\n",
        "\n"
      ],
      "metadata": {
        "colab": {
          "base_uri": "https://localhost:8080/"
        },
        "id": "zeM0xhh-1-jH",
        "outputId": "1dbf6e7c-f601-4143-8967-29699eda40ef"
      },
      "execution_count": null,
      "outputs": [
        {
          "output_type": "stream",
          "name": "stdout",
          "text": [
            "['apple', 'blueberry', 'cherry']\n",
            "['apple', 'blackberry', 'date']\n"
          ]
        }
      ]
    },
    {
      "cell_type": "markdown",
      "source": [
        "**Deleting Elements**\n",
        "\n",
        "Using *del*:  \n",
        " You can delete elements by index using the del statement."
      ],
      "metadata": {
        "id": "GO787E8P2tCI"
      }
    },
    {
      "cell_type": "code",
      "source": [
        "del fruits[1]\n",
        "print(fruits)"
      ],
      "metadata": {
        "colab": {
          "base_uri": "https://localhost:8080/"
        },
        "id": "9ErNK4g82r9u",
        "outputId": "3d5c5318-27f7-45b9-aeb1-34940004471d"
      },
      "execution_count": null,
      "outputs": [
        {
          "output_type": "stream",
          "name": "stdout",
          "text": [
            "['apple', 'date']\n"
          ]
        }
      ]
    },
    {
      "cell_type": "markdown",
      "source": [
        "Using *remove()*:\n",
        "\n",
        "You can delete an element by value using the remove() method. It removes the first occurrence of the value."
      ],
      "metadata": {
        "id": "henktMld26k7"
      }
    },
    {
      "cell_type": "code",
      "source": [
        "fruits.remove('apple')\n",
        "print(fruits)\n"
      ],
      "metadata": {
        "colab": {
          "base_uri": "https://localhost:8080/"
        },
        "id": "wUdJEa473C0J",
        "outputId": "9feb767c-8b19-49ba-c868-6e1ad3078f86"
      },
      "execution_count": null,
      "outputs": [
        {
          "output_type": "stream",
          "name": "stdout",
          "text": [
            "['date']\n"
          ]
        }
      ]
    },
    {
      "cell_type": "markdown",
      "source": [
        "Using *pop()*:\n",
        "\n",
        "You can delete an element by index using the pop() method, which also returns the deleted element. If no index is specified, it removes and returns the last element."
      ],
      "metadata": {
        "id": "oRmkwFwo3GVw"
      }
    },
    {
      "cell_type": "code",
      "source": [
        "last_fruit = fruits.pop()\n",
        "print(last_fruit)\n",
        "print(fruits)\n",
        "\n",
        "\n",
        "fruits = ['apple', 'banana', 'cherry']\n",
        "second_fruit = fruits.pop(1)\n",
        "print(second_fruit)\n",
        "print(fruits)\n"
      ],
      "metadata": {
        "colab": {
          "base_uri": "https://localhost:8080/"
        },
        "id": "Vw0ifQAk3FAq",
        "outputId": "af869938-d81b-4a36-aaf9-e06d0d312873"
      },
      "execution_count": null,
      "outputs": [
        {
          "output_type": "stream",
          "name": "stdout",
          "text": [
            "date\n",
            "[]\n",
            "banana\n",
            "['apple', 'cherry']\n"
          ]
        }
      ]
    },
    {
      "cell_type": "markdown",
      "source": [
        "4. Lists and tuples are both sequence data types in Python that can store a collection of items. However, they have some key differences. Here is a detailed comparison and contrast between the two:\n",
        "\n",
        "** Mutability**\n",
        "\n",
        "\n",
        "*   List: Lists are mutable, meaning their elements can be changed after the list is created.\n",
        "*   Tuple: Tuples are immutable, meaning once a tuple is created, its elements cannot be changed.\n",
        "\n",
        "\n"
      ],
      "metadata": {
        "id": "Y37AnDEX7eke"
      }
    },
    {
      "cell_type": "code",
      "source": [
        "# List Example\n",
        "fruits_list = ['apple', 'banana', 'cherry']\n",
        "fruits_list[1] = 'blueberry'\n",
        "print(fruits_list)\n",
        "\n"
      ],
      "metadata": {
        "colab": {
          "base_uri": "https://localhost:8080/"
        },
        "id": "JRz36eU29exV",
        "outputId": "b573a962-8fc2-4702-a7ad-582aa13e47b6"
      },
      "execution_count": null,
      "outputs": [
        {
          "output_type": "stream",
          "name": "stdout",
          "text": [
            "['apple', 'blueberry', 'cherry']\n"
          ]
        }
      ]
    },
    {
      "cell_type": "code",
      "source": [
        "# Tuple Example\n",
        "fruits_tuple = ('apple', 'banana', 'cherry')\n",
        "fruits_tuple[1] = 'blueberry'  # This will raise a TypeError"
      ],
      "metadata": {
        "colab": {
          "base_uri": "https://localhost:8080/",
          "height": 183
        },
        "id": "c28bU9_g9r_C",
        "outputId": "83a9154f-b591-4f5e-dc92-2494e3708db4"
      },
      "execution_count": null,
      "outputs": [
        {
          "output_type": "error",
          "ename": "TypeError",
          "evalue": "'tuple' object does not support item assignment",
          "traceback": [
            "\u001b[0;31m---------------------------------------------------------------------------\u001b[0m",
            "\u001b[0;31mTypeError\u001b[0m                                 Traceback (most recent call last)",
            "\u001b[0;32m<ipython-input-10-be671b8b8aaa>\u001b[0m in \u001b[0;36m<cell line: 3>\u001b[0;34m()\u001b[0m\n\u001b[1;32m      1\u001b[0m \u001b[0;31m# Tuple Example\u001b[0m\u001b[0;34m\u001b[0m\u001b[0;34m\u001b[0m\u001b[0m\n\u001b[1;32m      2\u001b[0m \u001b[0mfruits_tuple\u001b[0m \u001b[0;34m=\u001b[0m \u001b[0;34m(\u001b[0m\u001b[0;34m'apple'\u001b[0m\u001b[0;34m,\u001b[0m \u001b[0;34m'banana'\u001b[0m\u001b[0;34m,\u001b[0m \u001b[0;34m'cherry'\u001b[0m\u001b[0;34m)\u001b[0m\u001b[0;34m\u001b[0m\u001b[0;34m\u001b[0m\u001b[0m\n\u001b[0;32m----> 3\u001b[0;31m \u001b[0mfruits_tuple\u001b[0m\u001b[0;34m[\u001b[0m\u001b[0;36m1\u001b[0m\u001b[0;34m]\u001b[0m \u001b[0;34m=\u001b[0m \u001b[0;34m'blueberry'\u001b[0m  \u001b[0;31m# This will raise a TypeError\u001b[0m\u001b[0;34m\u001b[0m\u001b[0;34m\u001b[0m\u001b[0m\n\u001b[0m",
            "\u001b[0;31mTypeError\u001b[0m: 'tuple' object does not support item assignment"
          ]
        }
      ]
    },
    {
      "cell_type": "markdown",
      "source": [
        "**Syntax**\n",
        "List: Lists are defined using square brackets [].\n",
        "Tuple: Tuples are defined using parentheses ()."
      ],
      "metadata": {
        "id": "6lxDS_WJ-eUh"
      }
    },
    {
      "cell_type": "code",
      "source": [
        "fruits_list = ['apple', 'banana', 'cherry']\n",
        "fruits_tuple = ('apple', 'banana', 'cherry')\n"
      ],
      "metadata": {
        "id": "4Uie4feX9w5j"
      },
      "execution_count": null,
      "outputs": []
    },
    {
      "cell_type": "markdown",
      "source": [
        "**Packing and Unpacking**\n",
        "\n",
        "Both lists and tuples support packing and unpacking, but tuples are often used more frequently for this purpose due to their immutability."
      ],
      "metadata": {
        "id": "VWkbkHoE-k2l"
      }
    },
    {
      "cell_type": "code",
      "source": [
        "# Packing and Unpacking with Lists\n",
        "a, b, c = ['apple', 'banana', 'cherry']\n",
        "print(a, b, c)\n",
        "\n",
        "# Packing and Unpacking with Tuples\n",
        "x, y, z = ('apple', 'banana', 'cherry')\n",
        "print(x, y, z)\n"
      ],
      "metadata": {
        "colab": {
          "base_uri": "https://localhost:8080/"
        },
        "id": "uh8QWoAZQuuz",
        "outputId": "38577222-e4d1-40ea-e11b-1b3e4d032b1d"
      },
      "execution_count": null,
      "outputs": [
        {
          "output_type": "stream",
          "name": "stdout",
          "text": [
            "apple banana cherry\n",
            "apple banana cherry\n"
          ]
        }
      ]
    },
    {
      "cell_type": "markdown",
      "source": [
        "List: Mutable, defined with [], more methods, slightly slower, used for collections that need modification.\n",
        "\n",
        "Tuple: Immutable, defined with (), fewer methods, faster, used for fixed data and ensuring data integrity."
      ],
      "metadata": {
        "id": "7CdHDt-3Q1d4"
      }
    },
    {
      "cell_type": "markdown",
      "source": [
        "5. A set is an unordered collection of unique elements. Here are the key features of a set, along with examples of their uses:\n",
        "\n",
        "\n",
        "  1.   Unordered Collection\n",
        "\n",
        "      A set does not maintain the order of elements. The elements are stored in an unpredictable order.\n",
        "  ```\n",
        "        my_set = {3, 1, 2}\n",
        "        print(my_set)  \n",
        "  ```\n",
        "  2. Unique Elements\n",
        "  Sets automatically remove duplicate elements. If you try to add a duplicate, it will not be included in the set.\n",
        "  ```\n",
        "      my_set = {1, 2, 2, 3}\n",
        "      print(my_set)  # Output: {1, 2, 3}\n",
        "\n",
        "  ```\n",
        "  3. Mutable\n",
        "  Sets are mutable, meaning you can add or remove elements after the set has been created.\n",
        "    ```\n",
        "      my_set = {1, 2, 3}\n",
        "      my_set.add(4)  \n",
        "      print(my_set)  # Output: {1, 2, 3, 4}\n",
        "    ```\n",
        "  4. No Indexing\n",
        "  Since sets are unordered, you cannot access elements via indexing.\n",
        "  ```\n",
        "  my_set = {1, 2, 3}\n",
        "# print(my_set[0])  # This will raise a TypeError\n",
        "```\n",
        "\n",
        "\n",
        "\n",
        "\n",
        "\n",
        "\n"
      ],
      "metadata": {
        "id": "q7LvWnjjeMkY"
      }
    },
    {
      "cell_type": "markdown",
      "source": [
        "6.  Tuples and sets in Python serve distinct purposes and are used in different contexts based on their characteristics.\n",
        "\n",
        "  *Tuple Use Cases*\n",
        "  Immutable Grouping of Data\n",
        "\n",
        "  Tuples are immutable, meaning their contents cannot be changed after creation. They are ideal for grouping related data that shouldn’t change.\n",
        "\n",
        "  *Returning Multiple Values from a Function*\n",
        "  Functions can return multiple values packed in a tuple.\n",
        "\n",
        "  Using Tuples as Keys in Dictionaries\n",
        "\n",
        "  Since tuples are hashable and immutable, they can be used as keys in dictionaries.\n",
        "  ```\n",
        "  locations = {(40.7128, 74.0060): \"New York\", (34.0522, 118.2437): \"Los Angeles\"}\n",
        "```\n",
        "\n",
        "Tuple: Use when you need an ordered, immutable collection of elements, especially when the collection represents a single, composite piece of data.\n",
        "\n",
        "Set: Use when you need an unordered collection of unique elements, particularly when performing operations like deduplication, membership testing, or set-based operations.\n",
        "\n",
        "Both tuples and sets are powerful tools in Python, each suited to different types of data manipulation tasks. Understanding their characteristics helps in selecting the right one for a specific use case."
      ],
      "metadata": {
        "id": "k-ip63HC9kPB"
      }
    },
    {
      "cell_type": "markdown",
      "source": [
        "7. A dictionary in Python is a collection of key-value pairs where each key is unique. Dictionaries are mutable, meaning you can add, delete, and modify items within them. Here’s how you can perform these operations:\n",
        "\n",
        "\n",
        "\n",
        "*   Adding Items to a Dictionary:\n",
        "    \n",
        "    You can add a new key-value pair to a dictionary by assigning a value to a new key.\n",
        "*   Modifying Items in a Dictionary\n",
        "    \n",
        "    You can modify the value associated with an existing key by reassigning the key to a new value.\n",
        "\n",
        "\n",
        "\n",
        "*   Deleting Items from a Dictionary\n",
        "You can delete an item from a dictionary using the del statement or the pop() method.\n",
        "\n",
        "    *Using del:\n",
        "\n",
        "      The del statement removes the key-value pair from the dictionary.\n",
        "*  Using pop():\n",
        "\n",
        "  The pop() method removes the key-value pair associated with the specified key and returns the value.\n",
        "\n",
        "* Adding: Assign a value to a new key (my_dict['new_key'] = value).\n",
        "* Modifying: Reassign a new value to an existing key (my_dict['existing_key'] = new_value).\n",
        "* Deleting: Use del my_dict['key'] or my_dict.pop('key').\n",
        "* Clearing: Use my_dict.clear() to remove all items.\n",
        "* Updating Multiple Items: Use my_dict.update({'key1': value1, 'key2': value2}).\n",
        "\n",
        "\n"
      ],
      "metadata": {
        "id": "lhqOsVSiEiyb"
      }
    },
    {
      "cell_type": "markdown",
      "source": [
        "8. Importance of Dictionary Keys Being Immutable\n",
        "\n",
        "* Hashability\n",
        "\n",
        "  Dictionary keys must be hashable. Python uses a hashing algorithm to map keys to their corresponding values in a dictionary. This process requires that the key's hash value remains constant throughout its lifetime.\n",
        "\n",
        "* Consistency and Integrity\n",
        "\n",
        "  If dictionary keys were mutable, the key’s hash could change if the object itself were modified. This would make it impossible to reliably locate the key’s corresponding value, leading to data corruption or inability to retrieve values correctly.\n",
        "\n",
        "* Efficient Lookups\n",
        "\n",
        "  Python dictionaries rely on hash tables for fast lookups, additions, and deletions. The immutability of keys ensures that the hash table remains consistent, allowing O(1) time complexity for these operations. Mutable keys would disrupt the hash table's structure, significantly slowing down performance.\n"
      ],
      "metadata": {
        "id": "jNn3lgTXMpN7"
      }
    },
    {
      "cell_type": "code",
      "source": [
        "# Using an integer (immutable) as a key\n",
        "my_dict = {1: 'apple', 2: 'banana'}\n",
        "\n",
        "# Using a string (immutable) as a key\n",
        "my_dict = {'name': 'Alice', 'age': 30}\n",
        "\n",
        "# Using a tuple (immutable if elements are immutable) as a key\n",
        "coordinates = (10, 20)\n",
        "location_dict = {coordinates: 'Park'}\n",
        "\n",
        "print(location_dict[coordinates])\n"
      ],
      "metadata": {
        "colab": {
          "base_uri": "https://localhost:8080/"
        },
        "id": "VskXEv2V9jrg",
        "outputId": "ed48ce6f-b58a-4310-9010-3fb5483906ba"
      },
      "execution_count": 1,
      "outputs": [
        {
          "output_type": "stream",
          "name": "stdout",
          "text": [
            "Park\n"
          ]
        }
      ]
    },
    {
      "cell_type": "code",
      "source": [],
      "metadata": {
        "id": "aPwy0owyQC8z"
      },
      "execution_count": null,
      "outputs": []
    }
  ]
}