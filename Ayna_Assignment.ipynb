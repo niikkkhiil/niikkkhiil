{
  "nbformat": 4,
  "nbformat_minor": 0,
  "metadata": {
    "colab": {
      "provenance": [],
      "authorship_tag": "ABX9TyPB7+bktdb9P7CKkDb5yLDd",
      "include_colab_link": true
    },
    "kernelspec": {
      "name": "python3",
      "display_name": "Python 3"
    },
    "language_info": {
      "name": "python"
    }
  },
  "cells": [
    {
      "cell_type": "markdown",
      "metadata": {
        "id": "view-in-github",
        "colab_type": "text"
      },
      "source": [
        "<a href=\"https://colab.research.google.com/github/niikkkhiil/niikkkhiil/blob/main/Ayna_Assignment.ipynb\" target=\"_parent\"><img src=\"https://colab.research.google.com/assets/colab-badge.svg\" alt=\"Open In Colab\"/></a>"
      ]
    },
    {
      "cell_type": "code",
      "execution_count": 1,
      "metadata": {
        "colab": {
          "base_uri": "https://localhost:8080/",
          "height": 210
        },
        "id": "S_AkokVWeHVh",
        "outputId": "3aa6e56a-faf1-431c-8957-49ede326a5f3"
      },
      "outputs": [
        {
          "output_type": "display_data",
          "data": {
            "text/plain": [
              "<IPython.core.display.Javascript object>"
            ],
            "application/javascript": [
              "\n",
              "        window._wandbApiKey = new Promise((resolve, reject) => {\n",
              "            function loadScript(url) {\n",
              "            return new Promise(function(resolve, reject) {\n",
              "                let newScript = document.createElement(\"script\");\n",
              "                newScript.onerror = reject;\n",
              "                newScript.onload = resolve;\n",
              "                document.body.appendChild(newScript);\n",
              "                newScript.src = url;\n",
              "            });\n",
              "            }\n",
              "            loadScript(\"https://cdn.jsdelivr.net/npm/postmate/build/postmate.min.js\").then(() => {\n",
              "            const iframe = document.createElement('iframe')\n",
              "            iframe.style.cssText = \"width:0;height:0;border:none\"\n",
              "            document.body.appendChild(iframe)\n",
              "            const handshake = new Postmate({\n",
              "                container: iframe,\n",
              "                url: 'https://wandb.ai/authorize'\n",
              "            });\n",
              "            const timeout = setTimeout(() => reject(\"Couldn't auto authenticate\"), 5000)\n",
              "            handshake.then(function(child) {\n",
              "                child.on('authorize', data => {\n",
              "                    clearTimeout(timeout)\n",
              "                    resolve(data)\n",
              "                });\n",
              "            });\n",
              "            })\n",
              "        });\n",
              "    "
            ]
          },
          "metadata": {}
        },
        {
          "output_type": "stream",
          "name": "stderr",
          "text": [
            "\u001b[34m\u001b[1mwandb\u001b[0m: Logging into wandb.ai. (Learn how to deploy a W&B server locally: https://wandb.me/wandb-server)\n",
            "\u001b[34m\u001b[1mwandb\u001b[0m: You can find your API key in your browser here: https://wandb.ai/authorize\n",
            "wandb: Paste an API key from your profile and hit enter:"
          ]
        },
        {
          "name": "stdout",
          "output_type": "stream",
          "text": [
            " ··········\n"
          ]
        },
        {
          "output_type": "stream",
          "name": "stderr",
          "text": [
            "\u001b[34m\u001b[1mwandb\u001b[0m: \u001b[33mWARNING\u001b[0m If you're specifying your api key in code, ensure this code is not shared publicly.\n",
            "\u001b[34m\u001b[1mwandb\u001b[0m: \u001b[33mWARNING\u001b[0m Consider setting the WANDB_API_KEY environment variable, or running `wandb login` from the command line.\n",
            "\u001b[34m\u001b[1mwandb\u001b[0m: No netrc file found, creating one.\n",
            "\u001b[34m\u001b[1mwandb\u001b[0m: Appending key for api.wandb.ai to your netrc file: /root/.netrc\n",
            "\u001b[34m\u001b[1mwandb\u001b[0m: Currently logged in as: \u001b[33mjigneshdoha\u001b[0m (\u001b[33mjigneshdoha-not-applicable\u001b[0m) to \u001b[32mhttps://api.wandb.ai\u001b[0m. Use \u001b[1m`wandb login --relogin`\u001b[0m to force relogin\n"
          ]
        },
        {
          "output_type": "execute_result",
          "data": {
            "text/plain": [
              "True"
            ]
          },
          "metadata": {},
          "execution_count": 1
        }
      ],
      "source": [
        "\n",
        "!pip install -q wandb\n",
        "\n",
        "# Import essential libraries\n",
        "import os\n",
        "import json\n",
        "import numpy as np\n",
        "import matplotlib.pyplot as plt\n",
        "from PIL import Image\n",
        "from tqdm import tqdm\n",
        "from sklearn.model_selection import train_test_split\n",
        "\n",
        "import torch\n",
        "import torch.nn as nn\n",
        "from torch.utils.data import Dataset, DataLoader\n",
        "from torchvision import transforms\n",
        "\n",
        "import wandb\n",
        "wandb.login()  # You’ll be prompted to enter your API key\n"
      ]
    },
    {
      "cell_type": "code",
      "source": [
        "# Download and extract dataset from Google Drive\n",
        "!gdown \"https://drive.google.com/uc?id=1QXLgo3ZfQPorGwhYVmZUEWO_sU3i1pHM\" -O dataset.zip\n",
        "\n"
      ],
      "metadata": {
        "colab": {
          "base_uri": "https://localhost:8080/"
        },
        "id": "OdIc5itFeQFZ",
        "outputId": "edc8f138-d00a-4a09-cd61-766010738073"
      },
      "execution_count": 3,
      "outputs": [
        {
          "output_type": "stream",
          "name": "stdout",
          "text": [
            "Downloading...\n",
            "From: https://drive.google.com/uc?id=1QXLgo3ZfQPorGwhYVmZUEWO_sU3i1pHM\n",
            "To: /content/dataset.zip\n",
            "\r  0% 0.00/57.8k [00:00<?, ?B/s]\r100% 57.8k/57.8k [00:00<00:00, 77.3MB/s]\n",
            "replace dataset/dataset/.DS_Store? [y]es, [n]o, [A]ll, [N]one, [r]ename: y\n",
            "replace dataset/__MACOSX/dataset/._.DS_Store? [y]es, [n]o, [A]ll, [N]one, [r]ename: a\n",
            "error:  invalid response [a]\n",
            "replace dataset/__MACOSX/dataset/._.DS_Store? [y]es, [n]o, [A]ll, [N]one, [r]ename: ya\n",
            "replace dataset/dataset/training/data.json? [y]es, [n]o, [A]ll, [N]one, [r]ename: A\n"
          ]
        }
      ]
    },
    {
      "cell_type": "code",
      "source": [
        "!unzip -q dataset.zip -d dataset"
      ],
      "metadata": {
        "colab": {
          "base_uri": "https://localhost:8080/"
        },
        "id": "b9Z8FPydgZ1P",
        "outputId": "540bbf18-0fb2-4c65-badb-b4755a0f0021"
      },
      "execution_count": 4,
      "outputs": [
        {
          "output_type": "stream",
          "name": "stdout",
          "text": [
            "replace dataset/dataset/.DS_Store? [y]es, [n]o, [A]ll, [N]one, [r]ename: A\n"
          ]
        }
      ]
    },
    {
      "cell_type": "code",
      "source": [
        "# Color map (basic 10 color names → RGB)\n",
        "COLOR_MAP = {\n",
        "    \"red\": (255, 0, 0),\n",
        "    \"green\": (0, 255, 0),\n",
        "    \"blue\": (0, 0, 255),\n",
        "    \"yellow\": (255, 255, 0),\n",
        "    \"purple\": (128, 0, 128),\n",
        "    \"orange\": (255, 165, 0),\n",
        "    \"pink\": (255, 192, 203),\n",
        "    \"black\": (0, 0, 0),\n",
        "    \"white\": (255, 255, 255),\n",
        "    \"cyan\": (0, 255, 255),\n",
        "    \"magenta\": (255, 0, 255) # Added magenta\n",
        "}"
      ],
      "metadata": {
        "id": "LEewEn7EgzU7"
      },
      "execution_count": 26,
      "outputs": []
    },
    {
      "cell_type": "code",
      "source": [
        "class PolygonColorDataset(Dataset):\n",
        "    def __init__(self, data_json, input_dir, output_dir, transform=None):\n",
        "        with open(data_json, 'r') as f:\n",
        "            self.data = json.load(f)\n",
        "        self.input_dir = input_dir\n",
        "        self.output_dir = output_dir\n",
        "        self.transform = transform\n",
        "\n",
        "    def __len__(self):\n",
        "        return len(self.data)\n",
        "\n",
        "    def __getitem__(self, idx):\n",
        "        item = self.data[idx]\n",
        "\n",
        "        input_path = os.path.join(self.input_dir, item['input'])\n",
        "        output_path = os.path.join(self.output_dir, item['output'])\n",
        "\n",
        "        input_image = Image.open(input_path).convert('L')  # Grayscale\n",
        "        output_image = Image.open(output_path).convert('RGB')  # Colored\n",
        "\n",
        "        # Get color condition\n",
        "        color_rgb = torch.tensor(COLOR_MAP[item['color']], dtype=torch.float32) / 255.0\n",
        "        color_tensor = color_rgb.view(3, 1, 1).expand(3, 64, 64)  # Broadcast to match input size\n",
        "\n",
        "        if self.transform:\n",
        "            input_image = self.transform(input_image)\n",
        "            output_image = self.transform(output_image)\n",
        "\n",
        "        # Concatenate grayscale image (1x64x64) with color tensor (3x64x64)\n",
        "        input_tensor = torch.cat([input_image, color_tensor], dim=0)  # 4x64x64\n",
        "\n",
        "        return input_tensor, output_image\n"
      ],
      "metadata": {
        "id": "7GNVP5Tlg5j5"
      },
      "execution_count": 17,
      "outputs": []
    },
    {
      "cell_type": "code",
      "source": [
        "transform = transforms.Compose([\n",
        "    transforms.Resize((64, 64)),\n",
        "    transforms.ToTensor()\n",
        "])\n",
        "\n",
        "train_dataset = PolygonColorDataset(\n",
        "    data_json='dataset/dataset/training/data.json',\n",
        "    input_dir='dataset/dataset/training/inputs',\n",
        "    output_dir='dataset/dataset/training/outputs',\n",
        "    transform=transform\n",
        ")\n",
        "\n",
        "val_dataset = PolygonColorDataset(\n",
        "    data_json='dataset/dataset/validation/data.json',\n",
        "    input_dir='dataset/dataset/validation/inputs',\n",
        "    output_dir='dataset/dataset/validation/outputs',\n",
        "    transform=transform\n",
        ")\n",
        "\n",
        "train_loader = DataLoader(train_dataset, batch_size=32, shuffle=True)\n",
        "val_loader = DataLoader(val_dataset, batch_size=32)\n"
      ],
      "metadata": {
        "id": "sJ4ME-DlhEr8"
      },
      "execution_count": 18,
      "outputs": []
    },
    {
      "cell_type": "code",
      "source": [
        "# UNet Block: Convolution -> BatchNorm -> ReLU (twice)\n",
        "class ConvBlock(nn.Module):\n",
        "    def __init__(self, in_channels, out_channels):\n",
        "        super().__init__()\n",
        "        self.double_conv = nn.Sequential(\n",
        "            nn.Conv2d(in_channels, out_channels, 3, padding=1),\n",
        "            nn.BatchNorm2d(out_channels),\n",
        "            nn.ReLU(inplace=True),\n",
        "            nn.Conv2d(out_channels, out_channels, 3, padding=1),\n",
        "            nn.BatchNorm2d(out_channels),\n",
        "            nn.ReLU(inplace=True)\n",
        "        )\n",
        "\n",
        "    def forward(self, x):\n",
        "        return self.double_conv(x)\n"
      ],
      "metadata": {
        "id": "TSj08eJ3hJUc"
      },
      "execution_count": 19,
      "outputs": []
    },
    {
      "cell_type": "code",
      "source": [
        "# Full UNet Model\n",
        "class UNet(nn.Module):\n",
        "    def __init__(self, in_channels=4, out_channels=3):\n",
        "        super().__init__()\n",
        "\n",
        "        self.enc1 = ConvBlock(in_channels, 64)\n",
        "        self.enc2 = ConvBlock(64, 128)\n",
        "        self.enc3 = ConvBlock(128, 256)\n",
        "\n",
        "        self.pool = nn.MaxPool2d(2)\n",
        "\n",
        "        self.bottleneck = ConvBlock(256, 512)\n",
        "\n",
        "        self.up3 = nn.ConvTranspose2d(512, 256, 2, stride=2)\n",
        "        self.dec3 = ConvBlock(512, 256)\n",
        "\n",
        "        self.up2 = nn.ConvTranspose2d(256, 128, 2, stride=2)\n",
        "        self.dec2 = ConvBlock(256, 128)\n",
        "\n",
        "        self.up1 = nn.ConvTranspose2d(128, 64, 2, stride=2)\n",
        "        self.dec1 = ConvBlock(128, 64)\n",
        "\n",
        "        self.final = nn.Conv2d(64, out_channels, kernel_size=1)\n",
        "\n",
        "    def forward(self, x):\n",
        "        # Encoder\n",
        "        e1 = self.enc1(x)\n",
        "        e2 = self.enc2(self.pool(e1))\n",
        "        e3 = self.enc3(self.pool(e2))\n",
        "\n",
        "        # Bottleneck\n",
        "        b = self.bottleneck(self.pool(e3))\n",
        "\n",
        "        # Decoder\n",
        "        d3 = self.up3(b)\n",
        "        d3 = self.dec3(torch.cat([d3, e3], dim=1))\n",
        "\n",
        "        d2 = self.up2(d3)\n",
        "        d2 = self.dec2(torch.cat([d2, e2], dim=1))\n",
        "\n",
        "        d1 = self.up1(d2)\n",
        "        d1 = self.dec1(torch.cat([d1, e1], dim=1))\n",
        "\n",
        "        return torch.sigmoid(self.final(d1))  # RGB output in [0,1] range\n"
      ],
      "metadata": {
        "id": "ep-pvrX3iXhg"
      },
      "execution_count": 20,
      "outputs": []
    },
    {
      "cell_type": "code",
      "source": [
        "# Test model output shape\n",
        "model = UNet().to(\"cuda\" if torch.cuda.is_available() else \"cpu\")\n",
        "dummy_input = torch.randn(1, 4, 64, 64).to(\"cuda\" if torch.cuda.is_available() else \"cpu\")\n",
        "output = model(dummy_input)\n",
        "print(\"Output shape:\", output.shape)  # Expected: [1, 3, 64, 64]\n"
      ],
      "metadata": {
        "colab": {
          "base_uri": "https://localhost:8080/"
        },
        "id": "Mc0P9118iaYd",
        "outputId": "3d7e76dc-ec45-40e8-f196-f3fd90d1d48f"
      },
      "execution_count": 21,
      "outputs": [
        {
          "output_type": "stream",
          "name": "stdout",
          "text": [
            "Output shape: torch.Size([1, 3, 64, 64])\n"
          ]
        }
      ]
    },
    {
      "cell_type": "code",
      "source": [
        "wandb.init(\n",
        "    project=\"ayna-color-filler\",\n",
        "    config={\n",
        "        \"epochs\": 10,\n",
        "        \"batch_size\": 32,\n",
        "        \"learning_rate\": 1e-3,\n",
        "        \"loss\": \"L1Loss\",\n",
        "        \"optimizer\": \"Adam\"\n",
        "    }\n",
        ")\n"
      ],
      "metadata": {
        "colab": {
          "base_uri": "https://localhost:8080/",
          "height": 208
        },
        "id": "lsEctT2Kid--",
        "outputId": "d80f3b84-68fa-427a-ade0-8b3149d32644"
      },
      "execution_count": 22,
      "outputs": [
        {
          "output_type": "display_data",
          "data": {
            "text/plain": [
              "<IPython.core.display.HTML object>"
            ],
            "text/html": [
              "Finishing previous runs because reinit is set to 'default'."
            ]
          },
          "metadata": {}
        },
        {
          "output_type": "display_data",
          "data": {
            "text/plain": [
              "<IPython.core.display.HTML object>"
            ],
            "text/html": []
          },
          "metadata": {}
        },
        {
          "output_type": "display_data",
          "data": {
            "text/plain": [
              "<IPython.core.display.HTML object>"
            ],
            "text/html": [
              " View run <strong style=\"color:#cdcd00\">splendid-elevator-1</strong> at: <a href='https://wandb.ai/jigneshdoha-not-applicable/ayna-color-filler/runs/3lw5e2ws' target=\"_blank\">https://wandb.ai/jigneshdoha-not-applicable/ayna-color-filler/runs/3lw5e2ws</a><br> View project at: <a href='https://wandb.ai/jigneshdoha-not-applicable/ayna-color-filler' target=\"_blank\">https://wandb.ai/jigneshdoha-not-applicable/ayna-color-filler</a><br>Synced 5 W&B file(s), 0 media file(s), 0 artifact file(s) and 0 other file(s)"
            ]
          },
          "metadata": {}
        },
        {
          "output_type": "display_data",
          "data": {
            "text/plain": [
              "<IPython.core.display.HTML object>"
            ],
            "text/html": [
              "Find logs at: <code>./wandb/run-20250805_092531-3lw5e2ws/logs</code>"
            ]
          },
          "metadata": {}
        },
        {
          "output_type": "display_data",
          "data": {
            "text/plain": [
              "<IPython.core.display.HTML object>"
            ],
            "text/html": [
              "Tracking run with wandb version 0.21.0"
            ]
          },
          "metadata": {}
        },
        {
          "output_type": "display_data",
          "data": {
            "text/plain": [
              "<IPython.core.display.HTML object>"
            ],
            "text/html": [
              "Run data is saved locally in <code>/content/wandb/run-20250805_092858-bp94ce1e</code>"
            ]
          },
          "metadata": {}
        },
        {
          "output_type": "display_data",
          "data": {
            "text/plain": [
              "<IPython.core.display.HTML object>"
            ],
            "text/html": [
              "Syncing run <strong><a href='https://wandb.ai/jigneshdoha-not-applicable/ayna-color-filler/runs/bp94ce1e' target=\"_blank\">rose-gorge-2</a></strong> to <a href='https://wandb.ai/jigneshdoha-not-applicable/ayna-color-filler' target=\"_blank\">Weights & Biases</a> (<a href='https://wandb.me/developer-guide' target=\"_blank\">docs</a>)<br>"
            ]
          },
          "metadata": {}
        },
        {
          "output_type": "display_data",
          "data": {
            "text/plain": [
              "<IPython.core.display.HTML object>"
            ],
            "text/html": [
              " View project at <a href='https://wandb.ai/jigneshdoha-not-applicable/ayna-color-filler' target=\"_blank\">https://wandb.ai/jigneshdoha-not-applicable/ayna-color-filler</a>"
            ]
          },
          "metadata": {}
        },
        {
          "output_type": "display_data",
          "data": {
            "text/plain": [
              "<IPython.core.display.HTML object>"
            ],
            "text/html": [
              " View run at <a href='https://wandb.ai/jigneshdoha-not-applicable/ayna-color-filler/runs/bp94ce1e' target=\"_blank\">https://wandb.ai/jigneshdoha-not-applicable/ayna-color-filler/runs/bp94ce1e</a>"
            ]
          },
          "metadata": {}
        },
        {
          "output_type": "execute_result",
          "data": {
            "text/html": [
              "<button onClick=\"this.nextSibling.style.display='block';this.style.display='none';\">Display W&B run</button><iframe src='https://wandb.ai/jigneshdoha-not-applicable/ayna-color-filler/runs/bp94ce1e?jupyter=true' style='border:none;width:100%;height:420px;display:none;'></iframe>"
            ],
            "text/plain": [
              "<wandb.sdk.wandb_run.Run at 0x7fbf912f2a10>"
            ]
          },
          "metadata": {},
          "execution_count": 22
        }
      ]
    },
    {
      "cell_type": "code",
      "source": [
        "def train(model, train_loader, val_loader, device, epochs=10):\n",
        "    criterion = nn.L1Loss()\n",
        "    optimizer = torch.optim.Adam(model.parameters(), lr=1e-3)\n",
        "\n",
        "    for epoch in range(epochs):\n",
        "        model.train()\n",
        "        train_loss = 0.0\n",
        "\n",
        "        for batch in tqdm(train_loader, desc=f\"Epoch {epoch+1}/{epochs}\"):\n",
        "            inputs, targets = batch\n",
        "            inputs, targets = inputs.to(device), targets.to(device)\n",
        "\n",
        "            optimizer.zero_grad()\n",
        "            outputs = model(inputs)\n",
        "            loss = criterion(outputs, targets)\n",
        "            loss.backward()\n",
        "            optimizer.step()\n",
        "\n",
        "            train_loss += loss.item() * inputs.size(0)\n",
        "\n",
        "        avg_train_loss = train_loss / len(train_loader.dataset)\n",
        "        wandb.log({\"Train Loss\": avg_train_loss, \"epoch\": epoch + 1})\n",
        "\n",
        "        # Validation\n",
        "        model.eval()\n",
        "        val_loss = 0.0\n",
        "        example_images = []\n",
        "\n",
        "        with torch.no_grad():\n",
        "            for inputs, targets in val_loader:\n",
        "                inputs, targets = inputs.to(device), targets.to(device)\n",
        "                outputs = model(inputs)\n",
        "                loss = criterion(outputs, targets)\n",
        "                val_loss += loss.item() * inputs.size(0)\n",
        "\n",
        "                # Log first 2 sample predictions per epoch\n",
        "                for i in range(min(2, inputs.size(0))):\n",
        "                    inp_gray = inputs[i, 0].cpu().numpy()\n",
        "                    pred_img = outputs[i].cpu().permute(1, 2, 0).numpy()\n",
        "                    true_img = targets[i].cpu().permute(1, 2, 0).numpy()\n",
        "\n",
        "                    fig, ax = plt.subplots(1, 3, figsize=(9, 3))\n",
        "                    ax[0].imshow(inp_gray, cmap='gray')\n",
        "                    ax[0].set_title(\"Input Polygon\")\n",
        "                    ax[1].imshow(pred_img)\n",
        "                    ax[1].set_title(\"Prediction\")\n",
        "                    ax[2].imshow(true_img)\n",
        "                    ax[2].set_title(\"Ground Truth\")\n",
        "                    for a in ax:\n",
        "                        a.axis('off')\n",
        "                    wandb.log({f\"Sample {i}\": wandb.Image(fig)})\n",
        "                    plt.close(fig)\n",
        "\n",
        "        avg_val_loss = val_loss / len(val_loader.dataset)\n",
        "        wandb.log({\"Val Loss\": avg_val_loss})\n"
      ],
      "metadata": {
        "id": "K1Ed2YSBjNf8"
      },
      "execution_count": 23,
      "outputs": []
    },
    {
      "cell_type": "code",
      "source": [
        "device = torch.device(\"cuda\" if torch.cuda.is_available() else \"cpu\")\n",
        "model = UNet().to(device)\n",
        "\n",
        "train(model, train_loader, val_loader, device, epochs=10)\n"
      ],
      "metadata": {
        "colab": {
          "base_uri": "https://localhost:8080/"
        },
        "id": "Nx3HrHQzjtPq",
        "outputId": "ba443c0b-8579-45c7-8280-9eb7948254e7"
      },
      "execution_count": 27,
      "outputs": [
        {
          "output_type": "stream",
          "name": "stderr",
          "text": [
            "Epoch 1/10: 100%|██████████| 2/2 [00:16<00:00,  8.20s/it]\n",
            "Epoch 2/10: 100%|██████████| 2/2 [00:16<00:00,  8.33s/it]\n",
            "Epoch 3/10: 100%|██████████| 2/2 [00:17<00:00,  8.61s/it]\n",
            "Epoch 4/10: 100%|██████████| 2/2 [00:16<00:00,  8.02s/it]\n",
            "Epoch 5/10: 100%|██████████| 2/2 [00:15<00:00,  7.75s/it]\n",
            "Epoch 6/10: 100%|██████████| 2/2 [00:15<00:00,  7.86s/it]\n",
            "Epoch 7/10: 100%|██████████| 2/2 [00:15<00:00,  7.79s/it]\n",
            "Epoch 8/10: 100%|██████████| 2/2 [00:16<00:00,  8.40s/it]\n",
            "Epoch 9/10: 100%|██████████| 2/2 [00:15<00:00,  7.76s/it]\n",
            "Epoch 10/10: 100%|██████████| 2/2 [00:15<00:00,  7.85s/it]\n"
          ]
        }
      ]
    },
    {
      "cell_type": "code",
      "source": [],
      "metadata": {
        "id": "_7DOMQiWjwYb"
      },
      "execution_count": null,
      "outputs": []
    },
    {
      "cell_type": "code",
      "metadata": {
        "colab": {
          "base_uri": "https://localhost:8080/"
        },
        "id": "ef55ca97",
        "outputId": "99f4d183-ecdf-4b81-8e6d-49bc7303da0d"
      },
      "source": [
        "import json\n",
        "\n",
        "# Load and inspect the structure of the data.json file\n",
        "with open('dataset/dataset/training/data.json', 'r') as f:\n",
        "    sample_data = json.load(f)\n",
        "\n",
        "# Print the keys of the first item to understand the structure\n",
        "if sample_data:\n",
        "    print(\"Keys in the first item of data.json:\", sample_data[0].keys())\n",
        "else:\n",
        "    print(\"data.json is empty or could not be loaded.\")"
      ],
      "execution_count": 28,
      "outputs": [
        {
          "output_type": "stream",
          "name": "stdout",
          "text": [
            "Keys in the first item of data.json: dict_keys(['input_polygon', 'colour', 'output_image'])\n"
          ]
        }
      ]
    },
    {
      "cell_type": "code",
      "source": [
        "torch.save(model.state_dict(), \"unet_color_filler.pth\")\n"
      ],
      "metadata": {
        "id": "1zKwYkzVmFSo"
      },
      "execution_count": 29,
      "outputs": []
    },
    {
      "cell_type": "code",
      "source": [
        "def predict(model, polygon_img_path, color_name, transform, device):\n",
        "    model.eval()\n",
        "    img = Image.open(polygon_img_path).convert('L')\n",
        "    img_tensor = transform(img)\n",
        "\n",
        "    # Convert color name to tensor\n",
        "    color_rgb = torch.tensor(COLOR_MAP[color_name], dtype=torch.float32) / 255.0\n",
        "    color_tensor = color_rgb.view(3, 1, 1).expand(3, 64, 64)\n",
        "\n",
        "    # Stack grayscale + color\n",
        "    input_tensor = torch.cat([img_tensor, color_tensor], dim=0).unsqueeze(0).to(device)\n",
        "\n",
        "    with torch.no_grad():\n",
        "        output = model(input_tensor)[0].cpu()\n",
        "\n",
        "    return img_tensor[0], output\n"
      ],
      "metadata": {
        "id": "oPIyJi1fmO_H"
      },
      "execution_count": 30,
      "outputs": []
    },
    {
      "cell_type": "code",
      "source": [
        "# Load trained model\n",
        "model = UNet().to(device)\n",
        "model.load_state_dict(torch.load(\"unet_color_filler.pth\", map_location=device))\n",
        "\n",
        "# Try prediction\n",
        "gray, prediction = predict(\n",
        "    model=model,\n",
        "    polygon_img_path=\"dataset/dataset/validation/inputs/square.png\",  # Using 'square.png' as it exists\n",
        "    color_name=\"blue\",\n",
        "    transform=transform,\n",
        "    device=device\n",
        ")\n",
        "\n",
        "# Show results\n",
        "plt.figure(figsize=(8, 4))\n",
        "plt.subplot(1, 2, 1)\n",
        "plt.imshow(gray, cmap='gray')\n",
        "plt.title(\"Input Polygon\")\n",
        "plt.axis('off')\n",
        "\n",
        "plt.subplot(1, 2, 2)\n",
        "plt.imshow(prediction.permute(1, 2, 0).numpy())\n",
        "plt.title(\"Predicted Color Fill\")\n",
        "plt.axis('off')\n",
        "plt.show()"
      ],
      "metadata": {
        "colab": {
          "base_uri": "https://localhost:8080/",
          "height": 341
        },
        "id": "rFj9ilS2mpsn",
        "outputId": "e21054f9-8645-4e21-b468-85ecc0934fe3"
      },
      "execution_count": 34,
      "outputs": [
        {
          "output_type": "display_data",
          "data": {
            "text/plain": [
              "<Figure size 800x400 with 2 Axes>"
            ],
            "image/png": "[encoded data removed]"
          },
          "metadata": {}
        }
      ]
    },
    {
      "cell_type": "code",
      "source": [],
      "metadata": {
        "id": "3ieaw653msC3"
      },
      "execution_count": null,
      "outputs": []
    },
    {
      "cell_type": "code",
      "metadata": {
        "colab": {
          "base_uri": "https://localhost:8080/"
        },
        "id": "5c4df9cc",
        "outputId": "5c48a08d-5e2a-4d9e-c094-246ff36da6bd"
      },
      "source": [
        "import os\n",
        "\n",
        "# List files in the validation inputs directory\n",
        "validation_input_dir = 'dataset/dataset/validation/inputs'\n",
        "if os.path.exists(validation_input_dir):\n",
        "    print(f\"Files in {validation_input_dir}:\")\n",
        "    for filename in os.listdir(validation_input_dir):\n",
        "        print(filename)\n",
        "else:\n",
        "    print(f\"Directory not found: {validation_input_dir}\")"
      ],
      "execution_count": 35,
      "outputs": [
        {
          "output_type": "stream",
          "name": "stdout",
          "text": [
            "Files in dataset/dataset/validation/inputs:\n",
            "square.png\n",
            "octagon.png\n",
            "star.png\n",
            "triangle.png\n"
          ]
        }
      ]
    },
    {
      "cell_type": "code",
      "source": [],
      "metadata": {
        "id": "iIATGDrlnl9L"
      },
      "execution_count": null,
      "outputs": []
    }
  ]
}