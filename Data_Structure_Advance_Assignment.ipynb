{
  "nbformat": 4,
  "nbformat_minor": 0,
  "metadata": {
    "colab": {
      "provenance": [],
      "authorship_tag": "ABX9TyOBxFOrv0giYvME1RAgiosD",
      "include_colab_link": true
    },
    "kernelspec": {
      "name": "python3",
      "display_name": "Python 3"
    },
    "language_info": {
      "name": "python"
    }
  },
  "cells": [
    {
      "cell_type": "markdown",
      "metadata": {
        "id": "view-in-github",
        "colab_type": "text"
      },
      "source": [
        "<a href=\"https://colab.research.google.com/github/niikkkhiil/niikkkhiil/blob/main/Data_Structure_Advance_Assignment.ipynb\" target=\"_parent\"><img src=\"https://colab.research.google.com/assets/colab-badge.svg\" alt=\"Open In Colab\"/></a>"
      ]
    },
    {
      "cell_type": "code",
      "execution_count": null,
      "metadata": {
        "colab": {
          "base_uri": "https://localhost:8080/"
        },
        "id": "F_n_dTqwE0Am",
        "outputId": "6bc37eb1-cbe7-4d6b-9e17-8490c20a860b"
      },
      "outputs": [
        {
          "output_type": "stream",
          "name": "stdout",
          "text": [
            "Nikhil Ganorkar\n",
            "rakronaG lihkiN"
          ]
        }
      ],
      "source": [
        "# 1. Revese the String\n",
        "a = input(str())\n",
        "for i in range(len(a)-1,-1,-1):\n",
        "    print(a[i],end=\"\")"
      ]
    },
    {
      "cell_type": "code",
      "source": [
        "# 2. Number of vowel in string\n",
        "a = input(str())\n",
        "count = 0\n",
        "for i in a:\n",
        "    if i in \"aeiouAEIOU\":\n",
        "        count += 1\n",
        "print(count)"
      ],
      "metadata": {
        "colab": {
          "base_uri": "https://localhost:8080/"
        },
        "id": "xfyC6FTzHgu3",
        "outputId": "3da7d50f-457b-4cc6-b391-d6d9596ebfd2"
      },
      "execution_count": null,
      "outputs": [
        {
          "output_type": "stream",
          "name": "stdout",
          "text": [
            "Hello World\n",
            "3\n"
          ]
        }
      ]
    },
    {
      "cell_type": "code",
      "source": [
        "# 3. Check wether its Palindrome or not\n",
        "a = input(str())\n",
        "if a == a[::-1]:\n",
        "    print(\"True\")\n",
        "else:\n",
        "    print(\"False\")\n"
      ],
      "metadata": {
        "colab": {
          "base_uri": "https://localhost:8080/"
        },
        "id": "3qtd_IKkHw_P",
        "outputId": "ece2c3a5-e7ed-4199-bc46-3ff32331b259"
      },
      "execution_count": null,
      "outputs": [
        {
          "output_type": "stream",
          "name": "stdout",
          "text": [
            "Hello\n",
            "False\n"
          ]
        }
      ]
    },
    {
      "cell_type": "code",
      "source": [
        "# 4. Check wether two string are anagrams of each other\n",
        "a = input(str())\n",
        "b = input(str())\n",
        "if sorted(a) == sorted(b):\n",
        "    print(\"True\")\n",
        "else:\n",
        "    print(\"False\")"
      ],
      "metadata": {
        "colab": {
          "base_uri": "https://localhost:8080/"
        },
        "id": "NNQK19F9PNA9",
        "outputId": "702371ae-a1f8-4657-c1bc-80395efb5088"
      },
      "execution_count": null,
      "outputs": [
        {
          "output_type": "stream",
          "name": "stdout",
          "text": [
            "Hello PWSkills\n",
            "Hey Nikhil\n",
            "False\n"
          ]
        }
      ]
    },
    {
      "cell_type": "code",
      "source": [
        "# 5. Finding all occurrence of sub string given string\n",
        "a = input(str())\n",
        "b = input(str())\n",
        "count = 0\n",
        "for i in range(len(a)):\n",
        "    if a[i:i+len(b)] == b:\n",
        "        count += 1\n",
        "print(count)"
      ],
      "metadata": {
        "colab": {
          "base_uri": "https://localhost:8080/"
        },
        "id": "4TQ7tMXDQCgv",
        "outputId": "2f5ee96e-f8bc-4951-819a-6a402ed4d424"
      },
      "execution_count": null,
      "outputs": [
        {
          "output_type": "stream",
          "name": "stdout",
          "text": [
            "Hello, my name is Nikhil, I'm working on my assignment\n",
            "my name is Nikhil\n",
            "1\n"
          ]
        }
      ]
    },
    {
      "cell_type": "code",
      "source": [
        "# 6. String compression using counts of repeted character\n",
        "a = input(str())\n",
        "count = 1\n",
        "for i in range(len(a)-1):\n",
        "    if a[i] == a[i+1]:\n",
        "        count += 1\n",
        "    else:\n",
        "        print(a[i]+str(count),end=\"\")"
      ],
      "metadata": {
        "colab": {
          "base_uri": "https://localhost:8080/"
        },
        "id": "zmJBs1g6YC-F",
        "outputId": "8c350f3e-173a-43a6-d582-c91fb1c1061e"
      },
      "execution_count": null,
      "outputs": [
        {
          "output_type": "stream",
          "name": "stdout",
          "text": [
            "it looks like you're trying to find similar characters\n",
            "i1t1 1l1o2k2s2 2l2i2k2e2 2y2o2u2'2r2e2 2t2r2y2i2n2g2 2t2o2 2f2i2n2d2 2s2i2m2i2l2a2r2 2c2h2a2r2a2c2t2e2r2"
          ]
        }
      ]
    },
    {
      "cell_type": "code",
      "source": [
        "#7. Code to determine if string has unique characters\n",
        "\n",
        "a = input(str())\n",
        "if len(a) == len(set(a)):\n",
        "    print(\"True\")\n",
        "else:\n",
        "    print(\"False\")"
      ],
      "metadata": {
        "colab": {
          "base_uri": "https://localhost:8080/"
        },
        "id": "CFg0J3hdLKVy",
        "outputId": "3aabdf86-9584-425b-851e-459b3166593d"
      },
      "execution_count": null,
      "outputs": [
        {
          "output_type": "stream",
          "name": "stdout",
          "text": [
            "yo\n",
            "True\n"
          ]
        }
      ]
    },
    {
      "cell_type": "code",
      "source": [
        "# 8. Converting string to uppercase or lowercase\n",
        "a = input(str())\n",
        "print(a.upper())\n",
        "print(a.lower())"
      ],
      "metadata": {
        "colab": {
          "base_uri": "https://localhost:8080/"
        },
        "id": "AA1cQ50gUEVQ",
        "outputId": "0b7d9a94-658b-479d-f91e-9c704773c072"
      },
      "execution_count": null,
      "outputs": [
        {
          "output_type": "stream",
          "name": "stdout",
          "text": [
            "Ganpati Bappa Morya\n",
            "GANPATI BAPPA MORYA\n",
            "ganpati bappa morya\n"
          ]
        }
      ]
    },
    {
      "cell_type": "code",
      "source": [
        "# 9. Code to count words in string\n",
        "a = input(str())\n",
        "count = 1\n",
        "for i in a:\n",
        "    if i == \" \":\n",
        "        count += 1\n",
        "print(count)"
      ],
      "metadata": {
        "colab": {
          "base_uri": "https://localhost:8080/"
        },
        "id": "EcbjQujoVC7W",
        "outputId": "e2668026-b186-4ac8-d821-ddf0ed1744ff"
      },
      "execution_count": null,
      "outputs": [
        {
          "output_type": "stream",
          "name": "stdout",
          "text": [
            "my name is nikhil\n",
            "4\n"
          ]
        }
      ]
    },
    {
      "cell_type": "code",
      "source": [
        "# 10. Code to concatenate two string without + operators\n",
        "a = input(str())\n",
        "b = input(str())\n",
        "for i in b:\n",
        "    a += i\n",
        "print(a)\n"
      ],
      "metadata": {
        "colab": {
          "base_uri": "https://localhost:8080/"
        },
        "id": "xB3j4gMMXb5T",
        "outputId": "09596a3f-589d-469e-8580-ed4c41054255"
      },
      "execution_count": null,
      "outputs": [
        {
          "output_type": "stream",
          "name": "stdout",
          "text": [
            "Hi Nikhil\n",
            "whats going on?\n",
            "Hi Nikhilwhats going on?\n"
          ]
        }
      ]
    },
    {
      "cell_type": "code",
      "source": [
        "# 11. Code to remove all specific occurrences of specific elements from the list\n",
        "a = input(str())\n",
        "b = input(str())\n",
        "for i in a:\n",
        "    if i != b:\n",
        "        print(i,end=\"\")"
      ],
      "metadata": {
        "colab": {
          "base_uri": "https://localhost:8080/"
        },
        "id": "ivmzwMBmhLOs",
        "outputId": "9fab33a3-59ac-4c65-90f2-516ab24af7e4"
      },
      "execution_count": null,
      "outputs": [
        {
          "output_type": "stream",
          "name": "stdout",
          "text": [
            "Hello Nikhil\n",
            "Have you completed ur assignment\n",
            "Hello Nikhil"
          ]
        }
      ]
    },
    {
      "cell_type": "code",
      "source": [
        "#12. Code to find second largest intiger from list\n",
        "a = input(str())\n",
        "a = list(map(int, a.split()))\n",
        "a.sort()\n",
        "print(a[-2])"
      ],
      "metadata": {
        "colab": {
          "base_uri": "https://localhost:8080/"
        },
        "id": "tTP9gmSQjtv1",
        "outputId": "6766c7c2-327d-4746-ddf5-81dfdf43ae1e"
      },
      "execution_count": null,
      "outputs": [
        {
          "output_type": "stream",
          "name": "stdout",
          "text": [
            "3 5 39 63 59 \n",
            "59\n"
          ]
        }
      ]
    },
    {
      "cell_type": "code",
      "source": [
        "# 13. Code to count the occurrence of each element in a list & return as a dictionary with element as key and count as value\n",
        "a = input(str())\n",
        "a = list(map(int, a.split()))\n",
        "d = {}\n",
        "for i in a:\n",
        "  if i in d:\n",
        "    d[i] += 1\n",
        "  else:\n",
        "    d[i] = 1\n",
        "print(d)\n",
        "\n"
      ],
      "metadata": {
        "colab": {
          "base_uri": "https://localhost:8080/"
        },
        "id": "-Yvb1XEtmWWK",
        "outputId": "0736921a-2501-4bcd-99b5-1f70b06a46bc"
      },
      "execution_count": null,
      "outputs": [
        {
          "output_type": "stream",
          "name": "stdout",
          "text": [
            "3 3 60 9 6 9 60 3 9 9 6\n",
            "{3: 3, 60: 2, 9: 4, 6: 2}\n"
          ]
        }
      ]
    },
    {
      "cell_type": "code",
      "source": [
        "#14. reverse a list without using build in reverse function\n",
        "a = input(str())\n",
        "a = list(map(int, a.split()))\n",
        "for i in range(len(a)-1,-1,-1):\n",
        "    print(a[i],end=\" \")\n"
      ],
      "metadata": {
        "colab": {
          "base_uri": "https://localhost:8080/"
        },
        "id": "60u0acjscR0a",
        "outputId": "898671dd-4203-49ca-ae71-965e3531fda3"
      },
      "execution_count": null,
      "outputs": [
        {
          "output_type": "stream",
          "name": "stdout",
          "text": [
            "56 6 9 3 5 8  58  56 32\n",
            "32 56 58 8 5 3 9 6 56 "
          ]
        }
      ]
    },
    {
      "cell_type": "code",
      "source": [
        "#15.Code to find and remove dublicate while mainting orignal order of list\n",
        "a = input(str())\n",
        "a = list(map(int, a.split()))\n",
        "b = []\n",
        "for i in a:\n",
        "    if i not in b:\n",
        "        b.append(i)\n",
        "print(b)"
      ],
      "metadata": {
        "colab": {
          "base_uri": "https://localhost:8080/"
        },
        "id": "WU9_4r25jSmo",
        "outputId": "08bfb249-6d74-4411-ba16-9bbd27f2ae8d"
      },
      "execution_count": null,
      "outputs": [
        {
          "output_type": "stream",
          "name": "stdout",
          "text": [
            "1 65 3 89 3 89 65 1\n",
            "[1, 65, 3, 89]\n"
          ]
        }
      ]
    },
    {
      "cell_type": "code",
      "source": [
        "# 16. Code to identify wether its sorted (either ascending or decending) or  not\n",
        "a = input(str())\n",
        "a = list(map(int, a.split()))\n",
        "if a == sorted(a) or a == sorted(a, reverse = True):\n",
        "  print(\"True\")\n",
        "else:\n",
        "  print(\"False\")\n",
        "\n"
      ],
      "metadata": {
        "colab": {
          "base_uri": "https://localhost:8080/"
        },
        "id": "j6Eyi2sBAl1T",
        "outputId": "5fdc21e1-63d7-4d87-85c2-ef60b248b8d5"
      },
      "execution_count": null,
      "outputs": [
        {
          "output_type": "stream",
          "name": "stdout",
          "text": [
            "9 8 7 6 5 4 3 2 1 \n",
            "True\n"
          ]
        }
      ]
    },
    {
      "cell_type": "code",
      "source": [
        "# 17. Code to merge two sorted list into one\n",
        "a = input(str())\n",
        "b = input(str())\n",
        "a = list(map(int, a.split()))\n",
        "b = list(map(int, b.split()))\n",
        "c = a + b\n",
        "c.sort()\n",
        "print(c)"
      ],
      "metadata": {
        "id": "FEzNbcxQC5rH",
        "colab": {
          "base_uri": "https://localhost:8080/"
        },
        "outputId": "6b413d48-2b03-466c-bf36-2792116e5513"
      },
      "execution_count": null,
      "outputs": [
        {
          "output_type": "stream",
          "name": "stdout",
          "text": [
            "5 6  7 9\n",
            "1 2 3 4 5\n",
            "[1, 2, 3, 4, 5, 5, 6, 7, 9]\n"
          ]
        }
      ]
    },
    {
      "cell_type": "code",
      "source": [
        "# 18. Code to find intersection of two list\n",
        "a = input(str())\n",
        "b = input(str())\n",
        "a = list(map(int, a.split()))\n",
        "b = list(map(int, b.split()))\n",
        "c = []\n",
        "for i in a:\n",
        "  if i in b:\n",
        "    c.append(i)\n",
        "print(c)"
      ],
      "metadata": {
        "colab": {
          "base_uri": "https://localhost:8080/"
        },
        "id": "GDDPzsdVOt4h",
        "outputId": "7c39ff9f-f0e2-45e6-b474-0c63c330e236"
      },
      "execution_count": null,
      "outputs": [
        {
          "output_type": "stream",
          "name": "stdout",
          "text": [
            "1 2 3 4 5 \n",
            "5 6 7 8 9\n",
            "[5]\n"
          ]
        }
      ]
    },
    {
      "cell_type": "code",
      "source": [
        "# 19. Code to find union of two list without dublicate\n",
        "a = input(str())\n",
        "b = input(str())\n",
        "a = list(map(int, a.split()))\n",
        "b = list(map(int, b.split()))\n",
        "c = a + b\n",
        "d = []\n",
        "for i in c:\n",
        "  if i not in d:\n",
        "    d.append(i)\n",
        "print(d)"
      ],
      "metadata": {
        "colab": {
          "base_uri": "https://localhost:8080/"
        },
        "id": "Y23ZK8huPA4B",
        "outputId": "80ba931e-5be6-4bac-df67-528cfbfd69db"
      },
      "execution_count": null,
      "outputs": [
        {
          "output_type": "stream",
          "name": "stdout",
          "text": [
            "1 2 3 4 5 6\n",
            "5 6 7 8 9\n",
            "[1, 2, 3, 4, 5, 6, 7, 8, 9]\n"
          ]
        }
      ]
    },
    {
      "cell_type": "code",
      "source": [
        "# 20. Code to shuffle a list without using buildin shuffle function\n",
        "a = input(str())\n",
        "a = list(map(int, a.split()))\n",
        "import random\n",
        "def manual_shuffle(a):\n",
        "  length = len(a)\n",
        "  for i in range(length):\n",
        "    random_index = random.randint(0,length-1)\n",
        "    a[i],a[random_index] = a[random_index],a[i]\n",
        "  return a\n",
        "print(manual_shuffle(a))\n"
      ],
      "metadata": {
        "colab": {
          "base_uri": "https://localhost:8080/"
        },
        "id": "0EczAegVPqA9",
        "outputId": "5036f466-5ad0-4531-a0f2-7674b90020bb"
      },
      "execution_count": null,
      "outputs": [
        {
          "output_type": "stream",
          "name": "stdout",
          "text": [
            "4 5 6 3 2 5 6 65\n",
            "[3, 5, 2, 5, 6, 65, 6, 4]\n"
          ]
        }
      ]
    },
    {
      "cell_type": "code",
      "source": [
        "# 21. Code which takes two tuple and return a tuple containg common elements\n",
        "a = input(str())\n",
        "b = input(str())\n",
        "a = tuple(map(int, a.split()))\n",
        "b = tuple(map(int, b.split()))\n",
        "c = []\n",
        "for i in a:\n",
        "  if i in b:\n",
        "    c.append(i)\n",
        "print(tuple(c))"
      ],
      "metadata": {
        "colab": {
          "base_uri": "https://localhost:8080/"
        },
        "id": "QiDJqYcSWnh2",
        "outputId": "60fd9583-4b67-428f-96dd-f333dbb42bdf"
      },
      "execution_count": null,
      "outputs": [
        {
          "output_type": "stream",
          "name": "stdout",
          "text": [
            "5 6 3 5 9 \n",
            "6 5 3  5 9 \n",
            "(5, 6, 3, 5, 9)\n"
          ]
        }
      ]
    },
    {
      "cell_type": "code",
      "source": [
        "# 22. Fining intersection of two set with user input as coma seprated\n",
        "a = input(str())\n",
        "b = input(str())\n",
        "a = set(map(int, a.split(\",\")))\n",
        "b = set(map(int, b.split(\",\")))\n",
        "c = a.intersection(b)\n",
        "print(c)"
      ],
      "metadata": {
        "colab": {
          "base_uri": "https://localhost:8080/"
        },
        "id": "XOEe4Rk3YpWp",
        "outputId": "3c17d0d7-a3bd-4e71-b955-a0d8ea6f3a44"
      },
      "execution_count": null,
      "outputs": [
        {
          "output_type": "stream",
          "name": "stdout",
          "text": [
            "1,2,3\n",
            "3,4,5\n",
            "{3}\n"
          ]
        }
      ]
    },
    {
      "cell_type": "code",
      "source": [
        "# 23. Code to concatenate two tuple\n",
        "a = input(str())\n",
        "b = input(str())\n",
        "a = tuple(map(int, a.split()))\n",
        "b = tuple(map(int, b.split()))\n",
        "c = a + b\n",
        "print(c)"
      ],
      "metadata": {
        "colab": {
          "base_uri": "https://localhost:8080/"
        },
        "id": "bisMS0mAZVqX",
        "outputId": "ee855fa5-5a07-446e-fdcf-9150993a09e2"
      },
      "execution_count": null,
      "outputs": [
        {
          "output_type": "stream",
          "name": "stdout",
          "text": [
            "1 2 3 4\n",
            "5 6 7 8 9\n",
            "(1, 2, 3, 4, 5, 6, 7, 8, 9)\n"
          ]
        }
      ]
    },
    {
      "cell_type": "code",
      "source": [
        "# 24. Code to print element which are not present in 2nd string\n",
        "a = input(str())\n",
        "b = input(str())\n",
        "a = set(map(int, a.split()))\n",
        "b = set(map(int, b.split()))\n",
        "c = a.difference(b)\n",
        "print(c)"
      ],
      "metadata": {
        "colab": {
          "base_uri": "https://localhost:8080/"
        },
        "id": "8XiofezuawoA",
        "outputId": "1f853c34-faec-476d-badf-318a6abdc31f"
      },
      "execution_count": null,
      "outputs": [
        {
          "output_type": "stream",
          "name": "stdout",
          "text": [
            " 5 6 3 2 4 8\n",
            "1 2 5 6 9 8 7 4 5\n",
            "{3}\n"
          ]
        }
      ]
    },
    {
      "cell_type": "code",
      "source": [
        "# 25. Code that take tuple and two intiger as input, the function should return new tuple containg elements from orignal tuple with specific range of indices\n",
        "a = input(str())\n",
        "b = int(input())\n",
        "c = int(input())\n",
        "a = tuple(map(int, a.split()))\n",
        "d = a[b:c+1]\n",
        "print(d)"
      ],
      "metadata": {
        "colab": {
          "base_uri": "https://localhost:8080/"
        },
        "id": "y2dEeCjAOmsf",
        "outputId": "b1b7330b-527e-4604-ff68-512aa3044f6e"
      },
      "execution_count": null,
      "outputs": [
        {
          "output_type": "stream",
          "name": "stdout",
          "text": [
            "1 2 3 6 5 4 7 8 9\n",
            "2 \n",
            "7\n",
            "(3, 6, 5, 4, 7, 8)\n"
          ]
        }
      ]
    },
    {
      "cell_type": "code",
      "source": [
        "# 26. Code that prompt user to input two sets of charecters, then print the union of them\n",
        "a = set(input())\n",
        "b = set(input())\n",
        "c = a.union(b)\n",
        "print(c)\n"
      ],
      "metadata": {
        "colab": {
          "base_uri": "https://localhost:8080/"
        },
        "id": "T9nsAO6JQEAz",
        "outputId": "88468faf-d5f0-455d-9d21-2529e4402851"
      },
      "execution_count": null,
      "outputs": [
        {
          "output_type": "stream",
          "name": "stdout",
          "text": [
            "awrhasb\n",
            "afhetaet\n",
            "{'s', 'f', 'a', 'r', 'w', 't', 'h', 'b', 'e'}\n"
          ]
        }
      ]
    },
    {
      "cell_type": "code",
      "source": [
        "# 27. Finding maximum and minimum from tuple using tuple unpacking\n",
        "a = input(str())\n",
        "a = tuple(map(int, a.split()))\n",
        "max_value = max(a)\n",
        "min_value = min(a)\n",
        "print(max_value,min_value)"
      ],
      "metadata": {
        "id": "YZz-DCrQQqZx",
        "colab": {
          "base_uri": "https://localhost:8080/"
        },
        "outputId": "06e69e14-ba9e-42a5-bb9d-4f0edbd80631"
      },
      "execution_count": 1,
      "outputs": [
        {
          "output_type": "stream",
          "name": "stdout",
          "text": [
            "1 2 3  8 98 6 8 \n",
            "98 1\n"
          ]
        }
      ]
    },
    {
      "cell_type": "code",
      "source": [
        "# 28. Finding Union, intersection and Difference of two sets\n",
        "a = set(input())\n",
        "b = set(input())\n",
        "print(a.union(b))\n",
        "print(a.intersection(b))\n",
        "print(a.difference(b))"
      ],
      "metadata": {
        "colab": {
          "base_uri": "https://localhost:8080/"
        },
        "id": "IYTpA86PhLLq",
        "outputId": "67eecf15-7ef0-46a0-8193-c184d76fcaa7"
      },
      "execution_count": 2,
      "outputs": [
        {
          "output_type": "stream",
          "name": "stdout",
          "text": [
            "1 2 3 5 9 +\n",
            "1 56498 98 \n",
            "{'5', '8', ' ', '4', '3', '6', '9', '2', '1', '+'}\n",
            "{'5', '1', '9', ' '}\n",
            "{'3', '2', '+'}\n"
          ]
        }
      ]
    },
    {
      "cell_type": "code",
      "source": [
        "# 29. Finding occurence of number in tuple\n",
        "a = input(str())\n",
        "a = tuple(map(int, a.split()))\n",
        "b = int(input())\n",
        "count = 0\n",
        "for i in a:\n",
        "  if i == b:\n",
        "    count += 1\n",
        "print(count)"
      ],
      "metadata": {
        "colab": {
          "base_uri": "https://localhost:8080/"
        },
        "id": "SDVuM8fmjItP",
        "outputId": "7dce2159-4c51-4353-d93b-85a93a250ba8"
      },
      "execution_count": 3,
      "outputs": [
        {
          "output_type": "stream",
          "name": "stdout",
          "text": [
            "1 2 3 52  5 5 5 8 9 5 5 5 5\n",
            "5\n",
            "7\n"
          ]
        }
      ]
    },
    {
      "cell_type": "code",
      "source": [
        "# 30. Finding symmetric difference of two sets\n",
        "a = set(input())\n",
        "b = set(input())\n",
        "c = a.symmetric_difference(b)\n",
        "print(c)"
      ],
      "metadata": {
        "colab": {
          "base_uri": "https://localhost:8080/"
        },
        "id": "v7wdOgy5jy_G",
        "outputId": "15b8cd5f-c609-4041-c145-0485f4abfdf1"
      },
      "execution_count": 4,
      "outputs": [
        {
          "output_type": "stream",
          "name": "stdout",
          "text": [
            "1 2 3 4 5 6\n",
            "5 6 7 8 9\n",
            "{'8', '4', '3', '7', '9', '2', '1'}\n"
          ]
        }
      ]
    },
    {
      "cell_type": "code",
      "source": [
        "# 31. Code to take list of words as input and return a dictionary  as key are unique words and valure are frequency of those words\n",
        "a = input(str())\n",
        "a = a.split()\n",
        "d = {}\n",
        "for i in a:\n",
        "  if i in d:\n",
        "    d[i] += 1\n",
        "  else:\n",
        "    d[i] = 1\n",
        "print(d)"
      ],
      "metadata": {
        "colab": {
          "base_uri": "https://localhost:8080/"
        },
        "id": "AbHJP592mtPB",
        "outputId": "2b46d4c3-8af7-4480-bf8a-22a3df6dd8b0"
      },
      "execution_count": 5,
      "outputs": [
        {
          "output_type": "stream",
          "name": "stdout",
          "text": [
            "Its a sunny day after a long \n",
            "{'Its': 1, 'a': 2, 'sunny': 1, 'day': 1, 'after': 1, 'long': 1}\n"
          ]
        }
      ]
    },
    {
      "cell_type": "code",
      "source": [
        "# 32. Code which take two dictionary anf then merge them into one\n",
        "\n",
        "def merge_dictionaries(dict1, dict2):\n",
        "\n",
        "    merged_dict = dict1.copy()\n",
        "\n",
        "\n",
        "    for key, value in dict2.items():\n",
        "\n",
        "        if key in merged_dict:\n",
        "            merged_dict[key] += value\n",
        "        else:\n",
        "\n",
        "            merged_dict[key] = value\n",
        "\n",
        "    return merged_dict\n",
        "\n",
        "dict1 = eval(input(\"Enter the first dictionary (e.g., {'a': 1, 'b': 2}): \"))\n",
        "\n",
        "dict2 = eval(input(\"Enter the second dictionary (e.g., {'c': 3, 'd': 4}): \"))\n",
        "\n",
        "merged_dict = merge_dictionaries(dict1, dict2)\n",
        "\n",
        "print(\"Merged Dictionary:\", merged_dict)\n"
      ],
      "metadata": {
        "colab": {
          "base_uri": "https://localhost:8080/"
        },
        "id": "BCj610n4nP4J",
        "outputId": "2257944d-f900-4931-ebb0-31a677b79d08"
      },
      "execution_count": 13,
      "outputs": [
        {
          "output_type": "stream",
          "name": "stdout",
          "text": [
            "Enter the first dictionary (e.g., {'a': 1, 'b': 2}): {'a':1, 'b':4}\n",
            "Enter the second dictionary (e.g., {'c': 3, 'd': 4}): {'b':5}\n",
            "Merged Dictionary: {'a': 1, 'b': 9}\n"
          ]
        }
      ]
    },
    {
      "cell_type": "code",
      "source": [
        "#33. Code to acces the value of nested disctionary, function should take dictionary and list of key as input from user and return corresponding values\n",
        "\n",
        "def get_nested_value(d, keys):\n",
        "    for key in keys:\n",
        "        if isinstance(d, dict) and key in d:\n",
        "            d = d[key]\n",
        "        else:\n",
        "            return None\n",
        "    return d\n",
        "\n",
        "nested_dict = {'a': {'b': {'c': {'d': 42}}}}\n",
        "keys = ['a', 'b', 'c', 'd']\n",
        "value = get_nested_value(nested_dict, keys)\n",
        "print(value)\n"
      ],
      "metadata": {
        "colab": {
          "base_uri": "https://localhost:8080/"
        },
        "id": "Jf03fPIvn-yo",
        "outputId": "81266171-b6be-4ef5-9a92-0c3fc43d469e"
      },
      "execution_count": 17,
      "outputs": [
        {
          "output_type": "stream",
          "name": "stdout",
          "text": [
            "42\n"
          ]
        }
      ]
    },
    {
      "cell_type": "code",
      "source": [
        "# 34. def sort_dict_by_values(d, ascending=True):\n",
        "\n",
        "def sort_dict_by_values(d, ascending=True):\n",
        "    sorted_items = sorted(d.items(), key=lambda item: item[1], reverse=not ascending)\n",
        "    return dict(sorted_items)\n",
        "\n",
        "unsorted_dict = {'apple': 2, 'banana': 1, 'cherry': 3}\n",
        "sorted_dict_asc = sort_dict_by_values(unsorted_dict, ascending=True)\n",
        "sorted_dict_desc = sort_dict_by_values(unsorted_dict, ascending=False)\n",
        "\n",
        "print(\"Ascending:\", sorted_dict_asc)\n",
        "print(\"Descending:\", sorted_dict_desc)\n"
      ],
      "metadata": {
        "colab": {
          "base_uri": "https://localhost:8080/"
        },
        "id": "hn0unG4Gv5B-",
        "outputId": "a7c2fa36-d88f-478a-dd4f-8726d928dde6"
      },
      "execution_count": 18,
      "outputs": [
        {
          "output_type": "stream",
          "name": "stdout",
          "text": [
            "Ascending: {'banana': 1, 'apple': 2, 'cherry': 3}\n",
            "Descending: {'cherry': 3, 'apple': 2, 'banana': 1}\n"
          ]
        }
      ]
    },
    {
      "cell_type": "code",
      "source": [
        "# 35. Code that inverts dictionary, swapping keys and values\n",
        "\n",
        "def invert_dict(d):\n",
        "    inverted_dict = {}\n",
        "    for key, value in d.items():\n",
        "        if value in inverted_dict:\n",
        "            inverted_dict[value].append(key)\n",
        "            inverted_dict[value].sort()\n",
        "        else:\n",
        "            inverted_dict[value] = [key]\n",
        "\n",
        "    return inverted_dict\n",
        "\n",
        "original_dict = {'a': 1, 'b': 2, 'c': 1, 'd': 2, 'e': 3}\n",
        "inverted_dict = invert_dict(original_dict)\n",
        "\n",
        "print(inverted_dict)\n",
        "\n"
      ],
      "metadata": {
        "colab": {
          "base_uri": "https://localhost:8080/"
        },
        "id": "4NsAlKAS06Al",
        "outputId": "9795acf4-330d-4f0f-d86f-cab1eef95783"
      },
      "execution_count": 20,
      "outputs": [
        {
          "output_type": "stream",
          "name": "stdout",
          "text": [
            "{1: ['a', 'c'], 2: ['b', 'd'], 3: ['e']}\n"
          ]
        }
      ]
    },
    {
      "cell_type": "code",
      "source": [],
      "metadata": {
        "id": "gWS24P-A2QWG"
      },
      "execution_count": null,
      "outputs": []
    }
  ]
}