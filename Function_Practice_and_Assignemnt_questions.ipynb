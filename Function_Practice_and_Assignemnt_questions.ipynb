{
  "nbformat": 4,
  "nbformat_minor": 0,
  "metadata": {
    "colab": {
      "provenance": [],
      "authorship_tag": "ABX9TyNOIx36zGRCiSzntsVKMFDi",
      "include_colab_link": true
    },
    "kernelspec": {
      "name": "python3",
      "display_name": "Python 3"
    },
    "language_info": {
      "name": "python"
    }
  },
  "cells": [
    {
      "cell_type": "markdown",
      "metadata": {
        "id": "view-in-github",
        "colab_type": "text"
      },
      "source": [
        "<a href=\"https://colab.research.google.com/github/niikkkhiil/niikkkhiil/blob/main/Function_Practice_and_Assignemnt_questions.ipynb\" target=\"_parent\"><img src=\"https://colab.research.google.com/assets/colab-badge.svg\" alt=\"Open In Colab\"/></a>"
      ]
    },
    {
      "cell_type": "markdown",
      "source": [
        "1. Function is stand alone block of code that is not associated with an object or class. It can define by def keyword and can be call by its name.\n",
        "\n",
        "```\n",
        "def my_function():\n",
        "    print(\"Hello there\")\n",
        "\n",
        "my_function()  \n",
        "\n",
        "```\n",
        "\n",
        "A method is a function that is associated with object. It operates on data containe within the object and is called using object or class it belongs to.\n",
        "\n",
        "\n",
        "```\n",
        "class MyClass:\n",
        "    def my_method(self):\n",
        "        print(\"This is a method\")\n",
        "\n",
        "obj = MyClass()\n",
        "obj.my_method()\n",
        "\n",
        "```\n",
        "\n",
        "\n",
        "\n"
      ],
      "metadata": {
        "id": "tnX9urF4f1Yj"
      }
    },
    {
      "cell_type": "markdown",
      "source": [
        "2. In Python, parameters and arguments are terms related to functions and their input. Though often used interchangeably, they refer to different things. Here's a breakdown of the concept:\n",
        "\n",
        "**Parameters** are the variables listed inside the parentheses in the function definition. They act as placeholders that define what kind of input a function can accept.\n",
        "\n",
        "\n",
        "```\n",
        "def greet(name):  # 'name' is a parameter\n",
        "    print(f\"Hello, {name}!\")\n",
        "\n",
        "```\n",
        "\n",
        "**Arguments** are the actual values or data you pass to a function when calling it. These values get assigned to the corresponding parameters in the function definition.\n",
        "\n",
        "\n",
        "```\n",
        "greet(\"Alice\")  # 'Alice' is the argument\n",
        "\n",
        "```\n",
        "\n",
        "\n",
        "\n",
        "\n"
      ],
      "metadata": {
        "id": "u0EdBt_4tmWM"
      }
    },
    {
      "cell_type": "markdown",
      "source": [
        "3. **Standard Function Definition and Call**\n",
        "The most basic way to define a function is using the def keyword, followed by the function name, parameters, and a block of code.\n",
        "\n",
        "\n",
        "```\n",
        "def greet(name):\n",
        "    return f\"Hello, {name}!\"\n",
        "\n",
        "print(greet(\"Alice\"))  \n",
        "```\n",
        "**Functions with Default Arguments**\n",
        "You can define default values for function parameters. If no argument is passed when calling the function, the default value is used.\n",
        "\n",
        "\n",
        "\n",
        "```\n",
        "def greet(name=\"Guest\"):\n",
        "    return f\"Hello, {name}!\"\n",
        "print(greet(\"Alice\"))  \n",
        "print(greet())  \n",
        "```\n",
        "\n",
        "**Lambda Functions**\n",
        "A lambda function is a small, anonymous function defined using the lambda keyword. It can have any number of arguments but only one expression.\n",
        "\n",
        "```\n",
        "add = lambda x, y: x + y\n",
        "print(add(5, 3))  #\n",
        "\n",
        "```\n",
        " **Using *args (Arbitrary Arguments)**\n",
        "Functions can accept a variable number of arguments using *args.\n",
        "\n",
        "\n",
        "```\n",
        "def greet(*names):\n",
        "    return [f\"Hello, {name}!\" for name in names]\n",
        "\n",
        "print(greet(\"Alice\", \"Bob\", \"Charlie\"))\n",
        "\n",
        "```\n",
        "\n",
        "**Nested Functions**:\n",
        "Functions can be defined inside other functions.\n",
        "```\n",
        "def outer_function(name):\n",
        "    def inner_function():\n",
        "        return f\"Hello, {name}!\"\n",
        "    return inner_function()\n",
        "print(outer_function(\"Alice\"))\n",
        "```\n",
        "\n",
        "**Decorator Functions**\n",
        "A decorator is a function that takes another function and extends its behavior.\n",
        "```\n",
        "def uppercase_decorator(func):\n",
        "    def wrapper(name):\n",
        "        return func(name).upper()\n",
        "    return wrapper\n",
        "\n",
        "@uppercase_decorator\n",
        "def greet(name):\n",
        "    return f\"Hello, {name}!\"\n",
        "\n",
        "print(greet(\"Alice\"))\n",
        "```\n",
        "\n",
        "\n",
        "\n",
        "\n"
      ],
      "metadata": {
        "id": "HXgaz9hMxSuI"
      }
    },
    {
      "cell_type": "markdown",
      "source": [
        "4. In Python, the return statement is used inside a function to exit the function and send back a value to the caller. Here's the key purpose of the return statement:\n",
        "\n",
        "*   Exit the function: When the return statement is executed, the function\n",
        "immediately stops, and control is passed back to the calling code.\n",
        "*   Return a value: The return statement can return any value, such as numbers, strings, lists, dictionaries, or even other functions. The calling code can then use this returned value for further operations.\n",
        "\n",
        "\n",
        "\n",
        "```\n",
        "def add_numbers(a, b):\n",
        "    return a + b\n",
        "\n",
        "result = add_numbers(5, 3)\n",
        "print(result)  \n",
        "```\n",
        "\n",
        "\n",
        "\n",
        "\n"
      ],
      "metadata": {
        "id": "KuuDth7NvdwV"
      }
    },
    {
      "cell_type": "markdown",
      "source": [
        "5. In Python, iterators and iterables are closely related but have distinct roles. Here’s an explanation of both and how they differ:\n",
        "\n",
        " **Iterable:**\n",
        "An iterable is any Python object that can return an iterator. It is an object that can be looped over (i.e., iterated through). Common examples of iterables are lists, tuples, dictionaries, sets, and strings. These objects implement the __iter__() method, which returns an iterator.\n",
        "\n",
        "  Examples of iterable objects:\n",
        "\n",
        "  List: [1, 2, 3]\n",
        "Tuple: (1, 2, 3)\n",
        "String: \"hello\"\n",
        "You can use an iterable in a for loop, or convert it into an iterator using the iter() function.\n",
        "\n",
        " **Iterator:**\n",
        "An iterator is an object that represents a stream of data. It is an object that allows you to traverse through all the elements of an iterable, one element at a time. Iterators are objects with a __next__() method, which returns the next item in the sequence until there are no more items, at which point it raises a StopIteration exception.\n",
        "\n",
        "  In short:\n",
        "\n",
        "  An **iterable** is a container (like a list or string) that can return an iterator.\n",
        "\n",
        "  An **iterator** is the object that actually iterates over the elements of an iterable."
      ],
      "metadata": {
        "id": "R7NOTSVz43KL"
      }
    },
    {
      "cell_type": "markdown",
      "source": [
        "6. In Python, a generator is a special type of iterator that allows you to iterate over a sequence of values lazily, meaning it generates values on the fly instead of storing them in memory all at once. Generators are especially useful when working with large datasets or streams of data where generating all values at once would be inefficient or impossible due to memory constraints.\n",
        "\n",
        "  A generator is defined just like a normal function, but it uses yield instead of return\n",
        "\n",
        "\n",
        "```\n",
        "def count_up_to(max):\n",
        "    count = 1\n",
        "    while count <= max:\n",
        "        yield count  \n",
        "        count += 1\n",
        "ounter = count_up_to(3)\n",
        "print(next(counter))\n",
        "print(next(counter))  \n",
        "print(next(counter))  \n",
        "\n",
        "```\n",
        "\n"
      ],
      "metadata": {
        "id": "vzLIZLmZDAla"
      }
    },
    {
      "cell_type": "markdown",
      "source": [
        "7. Using generators in Python offers several advantages over regular functions, particularly when dealing with large datasets or streams of data. Below are the key benefits of using generators:\n",
        "\n",
        " **Memory Efficiency:**\n",
        "Generators produce items on-the-fly using lazy evaluation, meaning they generate each value only when it is needed. This makes them far more memory-efficient than regular functions that return large data structures, which require all data to be stored in memory at once.\n",
        "\n",
        "```\n",
        "\n",
        "def count_up_to(max):\n",
        "    count = 1\n",
        "    while count <= max:\n",
        "        yield count\n",
        "        count += 1\n",
        "def count_up_to_list(max):\n",
        "    return list(range(1, max + 1))\n",
        "\n",
        "```\n",
        "   **Faster Execution for Large Data:**\n",
        "  Since generators yield values one at a time, they can start returning values immediately, instead of waiting to create and return the entire sequence. This is especially useful when dealing with large datasets or infinite streams of data.\n",
        "\n",
        "  **Simplified Code for Iterating Large Data:**\n",
        "Generators can simplify code where you need to loop over large datasets or streams of data, as they provide an easy way to create iterators without manually tracking the state of iteration.\n",
        "\n",
        "\n",
        "```\n",
        "def fibonacci():\n",
        "    a, b = 0, 1\n",
        "    while True:\n",
        "        yield a\n",
        "        a, b = b, a + b\n",
        "\n",
        "for num in fibonacci():\n",
        "    if num > 100:\n",
        "        break\n",
        "    print(num)\n",
        "```\n",
        "**State Preservation:** Automatically preserve local variables and the point of execution between calls.\n",
        "\n"
      ],
      "metadata": {
        "id": "NG4PIV86IwvO"
      }
    },
    {
      "cell_type": "markdown",
      "source": [
        "8. A lambda function in Python is a small, anonymous function defined using the lambda keyword. Unlike regular functions created with the def keyword, a lambda function is typically used for simple operations that can be expressed in a single line of code.\n",
        "\n",
        "```\n",
        "def add(x, y):\n",
        "    return x + y\n",
        "add_lambda = lambda x, y: x + y\n",
        "print(add_lambda(5, 3))  # Output: 8\n",
        "\n",
        "```\n",
        "**As an argument to higher-order functions:**\n",
        "Lambda functions are often used with built-in Python functions like map(), filter(), and sorted(), which take another function as an argument.\n",
        "map(): Applies a function to each item of an iterable (like a list).\n",
        "```\n",
        "numbers = [1, 2, 3, 4]\n",
        "squares = list(map(lambda x: x ** 2, numbers))\n",
        "print(squares)  # Output: [1, 4, 9, 16]\n",
        "```\n",
        "\n",
        "**In short-term use cases:**\n",
        "Lambda functions are great for small, throwaway functions that you don't intend to reuse later. Instead of defining a whole def block, you can use a lambda for clarity and brevity.\n",
        "\n"
      ],
      "metadata": {
        "id": "5j9XUbGXOJdf"
      }
    },
    {
      "cell_type": "markdown",
      "source": [
        "9. The map() function in Python is used to apply a given function to each item in an iterable (like a list, tuple, or string) and return an iterator that contains the results. It’s a higher-order function that takes two arguments: a function and an iterable, and it efficiently transforms the elements of the iterable using the function.\n",
        "\n",
        "\n",
        "```\n",
        "def square(x):\n",
        "    return x ** 2\n",
        "\n",
        "numbers = [1, 2, 3, 4, 5]\n",
        "squared_numbers = map(square, numbers)\n",
        "print(list(squared_numbers))  # Output: [1, 4, 9, 16, 25]\n",
        "\n",
        "```\n",
        "**Transforming Data:**\n",
        "\n",
        "The primary purpose of map() is to transform the items in an iterable using a function. This is useful when you want to apply the same transformation to every element of a list or another iterable.\n",
        "\n",
        "\n",
        "```\n",
        "words = ['apple', 'banana', 'cherry']\n",
        "uppercased_words = map(str.upper, words)\n",
        "print(list(uppercased_words))  # Output: ['APPLE', 'BANANA', 'CHERRY']\n",
        "\n",
        "```\n",
        "\n",
        "**Processing Multiple Iterables in Parallel:**\n",
        "\n",
        "When you need to apply a function to corresponding elements from multiple iterables, map() makes this process easier.\n",
        "\n",
        "**Memory Efficiency:**\n",
        "\n",
        "Since map() returns an iterator, it processes one item at a time rather than creating a list of transformed values all at once. This makes it more memory-efficient when working with large datasets.\n",
        "\n",
        "**Replacing Loops:**\n",
        "In situations where you might otherwise use a for loop to iterate over a list and apply a transformation to each element, map() provides a more concise and potentially faster alternative.\n",
        "\n",
        "```\n",
        "squared_numbers = []\n",
        "for num in numbers:\n",
        "    squared_numbers.append(num ** 2)\n",
        "squared_numbers = map(lambda x: x ** 2, numbers)\n",
        "```\n",
        "\n",
        "\n",
        "\n"
      ],
      "metadata": {
        "id": "Ct32L3qhR_qT"
      }
    },
    {
      "cell_type": "markdown",
      "source": [
        "10. The map(), reduce(), and filter() functions in Python are all higher-order functions used to process iterables like lists, tuples, and more. They each serve different purposes and are used in different scenarios.\n",
        "\n",
        " **map() Function:**\n",
        "The map() function applies a given function to each element in an iterable and returns an iterator containing the transformed elements.\n",
        "\n",
        "\n",
        "```\n",
        "numbers = [1, 2, 3, 4]\n",
        "squared_numbers = map(lambda x: x ** 2, numbers)\n",
        "print(list(squared_numbers))  \n",
        "\n",
        "```\n",
        "\n",
        "**filter() Function:**\n",
        "The filter() function filters elements from an iterable based on a function that returns either True or False. It returns an iterator with only the elements that satisfy the condition (i.e., for which the function returns True).\n",
        "\n",
        "```\n",
        "numbers = [1, 2, 3, 4, 5, 6]\n",
        "even_numbers = filter(lambda x: x % 2 == 0, numbers)\n",
        "print(list(even_numbers))  \n",
        "\n",
        "```\n",
        "\n",
        "**reduce() Function:**\n",
        "The reduce() function applies a function cumulatively to the items in an iterable, reducing it to a single value. This function is part of the functools module in Python 3.\n",
        "```\n",
        "from functools import reduce\n",
        "numbers = [1, 2, 3, 4]\n",
        "total_sum = reduce(lambda x, y: x + y, numbers)\n",
        "print(total_sum)  \n",
        "```\n",
        "\n",
        "\n",
        "\n",
        "\n",
        "\n",
        "\n"
      ],
      "metadata": {
        "id": "rIh41TDCZ7WC"
      }
    },
    {
      "cell_type": "markdown",
      "source": [
        "**Practical** **Question**"
      ],
      "metadata": {
        "id": "P6hSiJxhdSfX"
      }
    },
    {
      "cell_type": "code",
      "execution_count": 1,
      "metadata": {
        "id": "JokSPAqvejsi",
        "colab": {
          "base_uri": "https://localhost:8080/"
        },
        "outputId": "89dbc67a-a16d-481a-b518-17c9bdf51a9d"
      },
      "outputs": [
        {
          "output_type": "stream",
          "name": "stdout",
          "text": [
            "12\n"
          ]
        }
      ],
      "source": [
        "#1.\n",
        "def sum_of_even_numbers(numbers):\n",
        "    return sum(num for num in numbers if num % 2 == 0)\n",
        "\n",
        "# Example usage:\n",
        "numbers_list = [1, 2, 3, 4, 5, 6]\n",
        "result = sum_of_even_numbers(numbers_list)\n",
        "print(result)"
      ]
    },
    {
      "cell_type": "code",
      "source": [
        "#2\n",
        "def reverse_string(s):\n",
        "    return s[::-1]\n",
        "\n",
        "# Example usage:\n",
        "input_string = \"Hello World\"\n",
        "reversed_string = reverse_string(input_string)\n",
        "print(reversed_string)\n",
        "\n"
      ],
      "metadata": {
        "id": "ymuTtND2nFll",
        "colab": {
          "base_uri": "https://localhost:8080/"
        },
        "outputId": "60759caf-1203-4d15-9d90-ffce0c499460"
      },
      "execution_count": 2,
      "outputs": [
        {
          "output_type": "stream",
          "name": "stdout",
          "text": [
            "dlroW olleH\n"
          ]
        }
      ]
    },
    {
      "cell_type": "code",
      "source": [
        "#3.\n",
        "def square_numbers(numbers):\n",
        "    return [num ** 2 for num in numbers]\n",
        "\n",
        "# Example usage:\n",
        "numbers_list = [1, 2, 3, 4, 5]\n",
        "squared_list = square_numbers(numbers_list)\n",
        "print(squared_list)"
      ],
      "metadata": {
        "colab": {
          "base_uri": "https://localhost:8080/"
        },
        "id": "zrUHZKy2IZfk",
        "outputId": "ae2c08ec-9531-4708-df17-083e6f9c9a4c"
      },
      "execution_count": 3,
      "outputs": [
        {
          "output_type": "stream",
          "name": "stdout",
          "text": [
            "[1, 4, 9, 16, 25]\n"
          ]
        }
      ]
    },
    {
      "cell_type": "code",
      "source": [
        "#4\n",
        "def is_prime(num):\n",
        "    if num < 2 or num > 200:\n",
        "        return False\n",
        "    if num == 2:\n",
        "        return True\n",
        "    if num % 2 == 0:\n",
        "        return False\n",
        "    for i in range(3, int(num**0.5) + 1, 2):\n",
        "        if num % i == 0:\n",
        "            return False\n",
        "    return True\n",
        "\n",
        "\n",
        "number = 56\n",
        "print(is_prime(number))"
      ],
      "metadata": {
        "colab": {
          "base_uri": "https://localhost:8080/"
        },
        "id": "MdHAwE3hKHEG",
        "outputId": "c17528bb-4225-46e0-c66d-94e2c105d085"
      },
      "execution_count": 4,
      "outputs": [
        {
          "output_type": "stream",
          "name": "stdout",
          "text": [
            "False\n"
          ]
        }
      ]
    },
    {
      "cell_type": "code",
      "source": [
        "#5.\n",
        "class FibonacciIterator:\n",
        "    def __init__(self, terms):\n",
        "        self.terms = terms\n",
        "        self.count = 0\n",
        "        self.a, self.b = 0, 1\n",
        "\n",
        "    def __iter__(self):\n",
        "        return self\n",
        "\n",
        "    def __next__(self):\n",
        "        if self.count >= self.terms:\n",
        "            raise StopIteration\n",
        "        else:\n",
        "            fib = self.a\n",
        "            self.a, self.b = self.b, self.a + self.b\n",
        "            self.count += 1\n",
        "            return fib\n",
        "\n",
        "\n",
        "fib_iter = FibonacciIterator(10)\n",
        "for number in fib_iter:\n",
        "    print(number)"
      ],
      "metadata": {
        "id": "1OvwM47yLfwY",
        "colab": {
          "base_uri": "https://localhost:8080/"
        },
        "outputId": "b8574575-3c53-4d4a-c0fc-6db159692d0d"
      },
      "execution_count": 5,
      "outputs": [
        {
          "output_type": "stream",
          "name": "stdout",
          "text": [
            "0\n",
            "1\n",
            "1\n",
            "2\n",
            "3\n",
            "5\n",
            "8\n",
            "13\n",
            "21\n",
            "34\n"
          ]
        }
      ]
    },
    {
      "cell_type": "code",
      "source": [
        "#6.\n",
        "def powers_of_2(max_exponent):\n",
        "    for exponent in range(max_exponent + 1):\n",
        "        yield 2 ** exponent\n",
        "\n",
        "for power in powers_of_2(5):\n",
        "    print(power)"
      ],
      "metadata": {
        "colab": {
          "base_uri": "https://localhost:8080/"
        },
        "id": "iukKrCMnFn6w",
        "outputId": "3722e0e7-6771-4e42-a64d-b7c9c14b959e"
      },
      "execution_count": 6,
      "outputs": [
        {
          "output_type": "stream",
          "name": "stdout",
          "text": [
            "1\n",
            "2\n",
            "4\n",
            "8\n",
            "16\n",
            "32\n"
          ]
        }
      ]
    },
    {
      "cell_type": "code",
      "source": [
        "#7\n",
        "def read_lines(filename):\n",
        "    try:\n",
        "        with open(filename, 'r') as file:\n",
        "            for line in file:\n",
        "                yield line.rstrip('\\n')\n",
        "    except FileNotFoundError:\n",
        "        print(f\"Error: The file '{filename}' was not found.\")\n",
        "\n",
        "\n",
        "for line in read_lines('example.txt'):\n",
        "    print(line)"
      ],
      "metadata": {
        "colab": {
          "base_uri": "https://localhost:8080/"
        },
        "id": "tA5hVozrFs-v",
        "outputId": "980113c6-df49-41cf-cf72-6143b2f16117"
      },
      "execution_count": 7,
      "outputs": [
        {
          "output_type": "stream",
          "name": "stdout",
          "text": [
            "Error: The file 'example.txt' was not found.\n"
          ]
        }
      ]
    },
    {
      "cell_type": "code",
      "source": [
        "#8.\n",
        "tuples_list = [(1, 3), (4, 1), (2, 2), (3, 4)]\n",
        "\n",
        "\n",
        "sorted_list = sorted(tuples_list, key=lambda x: x[1])\n",
        "\n",
        "print(sorted_list)"
      ],
      "metadata": {
        "colab": {
          "base_uri": "https://localhost:8080/"
        },
        "id": "H4e9HX3LFyw4",
        "outputId": "7d28fd46-f16a-439e-fc35-278b3c23717f"
      },
      "execution_count": 8,
      "outputs": [
        {
          "output_type": "stream",
          "name": "stdout",
          "text": [
            "[(4, 1), (2, 2), (1, 3), (3, 4)]\n"
          ]
        }
      ]
    },
    {
      "cell_type": "code",
      "source": [
        "#9\n",
        "def celsius_to_fahrenheit(celsius):\n",
        "    return (celsius * 9/5) + 32\n",
        "\n",
        "\n",
        "cel = [0, 10, 20, 30, 40]\n",
        "\n",
        "fa = list(map(celsius_to_fahrenheit, cel))\n",
        "\n",
        "\n",
        "print(fa)"
      ],
      "metadata": {
        "colab": {
          "base_uri": "https://localhost:8080/"
        },
        "id": "sGSvWX47F5Im",
        "outputId": "255d1c18-e27c-430b-de2e-94fc1b9ea6f3"
      },
      "execution_count": 9,
      "outputs": [
        {
          "output_type": "stream",
          "name": "stdout",
          "text": [
            "[32.0, 50.0, 68.0, 86.0, 104.0]\n"
          ]
        }
      ]
    },
    {
      "cell_type": "code",
      "source": [
        "#10.\n",
        "def remove_vowels(input_string):\n",
        "    vowels = \"aeiouAEIOU\"\n",
        "    return ''.join(filter(lambda char: char not in vowels, input_string))\n",
        "\n",
        "input_string = \"Hello, World!\"\n",
        "result = remove_vowels(input_string)\n",
        "print(result)"
      ],
      "metadata": {
        "colab": {
          "base_uri": "https://localhost:8080/"
        },
        "id": "QIbn-e_aGJ62",
        "outputId": "9ddb7360-223f-43fb-f2d6-755b7538638c"
      },
      "execution_count": 10,
      "outputs": [
        {
          "output_type": "stream",
          "name": "stdout",
          "text": [
            "Hll, Wrld!\n"
          ]
        }
      ]
    },
    {
      "cell_type": "code",
      "source": [
        "#11.\n",
        "orders = [\n",
        "    [34587, \"Learning Python, Mark Lutz\", 4, 40.95],\n",
        "    [98762, \"Programming Python, Mark Lutz\", 5, 56.80],\n",
        "    [77226, \"Head First Python, Paul Barry\", 3, 32.95],\n",
        "    [88112, \"Einführung in Python3, Bernd Klein\", 3, 24.99]\n",
        "]\n",
        "\n",
        "\n",
        "process_order = lambda order: (order[0], order[2] * order[3] if order[2] * order[3] >= 100 else order[2] * order[3] + 10)\n",
        "\n",
        "\n",
        "processed_orders = list(map(process_order, orders))\n",
        "\n",
        "\n",
        "print(processed_orders)"
      ],
      "metadata": {
        "colab": {
          "base_uri": "https://localhost:8080/"
        },
        "id": "t24_7F5DGPZR",
        "outputId": "00c1462e-c1f2-497a-d220-c41267e87c0a"
      },
      "execution_count": 11,
      "outputs": [
        {
          "output_type": "stream",
          "name": "stdout",
          "text": [
            "[(34587, 163.8), (98762, 284.0), (77226, 108.85000000000001), (88112, 84.97)]\n"
          ]
        }
      ]
    },
    {
      "cell_type": "code",
      "source": [],
      "metadata": {
        "id": "-R6kpF7rGU61"
      },
      "execution_count": null,
      "outputs": []
    }
  ]
}